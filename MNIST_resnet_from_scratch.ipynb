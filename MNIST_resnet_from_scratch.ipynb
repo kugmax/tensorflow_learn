{
  "nbformat": 4,
  "nbformat_minor": 0,
  "metadata": {
    "colab": {
      "name": "MNIST resnet from scratch.ipynb",
      "version": "0.3.2",
      "provenance": [],
      "collapsed_sections": [],
      "include_colab_link": true
    },
    "kernelspec": {
      "name": "python3",
      "display_name": "Python 3"
    }
  },
  "cells": [
    {
      "cell_type": "markdown",
      "metadata": {
        "id": "view-in-github",
        "colab_type": "text"
      },
      "source": [
        "<a href=\"https://colab.research.google.com/github/kugmax/tensorflow_learn/blob/master/MNIST_resnet_from_scratch.ipynb\" target=\"_parent\"><img src=\"https://colab.research.google.com/assets/colab-badge.svg\" alt=\"Open In Colab\"/></a>"
      ]
    },
    {
      "metadata": {
        "id": "ZcKPsu1vS_QH",
        "colab_type": "code",
        "colab": {}
      },
      "cell_type": "code",
      "source": [
        "import tensorflow as tf\n",
        "import tensorflow.contrib as tf_contrib\n",
        "import numpy as np\n",
        "from keras.datasets import mnist\n",
        "\n",
        "from tensorflow.python.framework import ops\n",
        "import matplotlib.pyplot as plt"
      ],
      "execution_count": 0,
      "outputs": []
    },
    {
      "metadata": {
        "id": "Xf22fODmTOw1",
        "colab_type": "code",
        "colab": {}
      },
      "cell_type": "code",
      "source": [
        "((train_x, train_y), (valid_x, valid_y)) = mnist.load_data()"
      ],
      "execution_count": 0,
      "outputs": []
    },
    {
      "metadata": {
        "id": "rHurOxItXIZP",
        "colab_type": "code",
        "colab": {
          "base_uri": "https://localhost:8080/",
          "height": 35
        },
        "outputId": "01935192-abbb-4fd9-ec93-75298f587085"
      },
      "cell_type": "code",
      "source": [
        "train_x.shape, train_y.shape, valid_x.shape, valid_y.shape"
      ],
      "execution_count": 40,
      "outputs": [
        {
          "output_type": "execute_result",
          "data": {
            "text/plain": [
              "((60000, 28, 28, 1), (60000,), (10000, 28, 28, 1), (10000,))"
            ]
          },
          "metadata": {
            "tags": []
          },
          "execution_count": 40
        }
      ]
    },
    {
      "metadata": {
        "id": "KnaMRWWiXc6c",
        "colab_type": "code",
        "colab": {}
      },
      "cell_type": "code",
      "source": [
        "def show_img(img, title=\"\"):\n",
        "    plt.imshow(img, cmap=\"gray\")\n",
        "    plt.title(title)"
      ],
      "execution_count": 0,
      "outputs": []
    },
    {
      "metadata": {
        "id": "_ODFB955Xx4k",
        "colab_type": "code",
        "colab": {
          "base_uri": "https://localhost:8080/",
          "height": 363
        },
        "outputId": "de9fa044-b879-4d0c-9cfb-dee9d706c23f"
      },
      "cell_type": "code",
      "source": [
        "show_img(train_x[55], train_y[55])"
      ],
      "execution_count": 14,
      "outputs": [
        {
          "output_type": "display_data",
          "data": {
            "image/png": "[encoded data removed]",
            "text/plain": [
              "<matplotlib.figure.Figure at 0x7fe7a800b518>"
            ]
          },
          "metadata": {
            "tags": []
          }
        }
      ]
    },
    {
      "metadata": {
        "id": "-94x_EdJX1h0",
        "colab_type": "code",
        "colab": {}
      },
      "cell_type": "code",
      "source": [
        ""
      ],
      "execution_count": 0,
      "outputs": []
    },
    {
      "metadata": {
        "id": "3_rg4FBNX62T",
        "colab_type": "code",
        "colab": {}
      },
      "cell_type": "code",
      "source": [
        "def normalize(X_train, X_test):\n",
        "\n",
        "  mean = np.mean(X_train, axis=(0, 1, 2, 3))\n",
        "  std = np.std(X_train, axis=(0, 1, 2, 3))\n",
        "\n",
        "  X_train = (X_train - mean) / std\n",
        "  X_test = (X_test - mean) / std\n",
        "\n",
        "  return (X_train, X_test)"
      ],
      "execution_count": 0,
      "outputs": []
    },
    {
      "metadata": {
        "id": "5fRnzrPTYkr6",
        "colab_type": "code",
        "colab": {}
      },
      "cell_type": "code",
      "source": [
        "train_x = np.expand_dims(train_x, axis=-1)\n",
        "valid_x = np.expand_dims(valid_x, axis=-1)"
      ],
      "execution_count": 0,
      "outputs": []
    },
    {
      "metadata": {
        "id": "NvduiYrqYFZj",
        "colab_type": "code",
        "colab": {}
      },
      "cell_type": "code",
      "source": [
        "(train_x, valid_x) = normalize(train_x, valid_x)"
      ],
      "execution_count": 0,
      "outputs": []
    },
    {
      "metadata": {
        "id": "vaBFyMO0ZV7O",
        "colab_type": "text"
      },
      "cell_type": "markdown",
      "source": [
        "Resnet block: </br>\n",
        "\n",
        "- with identity mappings bn - relu - conv - bn - relu - conv\n",
        "- I have to tune # of block\n",
        "- I have to tune # of filters per channel, but it must be pow of 2 [2, 4, 8, 16]"
      ]
    },
    {
      "metadata": {
        "id": "G6HopCYiYQjK",
        "colab_type": "code",
        "colab": {}
      },
      "cell_type": "code",
      "source": [
        "def resnet_block(x_init, filters, block_number=0):\n",
        "  with tf.variable_scope('block_' + block_number):\n",
        "  \n",
        "    x = x_init\n",
        "  \n",
        "    x = tf.layers.batch_normalization(x, scope='bn_0_0')\n",
        "    x = tf.nn.relu(x, scope='relu_0_0')\n",
        "    x = tf.layers.conv2d(x, scope='conv_0_0')\n",
        "        \n",
        "    x = tf.layers.batch_normalization(x, scope='bn_1_0')\n",
        "    x = tf.nn.relu(x, scope='relu_1_0')\n",
        "    x = tf.layers.conv2d(x, scope='conv_1_0')\n",
        "    \n",
        "    return x + x_init"
      ],
      "execution_count": 0,
      "outputs": []
    },
    {
      "metadata": {
        "id": "QOFOmh2CYtT_",
        "colab_type": "code",
        "colab": {}
      },
      "cell_type": "code",
      "source": [
        "??tf.layers"
      ],
      "execution_count": 0,
      "outputs": []
    },
    {
      "metadata": {
        "id": "eYG3rtsXZ0PE",
        "colab_type": "code",
        "colab": {}
      },
      "cell_type": "code",
      "source": [
        "?tf.nn.softmax"
      ],
      "execution_count": 0,
      "outputs": []
    },
    {
      "metadata": {
        "id": "jb7Fe-MUaD9c",
        "colab_type": "code",
        "colab": {}
      },
      "cell_type": "code",
      "source": [
        "n_features = 10\n",
        "filters = 32\n",
        "blocks = [2, 2, 2, 2]"
      ],
      "execution_count": 0,
      "outputs": []
    },
    {
      "metadata": {
        "id": "OOguoq2Mk2gD",
        "colab_type": "code",
        "colab": {}
      },
      "cell_type": "code",
      "source": [
        "def global_avg_pooling(x):\n",
        "    gap = tf.reduce_mean(x, axis=[1, 2], keepdims=True)\n",
        "    return gap"
      ],
      "execution_count": 0,
      "outputs": []
    },
    {
      "metadata": {
        "id": "9aUECQetjGrB",
        "colab_type": "code",
        "colab": {}
      },
      "cell_type": "code",
      "source": [
        "for i in range(blocks[0]):\n",
        "  with tf.variable_scope('layer_0'):\n",
        "    x = resnet_block(, filters, i)\n",
        "\n",
        "for i in range(blocks[1]):\n",
        "  with tf.variable_scope('layer_1'):\n",
        "    x = resnet_block(, filters*2, i)\n",
        "    \n",
        "for i in range(blocks[2]):\n",
        "  with tf.variable_scope('layer_2'):\n",
        "    x = resnet_block(, filters*4, i)    \n",
        "    \n",
        "for i in range(blocks[3]):\n",
        "  with tf.variable_scope('layer_3'):\n",
        "    x = resnet_block(, filters*8, i)   \n",
        "\n",
        "with tf.variable_scope('final'):\n",
        "  x = global_avg_pooling(x)\n",
        "  x = tf.layers.flatten(x)\n",
        "  logist = tf.nn.softmax(x)\n",
        "\n",
        "print(logist)\n",
        "    "
      ],
      "execution_count": 0,
      "outputs": []
    }
  ]
}