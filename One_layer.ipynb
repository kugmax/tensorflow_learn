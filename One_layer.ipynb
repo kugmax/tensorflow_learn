{
  "nbformat": 4,
  "nbformat_minor": 0,
  "metadata": {
    "colab": {
      "name": "One layer.ipynb",
      "version": "0.3.2",
      "provenance": [],
      "collapsed_sections": [],
      "include_colab_link": true
    },
    "kernelspec": {
      "name": "python3",
      "display_name": "Python 3"
    }
  },
  "cells": [
    {
      "cell_type": "markdown",
      "metadata": {
        "id": "view-in-github",
        "colab_type": "text"
      },
      "source": [
        "<a href=\"https://colab.research.google.com/github/kugmax/tensorflow_learn/blob/master/One_layer.ipynb\" target=\"_parent\"><img src=\"https://colab.research.google.com/assets/colab-badge.svg\" alt=\"Open In Colab\"/></a>"
      ]
    },
    {
      "metadata": {
        "id": "tjbJq8IwvTS7",
        "colab_type": "code",
        "colab": {}
      },
      "cell_type": "code",
      "source": [
        "import matplotlib.pyplot as plt\n",
        "import numpy as np\n",
        "import tensorflow as tf\n",
        "\n",
        "from sklearn import datasets"
      ],
      "execution_count": 0,
      "outputs": []
    },
    {
      "metadata": {
        "id": "395FUC16vi9y",
        "colab_type": "code",
        "colab": {
          "base_uri": "https://localhost:8080/",
          "height": 35
        },
        "outputId": "7ad4af5f-9465-42fb-bf05-7d10c456a595"
      },
      "cell_type": "code",
      "source": [
        "iris = datasets.load_iris()\n",
        "len(iris.data)"
      ],
      "execution_count": 2,
      "outputs": [
        {
          "output_type": "execute_result",
          "data": {
            "text/plain": [
              "150"
            ]
          },
          "metadata": {
            "tags": []
          },
          "execution_count": 2
        }
      ]
    },
    {
      "metadata": {
        "id": "6Be7ZcMNvpn_",
        "colab_type": "code",
        "colab": {}
      },
      "cell_type": "code",
      "source": [
        "x_vals = np.array([x[0:3] for x in iris.data ])\n",
        "y_vals = np.array([x[3] for x in iris.data ])\n",
        "sess = tf.Session()"
      ],
      "execution_count": 0,
      "outputs": []
    },
    {
      "metadata": {
        "id": "T4-oIcZav1kn",
        "colab_type": "code",
        "colab": {}
      },
      "cell_type": "code",
      "source": [
        "seed = 7\n",
        "tf.set_random_seed(seed)\n",
        "np.random.seed(seed)"
      ],
      "execution_count": 0,
      "outputs": []
    },
    {
      "metadata": {
        "id": "buOd13MXv7Lw",
        "colab_type": "code",
        "colab": {}
      },
      "cell_type": "code",
      "source": [
        "train_indices = np.random.choice(len(x_vals), round(len(x_vals) * 0.8), replace=False)\n",
        "test_indices = np.array(list(set(range(len(x_vals))) - set(train_indices) ))"
      ],
      "execution_count": 0,
      "outputs": []
    },
    {
      "metadata": {
        "id": "KL-HP6Jnwdw1",
        "colab_type": "code",
        "colab": {
          "base_uri": "https://localhost:8080/",
          "height": 35
        },
        "outputId": "0dcacb49-59ef-47f7-b969-64b32349b17b"
      },
      "cell_type": "code",
      "source": [
        "x_train = x_vals[train_indices]\n",
        "y_train = y_vals[train_indices]\n",
        "\n",
        "x_test = x_vals[test_indices]\n",
        "y_test = y_vals[test_indices]\n",
        "\n",
        "(x_train.shape, y_train.shape,  x_test.shape, y_test.shape)"
      ],
      "execution_count": 6,
      "outputs": [
        {
          "output_type": "execute_result",
          "data": {
            "text/plain": [
              "((120, 3), (120,), (30, 3), (30,))"
            ]
          },
          "metadata": {
            "tags": []
          },
          "execution_count": 6
        }
      ]
    },
    {
      "metadata": {
        "id": "S3l0rCEowykb",
        "colab_type": "code",
        "colab": {}
      },
      "cell_type": "code",
      "source": [
        "def normalize_cols(m):\n",
        "  col_max = m.max(axis=0)\n",
        "  col_min = m.min(axis=0)\n",
        "  return (m - col_min) / (col_max - col_min)"
      ],
      "execution_count": 0,
      "outputs": []
    },
    {
      "metadata": {
        "id": "Zz9vaTeKxJv6",
        "colab_type": "code",
        "colab": {}
      },
      "cell_type": "code",
      "source": [
        "batch_size = 50\n",
        "x = tf.placeholder(shape=[None, 3], dtype=tf.float32)\n",
        "y = tf.placeholder(shape=[None, 1], dtype=tf.float32)"
      ],
      "execution_count": 0,
      "outputs": []
    },
    {
      "metadata": {
        "id": "vsjNPPLOxZRx",
        "colab_type": "code",
        "colab": {}
      },
      "cell_type": "code",
      "source": [
        "hidden_layers_nodes = 5\n",
        "\n",
        "a1 = tf.Variable(tf.random_normal(shape=[3, hidden_layers_nodes]))\n",
        "b1 = tf.Variable(tf.random_normal(shape=[hidden_layers_nodes]))\n",
        "hidden_output = tf.nn.relu(tf.add(tf.matmul(x, a1), b1))\n",
        "\n",
        "a2 = tf.Variable(tf.random_normal(shape=[hidden_layers_nodes, 1]))\n",
        "b2 = tf.Variable(tf.random_normal(shape=[1]))\n",
        "final_output = tf.nn.relu(tf.add(tf.matmul(hidden_output, a2), b2))"
      ],
      "execution_count": 0,
      "outputs": []
    },
    {
      "metadata": {
        "id": "WYZIpG8Bx9Pf",
        "colab_type": "code",
        "colab": {}
      },
      "cell_type": "code",
      "source": [
        "loss = tf.reduce_mean(tf.square(y - final_output))"
      ],
      "execution_count": 0,
      "outputs": []
    },
    {
      "metadata": {
        "id": "HQfSrHywySrm",
        "colab_type": "code",
        "colab": {}
      },
      "cell_type": "code",
      "source": [
        "optimizer = tf.train.GradientDescentOptimizer(0.005)\n",
        "train_step = optimizer.minimize(loss)"
      ],
      "execution_count": 0,
      "outputs": []
    },
    {
      "metadata": {
        "id": "TCG8OQr_yZM1",
        "colab_type": "code",
        "colab": {}
      },
      "cell_type": "code",
      "source": [
        "init = tf.global_variables_initializer()\n",
        "sess.run(init)"
      ],
      "execution_count": 0,
      "outputs": []
    },
    {
      "metadata": {
        "id": "TT4FX0mVydRl",
        "colab_type": "code",
        "colab": {
          "base_uri": "https://localhost:8080/",
          "height": 190
        },
        "outputId": "985cb74a-6f81-4a95-c812-3726306e826a"
      },
      "cell_type": "code",
      "source": [
        "train_loss = []\n",
        "test_loss = []\n",
        "\n",
        "for i in range(10):\n",
        "  rand_index = np.random.choice(len(x_train), size=batch_size)    \n",
        "  \n",
        "  rand_x = x_train[rand_index]\n",
        "  rand_y = np.transpose([y_train[rand_index]])\n",
        "  \n",
        "  sess.run(train_step, feed_dict={x: rand_x, y: rand_y})\n",
        "  \n",
        "  train_temp_loss = sess.run(loss, feed_dict={x: rand_x, y: rand_y})\n",
        "  train_loss.append(np.sqrt(train_temp_loss))\n",
        "  \n",
        "  test_temp_loss = sess.run(loss, feed_dict={x: x_test, y: np.transpose([y_test])})\n",
        "  test_loss.append(np.sqrt(test_temp_loss))\n",
        "  \n",
        "#    if (i + 1) % 50 == 0:\n",
        "  print(str(i + 1) + \" train loss: \" + str(train_temp_loss) + \" test loss: \" + str(test_temp_loss))"
      ],
      "execution_count": 13,
      "outputs": [
        {
          "output_type": "stream",
          "text": [
            "1 train loss: 1.5879998 test loss: 1.917\n",
            "2 train loss: 2.3502 test loss: 1.917\n",
            "3 train loss: 1.9277999 test loss: 1.917\n",
            "4 train loss: 1.8301998 test loss: 1.917\n",
            "5 train loss: 2.1354 test loss: 1.917\n",
            "6 train loss: 1.9031999 test loss: 1.917\n",
            "7 train loss: 1.7885998 test loss: 1.917\n",
            "8 train loss: 1.9576 test loss: 1.917\n",
            "9 train loss: 2.1109998 test loss: 1.917\n",
            "10 train loss: 1.6243999 test loss: 1.917\n"
          ],
          "name": "stdout"
        }
      ]
    },
    {
      "metadata": {
        "id": "VlCSqS6V3h3E",
        "colab_type": "code",
        "colab": {
          "base_uri": "https://localhost:8080/",
          "height": 376
        },
        "outputId": "2a4d93b4-fed6-485d-fceb-34ee582cec9d"
      },
      "cell_type": "code",
      "source": [
        "plt.plot(train_loss, 'k-', label='Train loss')\n",
        "plt.plot(test_loss, 'r--', label='Test loss')\n",
        "plt.title('MSE')\n",
        "plt.xlabel('Epoch')\n",
        "plt.ylabel('Loss')\n",
        "plt.show()"
      ],
      "execution_count": 14,
      "outputs": [
        {
          "output_type": "display_data",
          "data": {
            "image/png": "[encoded data removed]",
            "text/plain": [
              "<matplotlib.figure.Figure at 0x7f69ab802ba8>"
            ]
          },
          "metadata": {
            "tags": []
          }
        }
      ]
    },
    {
      "metadata": {
        "id": "Pz3lcv7w4D36",
        "colab_type": "code",
        "colab": {}
      },
      "cell_type": "code",
      "source": [
        "  "
      ],
      "execution_count": 0,
      "outputs": []
    },
    {
      "metadata": {
        "id": "8exgCxvH4NC5",
        "colab_type": "code",
        "colab": {}
      },
      "cell_type": "code",
      "source": [
        ""
      ],
      "execution_count": 0,
      "outputs": []
    }
  ]
}