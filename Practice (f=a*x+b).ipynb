{
  "nbformat": 4,
  "nbformat_minor": 0,
  "metadata": {
    "colab": {
      "name": "Practice.ipynb",
      "version": "0.3.2",
      "provenance": [],
      "collapsed_sections": [],
      "include_colab_link": true
    },
    "kernelspec": {
      "name": "python3",
      "display_name": "Python 3"
    }
  },
  "cells": [
    {
      "cell_type": "markdown",
      "metadata": {
        "id": "view-in-github",
        "colab_type": "text"
      },
      "source": [
        "<a href=\"https://colab.research.google.com/github/kugmax/tensorflow_learn/blob/master/Practice%20(f%3Da*x%2Bb).ipynb\" target=\"_parent\"><img src=\"https://colab.research.google.com/assets/colab-badge.svg\" alt=\"Open In Colab\"/></a>"
      ]
    },
    {
      "metadata": {
        "id": "a7S392IH_NeT",
        "colab_type": "code",
        "colab": {}
      },
      "cell_type": "code",
      "source": [
        ""
      ],
      "execution_count": 0,
      "outputs": []
    },
    {
      "metadata": {
        "id": "UUwloAcE_2gs",
        "colab_type": "text"
      },
      "cell_type": "markdown",
      "source": [
        "f(x) = a * x"
      ]
    },
    {
      "metadata": {
        "id": "JGEZ8Kxw_4Ta",
        "colab_type": "code",
        "colab": {}
      },
      "cell_type": "code",
      "source": [
        "import tensorflow as tf"
      ],
      "execution_count": 0,
      "outputs": []
    },
    {
      "metadata": {
        "id": "ODMBjo3d_7Fq",
        "colab_type": "code",
        "colab": {}
      },
      "cell_type": "code",
      "source": [
        "sess = tf.Session()"
      ],
      "execution_count": 0,
      "outputs": []
    },
    {
      "metadata": {
        "id": "FPZ3K6ofZ64N",
        "colab_type": "code",
        "colab": {
          "base_uri": "https://localhost:8080/",
          "height": 35
        },
        "outputId": "183b6e4a-50fd-4608-d31a-14f4fc4c10f4"
      },
      "cell_type": "code",
      "source": [
        "!pip install tensorboardcolab"
      ],
      "execution_count": 54,
      "outputs": [
        {
          "output_type": "stream",
          "text": [
            "Requirement already satisfied: tensorboardcolab in /usr/local/lib/python3.6/dist-packages (0.0.22)\n"
          ],
          "name": "stdout"
        }
      ]
    },
    {
      "metadata": {
        "id": "-jRKjog3Z9eO",
        "colab_type": "code",
        "colab": {
          "base_uri": "https://localhost:8080/",
          "height": 35
        },
        "outputId": "7e41f4d4-a7d8-48e4-840f-b470263a030c"
      },
      "cell_type": "code",
      "source": [
        "from tensorboardcolab import *"
      ],
      "execution_count": 12,
      "outputs": [
        {
          "output_type": "stream",
          "text": [
            "Using TensorFlow backend.\n"
          ],
          "name": "stderr"
        }
      ]
    },
    {
      "metadata": {
        "id": "r4i_dAKAZ_Bm",
        "colab_type": "code",
        "colab": {
          "base_uri": "https://localhost:8080/",
          "height": 69
        },
        "outputId": "a0ac0585-bf62-4769-a91e-c9186b5b845f"
      },
      "cell_type": "code",
      "source": [
        "tbc=TensorBoardColab()"
      ],
      "execution_count": 91,
      "outputs": [
        {
          "output_type": "stream",
          "text": [
            "Wait for 8 seconds...\n",
            "TensorBoard link:\n",
            "http://cb459120.ngrok.io\n"
          ],
          "name": "stdout"
        }
      ]
    },
    {
      "metadata": {
        "id": "aG-kKjRC_8oz",
        "colab_type": "code",
        "colab": {}
      },
      "cell_type": "code",
      "source": [
        "a = tf.Variable(tf.constant(100.0))\n",
        "x_val = 5.0\n",
        "x_data = tf.placeholder(dtype=tf.float32)"
      ],
      "execution_count": 0,
      "outputs": []
    },
    {
      "metadata": {
        "id": "ktLt4-G0ANUJ",
        "colab_type": "code",
        "colab": {}
      },
      "cell_type": "code",
      "source": [
        "multiplication = tf.multiply(a, x_data)"
      ],
      "execution_count": 0,
      "outputs": []
    },
    {
      "metadata": {
        "id": "fIJyI-kEARx4",
        "colab_type": "code",
        "colab": {}
      },
      "cell_type": "code",
      "source": [
        "loss = tf.square(tf.subtract(multiplication, 50.0))"
      ],
      "execution_count": 0,
      "outputs": []
    },
    {
      "metadata": {
        "id": "I2G2R3tFAmwX",
        "colab_type": "code",
        "colab": {}
      },
      "cell_type": "code",
      "source": [
        "init = tf.initialize_all_variables()\n",
        "sess.run(init)"
      ],
      "execution_count": 0,
      "outputs": []
    },
    {
      "metadata": {
        "id": "Qq8kkmT0BWCv",
        "colab_type": "code",
        "colab": {}
      },
      "cell_type": "code",
      "source": [
        "my_opt = tf.train.GradientDescentOptimizer(0.01)\n",
        "train_step = my_opt.minimize(loss)"
      ],
      "execution_count": 0,
      "outputs": []
    },
    {
      "metadata": {
        "id": "BT7SJmY9Aqb-",
        "colab_type": "code",
        "colab": {
          "base_uri": "https://localhost:8080/",
          "height": 363
        },
        "outputId": "b250b9df-8274-42d6-e3fb-213d52219a55"
      },
      "cell_type": "code",
      "source": [
        "for i in range(20):\n",
        "  sess.run(train_step, feed_dict={x_data: x_val})\n",
        "  a_val = sess.run(a)\n",
        "  mult_output = sess.run(multiplication, feed_dict={x_data: x_val})\n",
        "  print(str(a_val) + ' * ' + str(x_val) + ' = ' + str(mult_output))"
      ],
      "execution_count": 42,
      "outputs": [
        {
          "output_type": "stream",
          "text": [
            "55.0 * 5.0 = 275.0\n",
            "32.5 * 5.0 = 162.5\n",
            "21.25 * 5.0 = 106.25\n",
            "15.625 * 5.0 = 78.125\n",
            "12.8125 * 5.0 = 64.0625\n",
            "11.40625 * 5.0 = 57.03125\n",
            "10.703125 * 5.0 = 53.515625\n",
            "10.3515625 * 5.0 = 51.757812\n",
            "10.175781 * 5.0 = 50.878906\n",
            "10.087891 * 5.0 = 50.439453\n",
            "10.043945 * 5.0 = 50.219727\n",
            "10.021973 * 5.0 = 50.109863\n",
            "10.010986 * 5.0 = 50.05493\n",
            "10.005493 * 5.0 = 50.027466\n",
            "10.002747 * 5.0 = 50.013733\n",
            "10.001373 * 5.0 = 50.006866\n",
            "10.000687 * 5.0 = 50.003433\n",
            "10.000343 * 5.0 = 50.001717\n",
            "10.000172 * 5.0 = 50.00086\n",
            "10.000086 * 5.0 = 50.000427\n"
          ],
          "name": "stdout"
        }
      ]
    },
    {
      "metadata": {
        "id": "AljdnbSIBzqC",
        "colab_type": "code",
        "colab": {}
      },
      "cell_type": "code",
      "source": [
        ""
      ],
      "execution_count": 0,
      "outputs": []
    },
    {
      "metadata": {
        "id": "DFAU-m3jDTLI",
        "colab_type": "text"
      },
      "cell_type": "markdown",
      "source": [
        "f(x) = a * x + b"
      ]
    },
    {
      "metadata": {
        "id": "SaxcI6-gDUeF",
        "colab_type": "code",
        "colab": {}
      },
      "cell_type": "code",
      "source": [
        "from tensorflow.python.framework import ops"
      ],
      "execution_count": 0,
      "outputs": []
    },
    {
      "metadata": {
        "id": "MmZzFREfDZ69",
        "colab_type": "code",
        "colab": {}
      },
      "cell_type": "code",
      "source": [
        "ops.reset_default_graph()\n",
        "sess = tf.Session()"
      ],
      "execution_count": 0,
      "outputs": []
    },
    {
      "metadata": {
        "id": "26h6ClnwDf1d",
        "colab_type": "code",
        "colab": {}
      },
      "cell_type": "code",
      "source": [
        "target = 50.0\n",
        "\n",
        "a = tf.Variable(tf.constant(1.0), name='a')\n",
        "b = tf.Variable(tf.constant(1.0), name='b')\n",
        "\n",
        "x_val = 5.0\n",
        "x_data = tf.placeholder(dtype=tf.float32, name='x')\n",
        "\n",
        "with tf.name_scope(\"f_x\"):\n",
        "  two_gate = tf.add(tf.multiply(a, x_data), b)\n",
        "\n",
        "  \n",
        "with tf.name_scope(\"my_loss\"):\n",
        "  loss = tf.square(tf.subtract(two_gate, target) )"
      ],
      "execution_count": 0,
      "outputs": []
    },
    {
      "metadata": {
        "id": "q2iKBSjcDwIA",
        "colab_type": "code",
        "colab": {}
      },
      "cell_type": "code",
      "source": [
        "my_opt = tf.train.GradientDescentOptimizer(0.01, name='g_d_optimizer')\n",
        "train_step = my_opt.minimize(loss)"
      ],
      "execution_count": 0,
      "outputs": []
    },
    {
      "metadata": {
        "id": "1RsD7pa1Dwj8",
        "colab_type": "code",
        "colab": {}
      },
      "cell_type": "code",
      "source": [
        "init = tf.initialize_all_variables()\n",
        "sess.run(init)"
      ],
      "execution_count": 0,
      "outputs": []
    },
    {
      "metadata": {
        "id": "F3vhKUfcYoFh",
        "colab_type": "code",
        "colab": {
          "base_uri": "https://localhost:8080/",
          "height": 190
        },
        "outputId": "2eaa0244-9267-495a-ac2b-2b8ca946899f"
      },
      "cell_type": "code",
      "source": [
        "for i in range(10):\n",
        "  sess.run(train_step, feed_dict={x_data: x_val})\n",
        "      \n",
        "  a_val, b_val = (sess.run(a), sess.run(b))\n",
        "  tbc.save_value(\"f(x) = a*x + b\", \"a\", i, a_val)\n",
        "  tbc.save_value(\"f(x) = a*x + b\", \"b\", i, b_val)    \n",
        "  \n",
        "  two_gate_output = sess.run(two_gate, feed_dict={x_data: x_val})\n",
        "  \n",
        "  tbc.save_value(\"f(x) = a*x + b\", \"result\", i, two_gate_output)\n",
        "  tbc.flush_line(\"a\")\n",
        "  tbc.flush_line(\"b\")\n",
        "  tbc.flush_line(\"result\")\n",
        "  \n",
        "  print(str(a_val) + ' * ' + str(x_val) + \" + \" + str(b_val) + ' = ' + str(two_gate_output))\n",
        "  \n",
        "  \n",
        "\n",
        "train_writer = tbc.get_writer();\n",
        "train_writer.add_graph(sess.graph)\n",
        "\n",
        "train_writer.flush()\n",
        "tbc.close()  "
      ],
      "execution_count": 96,
      "outputs": [
        {
          "output_type": "stream",
          "text": [
            "5.4 * 5.0 + 1.88 = 28.88\n",
            "7.512 * 5.0 + 2.3024 = 39.8624\n",
            "8.52576 * 5.0 + 2.5051522 = 45.133953\n",
            "9.012364 * 5.0 + 2.6024733 = 47.664295\n",
            "9.2459345 * 5.0 + 2.6491873 = 48.87886\n",
            "9.358048 * 5.0 + 2.67161 = 49.461853\n",
            "9.411863 * 5.0 + 2.682373 = 49.74169\n",
            "9.437695 * 5.0 + 2.687539 = 49.87601\n",
            "9.450093 * 5.0 + 2.690019 = 49.940483\n",
            "9.456045 * 5.0 + 2.6912093 = 49.971436\n"
          ],
          "name": "stdout"
        }
      ]
    },
    {
      "metadata": {
        "id": "d_KjJqqTZBUP",
        "colab_type": "code",
        "colab": {}
      },
      "cell_type": "code",
      "source": [
        ""
      ],
      "execution_count": 0,
      "outputs": []
    },
    {
      "metadata": {
        "id": "neXt4C3ibN6P",
        "colab_type": "code",
        "colab": {}
      },
      "cell_type": "code",
      "source": [
        "tf.scalar_mul"
      ],
      "execution_count": 0,
      "outputs": []
    },
    {
      "metadata": {
        "id": "x35d_f5EhK0q",
        "colab_type": "code",
        "colab": {}
      },
      "cell_type": "code",
      "source": [
        "?tf.train.GradientDescentOptimizer"
      ],
      "execution_count": 0,
      "outputs": []
    },
    {
      "metadata": {
        "id": "eS0j1q0MlYwE",
        "colab_type": "code",
        "colab": {}
      },
      "cell_type": "code",
      "source": [
        ""
      ],
      "execution_count": 0,
      "outputs": []
    }
  ]
}