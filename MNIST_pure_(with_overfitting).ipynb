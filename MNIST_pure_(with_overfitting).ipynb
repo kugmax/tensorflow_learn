{
  "nbformat": 4,
  "nbformat_minor": 0,
  "metadata": {
    "colab": {
      "name": "MNIST pure (with overfitting).ipynb",
      "version": "0.3.2",
      "provenance": [],
      "collapsed_sections": [],
      "include_colab_link": true
    },
    "kernelspec": {
      "name": "python3",
      "display_name": "Python 3"
    }
  },
  "cells": [
    {
      "cell_type": "markdown",
      "metadata": {
        "id": "view-in-github",
        "colab_type": "text"
      },
      "source": [
        "<a href=\"https://colab.research.google.com/github/kugmax/tensorflow_learn/blob/master/MNIST_pure_(with_overfitting).ipynb\" target=\"_parent\"><img src=\"https://colab.research.google.com/assets/colab-badge.svg\" alt=\"Open In Colab\"/></a>"
      ]
    },
    {
      "metadata": {
        "id": "36OJwkadK574",
        "colab_type": "code",
        "colab": {}
      },
      "cell_type": "code",
      "source": [
        "import matplotlib.pyplot as plt\n",
        "import numpy as np\n",
        "import tensorflow as tf\n",
        "\n",
        "from tensorflow.contrib.learn.python.learn.datasets.mnist import read_data_sets"
      ],
      "execution_count": 0,
      "outputs": []
    },
    {
      "metadata": {
        "id": "u3gXGeK7LIMA",
        "colab_type": "code",
        "colab": {}
      },
      "cell_type": "code",
      "source": [
        "sess = tf.Session()"
      ],
      "execution_count": 0,
      "outputs": []
    },
    {
      "metadata": {
        "id": "RxTt685xLNo_",
        "colab_type": "code",
        "outputId": "c3317773-01f0-46fa-f214-7a77f817add7",
        "colab": {
          "base_uri": "https://localhost:8080/",
          "height": 365
        }
      },
      "cell_type": "code",
      "source": [
        "data_dir = 'temp'\n",
        "mnist = read_data_sets(data_dir)"
      ],
      "execution_count": 3,
      "outputs": [
        {
          "output_type": "stream",
          "text": [
            "WARNING:tensorflow:From <ipython-input-3-75ddb4cc757c>:2: read_data_sets (from tensorflow.contrib.learn.python.learn.datasets.mnist) is deprecated and will be removed in a future version.\n",
            "Instructions for updating:\n",
            "Please use alternatives such as official/mnist/dataset.py from tensorflow/models.\n",
            "WARNING:tensorflow:From /usr/local/lib/python3.6/dist-packages/tensorflow/contrib/learn/python/learn/datasets/mnist.py:260: maybe_download (from tensorflow.contrib.learn.python.learn.datasets.base) is deprecated and will be removed in a future version.\n",
            "Instructions for updating:\n",
            "Please write your own downloading logic.\n",
            "WARNING:tensorflow:From /usr/local/lib/python3.6/dist-packages/tensorflow/contrib/learn/python/learn/datasets/mnist.py:262: extract_images (from tensorflow.contrib.learn.python.learn.datasets.mnist) is deprecated and will be removed in a future version.\n",
            "Instructions for updating:\n",
            "Please use tf.data to implement this functionality.\n",
            "Extracting temp/train-images-idx3-ubyte.gz\n",
            "WARNING:tensorflow:From /usr/local/lib/python3.6/dist-packages/tensorflow/contrib/learn/python/learn/datasets/mnist.py:267: extract_labels (from tensorflow.contrib.learn.python.learn.datasets.mnist) is deprecated and will be removed in a future version.\n",
            "Instructions for updating:\n",
            "Please use tf.data to implement this functionality.\n",
            "Extracting temp/train-labels-idx1-ubyte.gz\n",
            "Extracting temp/t10k-images-idx3-ubyte.gz\n",
            "Extracting temp/t10k-labels-idx1-ubyte.gz\n",
            "WARNING:tensorflow:From /usr/local/lib/python3.6/dist-packages/tensorflow/contrib/learn/python/learn/datasets/mnist.py:290: DataSet.__init__ (from tensorflow.contrib.learn.python.learn.datasets.mnist) is deprecated and will be removed in a future version.\n",
            "Instructions for updating:\n",
            "Please use alternatives such as official/mnist/dataset.py from tensorflow/models.\n"
          ],
          "name": "stdout"
        }
      ]
    },
    {
      "metadata": {
        "id": "2-5lHpvaLWDP",
        "colab_type": "code",
        "colab": {}
      },
      "cell_type": "code",
      "source": [
        "x_train = np.array([np.reshape(x, (28, 28)) for x in mnist.train.images ])"
      ],
      "execution_count": 0,
      "outputs": []
    },
    {
      "metadata": {
        "id": "kZzQl3bHLrT8",
        "colab_type": "code",
        "colab": {}
      },
      "cell_type": "code",
      "source": [
        "x_test = np.array([np.reshape(x, (28, 28)) for x in mnist.test.images ])"
      ],
      "execution_count": 0,
      "outputs": []
    },
    {
      "metadata": {
        "id": "g3XZ0IyLMA0V",
        "colab_type": "code",
        "colab": {}
      },
      "cell_type": "code",
      "source": [
        "y_train = mnist.train.labels\n",
        "y_test = mnist.test.labels"
      ],
      "execution_count": 0,
      "outputs": []
    },
    {
      "metadata": {
        "id": "UIbOxC7SLsJd",
        "colab_type": "code",
        "outputId": "91d4eca7-52b6-41d7-a62e-f9bf882e222c",
        "colab": {
          "base_uri": "https://localhost:8080/",
          "height": 35
        }
      },
      "cell_type": "code",
      "source": [
        "x_train.shape, y_train.shape, x_test.shape, y_test.shape"
      ],
      "execution_count": 7,
      "outputs": [
        {
          "output_type": "execute_result",
          "data": {
            "text/plain": [
              "((55000, 28, 28), (55000,), (10000, 28, 28), (10000,))"
            ]
          },
          "metadata": {
            "tags": []
          },
          "execution_count": 7
        }
      ]
    },
    {
      "metadata": {
        "id": "w1E2QTicL6KE",
        "colab_type": "code",
        "colab": {}
      },
      "cell_type": "code",
      "source": [
        "batch_size = 100\n",
        "lr = 0.005\n",
        "epoches = 500\n",
        "\n",
        "img_width = x_train[0].shape[0]\n",
        "img_height = x_train[0].shape[1]\n",
        "\n",
        "target_size = max(y_train) + 1\n",
        "channels = 1"
      ],
      "execution_count": 0,
      "outputs": []
    },
    {
      "metadata": {
        "id": "fksNoyxFMuqh",
        "colab_type": "code",
        "colab": {}
      },
      "cell_type": "code",
      "source": [
        "eval_size = 500\n",
        "eval_every = 5\n",
        "\n",
        "conv1_features = 25\n",
        "conv2_features = 50\n",
        "\n",
        "max_pool1_size = 2\n",
        "max_pool2_size = 2\n",
        "\n",
        "fully_connected_size1 = 100"
      ],
      "execution_count": 0,
      "outputs": []
    },
    {
      "metadata": {
        "id": "_OddBkVqNKyH",
        "colab_type": "code",
        "colab": {}
      },
      "cell_type": "code",
      "source": [
        "x_input_shape = (batch_size, img_width, img_height, channels)\n",
        "x = tf.placeholder(tf.float32, shape=x_input_shape)\n",
        "y = tf.placeholder(tf.int32, shape=(batch_size))\n",
        "\n",
        "eval_input_shape = (eval_size, img_width, img_height, channels)\n",
        "eval_input = tf.placeholder(tf.float32, shape=eval_input_shape)\n",
        "eval_target = tf.placeholder(tf.int32, shape=(eval_size))"
      ],
      "execution_count": 0,
      "outputs": []
    },
    {
      "metadata": {
        "id": "tXApjdT5N4xN",
        "colab_type": "code",
        "colab": {}
      },
      "cell_type": "code",
      "source": [
        "conv1_weight = tf.Variable(tf.truncated_normal([4, 4, channels, conv1_features], stddev=0.1, dtype=tf.float32))\n",
        "conv1_bias = tf.Variable(tf.zeros([conv1_features], dtype=tf.float32))"
      ],
      "execution_count": 0,
      "outputs": []
    },
    {
      "metadata": {
        "id": "2TTwdMtyONg0",
        "colab_type": "code",
        "colab": {}
      },
      "cell_type": "code",
      "source": [
        "conv2_weight = tf.Variable(tf.truncated_normal([4, 4, conv1_features, conv2_features], stddev=0.1, dtype=tf.float32))\n",
        "conv2_bias = tf.Variable(tf.zeros([conv2_features], dtype=tf.float32))"
      ],
      "execution_count": 0,
      "outputs": []
    },
    {
      "metadata": {
        "id": "TIaXNTF-OjBL",
        "colab_type": "code",
        "colab": {}
      },
      "cell_type": "code",
      "source": [
        "result_width = img_width // (max_pool1_size * max_pool2_size)\n",
        "result_height = img_height // (max_pool1_size * max_pool2_size)\n",
        "\n",
        "full1_input_size = result_width * result_height * conv2_features\n",
        "full1_weight = tf.Variable(tf.truncated_normal([full1_input_size, fully_connected_size1], stddev=0.1, dtype=tf.float32))\n",
        "full1_bias = tf.Variable(tf.truncated_normal([fully_connected_size1], stddev=0.1, dtype=tf.float32))\n",
        "\n",
        "full2_weight = tf.Variable(tf.truncated_normal([fully_connected_size1, target_size], stddev=0.1, dtype=tf.float32))\n",
        "\n",
        "full2_bias = tf.Variable(tf.truncated_normal([target_size], stddev=0.1, dtype=tf.float32))"
      ],
      "execution_count": 0,
      "outputs": []
    },
    {
      "metadata": {
        "id": "FgKbfBRoPdkg",
        "colab_type": "code",
        "colab": {}
      },
      "cell_type": "code",
      "source": [
        "def conv_net(input_data):\n",
        "  print(input_data.shape, conv1_weight.shape)\n",
        "  \n",
        "  conv1 = tf.nn.conv2d(input_data, conv1_weight, strides=[1, 1, 1, 1], padding='SAME')\n",
        "  relu1 = tf.nn.relu(tf.nn.bias_add(conv1, conv1_bias))\n",
        "  max_pool1 = tf.nn.max_pool(relu1, ksize=[1, max_pool1_size, max_pool1_size, 1], strides=[1, max_pool1_size, max_pool1_size, 1], padding='SAME')\n",
        "  \n",
        "  print(max_pool1.shape, conv2_weight.shape)\n",
        "  \n",
        "  conv2 = tf.nn.conv2d(max_pool1, conv2_weight, strides=[1, 1, 1, 1], padding='SAME')\n",
        "  relu2 = tf.nn.relu(tf.nn.bias_add(conv2, conv2_bias))\n",
        "  max_pool2 = tf.nn.max_pool(relu2, ksize=[1, max_pool2_size, max_pool2_size, 1], strides=[1, max_pool2_size, max_pool2_size, 1], padding='SAME')\n",
        "  \n",
        "  final_conv_shape = max_pool2.get_shape().as_list()\n",
        "  final_shape = final_conv_shape[1] * final_conv_shape[2] * final_conv_shape[3]\n",
        "  flat_output = tf.reshape(max_pool2, [final_conv_shape[0], final_shape])\n",
        "  \n",
        "  fully_connected1 = tf.nn.relu(tf.add(tf.matmul(flat_output, full1_weight), full1_bias))\n",
        "  final_model_output = tf.add(tf.matmul(fully_connected1, full2_weight), full2_bias)\n",
        "  \n",
        "  return final_model_output"
      ],
      "execution_count": 0,
      "outputs": []
    },
    {
      "metadata": {
        "id": "8QCx2N7riGO0",
        "colab_type": "code",
        "colab": {
          "base_uri": "https://localhost:8080/",
          "height": 86
        },
        "outputId": "07396760-2fb5-4c18-a734-5439422c2c14"
      },
      "cell_type": "code",
      "source": [
        "train_output = conv_net(x)\n",
        "test_output = conv_net(eval_input)"
      ],
      "execution_count": 15,
      "outputs": [
        {
          "output_type": "stream",
          "text": [
            "(100, 28, 28, 1) (4, 4, 1, 25)\n",
            "(100, 14, 14, 25) (4, 4, 25, 50)\n",
            "(500, 28, 28, 1) (4, 4, 1, 25)\n",
            "(500, 14, 14, 25) (4, 4, 25, 50)\n"
          ],
          "name": "stdout"
        }
      ]
    },
    {
      "metadata": {
        "id": "vmJHHoGiiWvz",
        "colab_type": "code",
        "colab": {}
      },
      "cell_type": "code",
      "source": [
        "loss = tf.reduce_mean(\n",
        "    tf.nn.sparse_softmax_cross_entropy_with_logits(logits=train_output, labels=y)\n",
        ")"
      ],
      "execution_count": 0,
      "outputs": []
    },
    {
      "metadata": {
        "id": "XpYwfiWGzC94",
        "colab_type": "code",
        "colab": {}
      },
      "cell_type": "code",
      "source": [
        "train_prediction = tf.nn.softmax(train_output)\n",
        "test_prediction = tf.nn.softmax(test_output)"
      ],
      "execution_count": 0,
      "outputs": []
    },
    {
      "metadata": {
        "id": "013OF201zKKX",
        "colab_type": "code",
        "colab": {}
      },
      "cell_type": "code",
      "source": [
        "def get_accurency(logits, targets):\n",
        "  batch_predictions = np.argmax(logits, axis=1)\n",
        "  num_correct = np.sum(np.equal(batch_predictions, targets))\n",
        "  return (100. * num_correct / batch_predictions.shape[0])"
      ],
      "execution_count": 0,
      "outputs": []
    },
    {
      "metadata": {
        "id": "c3278xKbzjXW",
        "colab_type": "code",
        "colab": {}
      },
      "cell_type": "code",
      "source": [
        "optimizer = tf.train.MomentumOptimizer(lr, 0.9)\n",
        "train_step = optimizer.minimize(loss)"
      ],
      "execution_count": 0,
      "outputs": []
    },
    {
      "metadata": {
        "id": "qmHFfwYJ0U4b",
        "colab_type": "code",
        "colab": {}
      },
      "cell_type": "code",
      "source": [
        "init = tf.global_variables_initializer()\n",
        "sess.run(init)"
      ],
      "execution_count": 0,
      "outputs": []
    },
    {
      "metadata": {
        "id": "iZV6slfm0YLz",
        "colab_type": "code",
        "colab": {
          "base_uri": "https://localhost:8080/",
          "height": 1745
        },
        "outputId": "30814133-bcdc-4b43-8256-60271b6f99bf"
      },
      "cell_type": "code",
      "source": [
        "train_loss = []\n",
        "train_acc = []\n",
        "test_acc = []\n",
        "for i in range(epoches):\n",
        "  rand_index = np.random.choice(len(x_train), size=batch_size)\n",
        "  \n",
        "  rand_x = x_train[rand_index]\n",
        "  rand_x = np.expand_dims(rand_x, 3)\n",
        "  \n",
        "  rand_y = y_train[rand_index]\n",
        "  \n",
        "  train_dict = {x: rand_x, y: rand_y}  \n",
        "  sess.run(train_step, feed_dict=train_dict)\n",
        "  tmp_train_loss, train_preds = sess.run([loss, train_prediction], feed_dict=train_dict)\n",
        "  \n",
        "  tmp_train_acc = get_accurency(train_preds, rand_y)\n",
        "  \n",
        "  if (i + 1) % eval_every == 0:\n",
        "    eval_index = np.random.choice(len(x_test), size=eval_size)\n",
        "    eval_x = x_test[eval_index]\n",
        "    eval_x = np.expand_dims(eval_x, 3)\n",
        "    eval_y = y_test[eval_index]\n",
        "    test_dict = {eval_input: eval_x, eval_target:eval_y}\n",
        "    test_preds = sess.run(test_prediction, feed_dict=test_dict)\n",
        "    \n",
        "    tmp_test_acc = get_accurency(test_preds, eval_y)\n",
        "    \n",
        "    train_loss.append(tmp_train_loss)\n",
        "    train_acc.append(tmp_train_acc)\n",
        "    test_acc.append(tmp_test_acc)\n",
        "    \n",
        "    acc_and_loss = [ (i+1), tmp_train_loss, tmp_train_acc, tmp_test_acc ]\n",
        "    acc_and_loss = [ np.round(x, 2) for x in acc_and_loss]\n",
        "    \n",
        "    print('Epoch # {}. Train Loss: {:.2f}. Train Acc (Test Acc): {:.2f} ({:.2f})'.format(*acc_and_loss))"
      ],
      "execution_count": 27,
      "outputs": [
        {
          "output_type": "stream",
          "text": [
            "Epoch # 5. Train Loss: 1.83. Train Acc (Test Acc): 58.00 (56.00)\n",
            "Epoch # 10. Train Loss: 1.65. Train Acc (Test Acc): 64.00 (63.80)\n",
            "Epoch # 15. Train Loss: 1.34. Train Acc (Test Acc): 65.00 (63.00)\n",
            "Epoch # 20. Train Loss: 1.12. Train Acc (Test Acc): 70.00 (74.20)\n",
            "Epoch # 25. Train Loss: 0.79. Train Acc (Test Acc): 72.00 (76.40)\n",
            "Epoch # 30. Train Loss: 0.62. Train Acc (Test Acc): 82.00 (74.60)\n",
            "Epoch # 35. Train Loss: 0.50. Train Acc (Test Acc): 88.00 (82.20)\n",
            "Epoch # 40. Train Loss: 0.52. Train Acc (Test Acc): 83.00 (81.00)\n",
            "Epoch # 45. Train Loss: 0.46. Train Acc (Test Acc): 87.00 (85.00)\n",
            "Epoch # 50. Train Loss: 0.36. Train Acc (Test Acc): 89.00 (84.20)\n",
            "Epoch # 55. Train Loss: 0.41. Train Acc (Test Acc): 89.00 (86.20)\n",
            "Epoch # 60. Train Loss: 0.29. Train Acc (Test Acc): 92.00 (86.80)\n",
            "Epoch # 65. Train Loss: 0.40. Train Acc (Test Acc): 91.00 (86.80)\n",
            "Epoch # 70. Train Loss: 0.31. Train Acc (Test Acc): 89.00 (85.80)\n",
            "Epoch # 75. Train Loss: 0.29. Train Acc (Test Acc): 91.00 (84.60)\n",
            "Epoch # 80. Train Loss: 0.30. Train Acc (Test Acc): 93.00 (88.60)\n",
            "Epoch # 85. Train Loss: 0.43. Train Acc (Test Acc): 86.00 (88.80)\n",
            "Epoch # 90. Train Loss: 0.17. Train Acc (Test Acc): 97.00 (91.80)\n",
            "Epoch # 95. Train Loss: 0.27. Train Acc (Test Acc): 93.00 (90.60)\n",
            "Epoch # 100. Train Loss: 0.33. Train Acc (Test Acc): 90.00 (89.20)\n",
            "Epoch # 105. Train Loss: 0.27. Train Acc (Test Acc): 95.00 (91.00)\n",
            "Epoch # 110. Train Loss: 0.29. Train Acc (Test Acc): 92.00 (89.60)\n",
            "Epoch # 115. Train Loss: 0.18. Train Acc (Test Acc): 93.00 (88.20)\n",
            "Epoch # 120. Train Loss: 0.28. Train Acc (Test Acc): 90.00 (90.80)\n",
            "Epoch # 125. Train Loss: 0.21. Train Acc (Test Acc): 92.00 (93.40)\n",
            "Epoch # 130. Train Loss: 0.22. Train Acc (Test Acc): 92.00 (89.40)\n",
            "Epoch # 135. Train Loss: 0.24. Train Acc (Test Acc): 93.00 (94.00)\n",
            "Epoch # 140. Train Loss: 0.15. Train Acc (Test Acc): 97.00 (91.60)\n",
            "Epoch # 145. Train Loss: 0.26. Train Acc (Test Acc): 93.00 (92.60)\n",
            "Epoch # 150. Train Loss: 0.27. Train Acc (Test Acc): 91.00 (95.00)\n",
            "Epoch # 155. Train Loss: 0.22. Train Acc (Test Acc): 96.00 (93.20)\n",
            "Epoch # 160. Train Loss: 0.21. Train Acc (Test Acc): 96.00 (93.20)\n",
            "Epoch # 165. Train Loss: 0.27. Train Acc (Test Acc): 94.00 (92.80)\n",
            "Epoch # 170. Train Loss: 0.28. Train Acc (Test Acc): 91.00 (95.20)\n",
            "Epoch # 175. Train Loss: 0.11. Train Acc (Test Acc): 95.00 (93.80)\n",
            "Epoch # 180. Train Loss: 0.37. Train Acc (Test Acc): 88.00 (94.80)\n",
            "Epoch # 185. Train Loss: 0.26. Train Acc (Test Acc): 91.00 (92.80)\n",
            "Epoch # 190. Train Loss: 0.21. Train Acc (Test Acc): 91.00 (93.80)\n",
            "Epoch # 195. Train Loss: 0.27. Train Acc (Test Acc): 91.00 (93.20)\n",
            "Epoch # 200. Train Loss: 0.17. Train Acc (Test Acc): 95.00 (95.40)\n",
            "Epoch # 205. Train Loss: 0.12. Train Acc (Test Acc): 97.00 (92.20)\n",
            "Epoch # 210. Train Loss: 0.14. Train Acc (Test Acc): 96.00 (94.40)\n",
            "Epoch # 215. Train Loss: 0.25. Train Acc (Test Acc): 93.00 (92.40)\n",
            "Epoch # 220. Train Loss: 0.15. Train Acc (Test Acc): 96.00 (92.40)\n",
            "Epoch # 225. Train Loss: 0.15. Train Acc (Test Acc): 93.00 (94.40)\n",
            "Epoch # 230. Train Loss: 0.17. Train Acc (Test Acc): 96.00 (93.80)\n",
            "Epoch # 235. Train Loss: 0.17. Train Acc (Test Acc): 95.00 (94.80)\n",
            "Epoch # 240. Train Loss: 0.28. Train Acc (Test Acc): 92.00 (93.60)\n",
            "Epoch # 245. Train Loss: 0.12. Train Acc (Test Acc): 97.00 (93.40)\n",
            "Epoch # 250. Train Loss: 0.26. Train Acc (Test Acc): 93.00 (94.60)\n",
            "Epoch # 255. Train Loss: 0.13. Train Acc (Test Acc): 94.00 (94.00)\n",
            "Epoch # 260. Train Loss: 0.18. Train Acc (Test Acc): 93.00 (97.00)\n",
            "Epoch # 265. Train Loss: 0.10. Train Acc (Test Acc): 97.00 (94.80)\n",
            "Epoch # 270. Train Loss: 0.19. Train Acc (Test Acc): 93.00 (94.80)\n",
            "Epoch # 275. Train Loss: 0.14. Train Acc (Test Acc): 98.00 (93.60)\n",
            "Epoch # 280. Train Loss: 0.14. Train Acc (Test Acc): 95.00 (94.00)\n",
            "Epoch # 285. Train Loss: 0.12. Train Acc (Test Acc): 97.00 (93.20)\n",
            "Epoch # 290. Train Loss: 0.13. Train Acc (Test Acc): 94.00 (93.60)\n",
            "Epoch # 295. Train Loss: 0.13. Train Acc (Test Acc): 98.00 (94.80)\n",
            "Epoch # 300. Train Loss: 0.29. Train Acc (Test Acc): 94.00 (93.60)\n",
            "Epoch # 305. Train Loss: 0.16. Train Acc (Test Acc): 95.00 (95.20)\n",
            "Epoch # 310. Train Loss: 0.06. Train Acc (Test Acc): 99.00 (95.20)\n",
            "Epoch # 315. Train Loss: 0.23. Train Acc (Test Acc): 93.00 (94.80)\n",
            "Epoch # 320. Train Loss: 0.20. Train Acc (Test Acc): 96.00 (95.20)\n",
            "Epoch # 325. Train Loss: 0.26. Train Acc (Test Acc): 92.00 (95.80)\n",
            "Epoch # 330. Train Loss: 0.25. Train Acc (Test Acc): 93.00 (95.40)\n",
            "Epoch # 335. Train Loss: 0.14. Train Acc (Test Acc): 95.00 (95.80)\n",
            "Epoch # 340. Train Loss: 0.18. Train Acc (Test Acc): 94.00 (94.60)\n",
            "Epoch # 345. Train Loss: 0.12. Train Acc (Test Acc): 98.00 (95.60)\n",
            "Epoch # 350. Train Loss: 0.24. Train Acc (Test Acc): 92.00 (94.20)\n",
            "Epoch # 355. Train Loss: 0.21. Train Acc (Test Acc): 93.00 (96.60)\n",
            "Epoch # 360. Train Loss: 0.11. Train Acc (Test Acc): 96.00 (94.00)\n",
            "Epoch # 365. Train Loss: 0.17. Train Acc (Test Acc): 96.00 (96.40)\n",
            "Epoch # 370. Train Loss: 0.09. Train Acc (Test Acc): 97.00 (95.40)\n",
            "Epoch # 375. Train Loss: 0.16. Train Acc (Test Acc): 94.00 (96.60)\n",
            "Epoch # 380. Train Loss: 0.18. Train Acc (Test Acc): 95.00 (96.40)\n",
            "Epoch # 385. Train Loss: 0.10. Train Acc (Test Acc): 99.00 (96.40)\n",
            "Epoch # 390. Train Loss: 0.14. Train Acc (Test Acc): 95.00 (96.00)\n",
            "Epoch # 395. Train Loss: 0.21. Train Acc (Test Acc): 94.00 (95.80)\n",
            "Epoch # 400. Train Loss: 0.15. Train Acc (Test Acc): 97.00 (94.40)\n",
            "Epoch # 405. Train Loss: 0.15. Train Acc (Test Acc): 94.00 (94.60)\n",
            "Epoch # 410. Train Loss: 0.12. Train Acc (Test Acc): 95.00 (97.00)\n",
            "Epoch # 415. Train Loss: 0.15. Train Acc (Test Acc): 95.00 (94.40)\n",
            "Epoch # 420. Train Loss: 0.09. Train Acc (Test Acc): 98.00 (97.20)\n",
            "Epoch # 425. Train Loss: 0.13. Train Acc (Test Acc): 95.00 (97.40)\n",
            "Epoch # 430. Train Loss: 0.31. Train Acc (Test Acc): 92.00 (95.00)\n",
            "Epoch # 435. Train Loss: 0.10. Train Acc (Test Acc): 96.00 (96.40)\n",
            "Epoch # 440. Train Loss: 0.10. Train Acc (Test Acc): 99.00 (96.40)\n",
            "Epoch # 445. Train Loss: 0.35. Train Acc (Test Acc): 92.00 (95.40)\n",
            "Epoch # 450. Train Loss: 0.11. Train Acc (Test Acc): 97.00 (96.20)\n",
            "Epoch # 455. Train Loss: 0.16. Train Acc (Test Acc): 96.00 (96.40)\n",
            "Epoch # 460. Train Loss: 0.07. Train Acc (Test Acc): 97.00 (96.60)\n",
            "Epoch # 465. Train Loss: 0.13. Train Acc (Test Acc): 97.00 (96.80)\n",
            "Epoch # 470. Train Loss: 0.15. Train Acc (Test Acc): 96.00 (95.20)\n",
            "Epoch # 475. Train Loss: 0.12. Train Acc (Test Acc): 96.00 (94.60)\n",
            "Epoch # 480. Train Loss: 0.14. Train Acc (Test Acc): 95.00 (94.60)\n",
            "Epoch # 485. Train Loss: 0.21. Train Acc (Test Acc): 95.00 (96.60)\n",
            "Epoch # 490. Train Loss: 0.12. Train Acc (Test Acc): 97.00 (96.40)\n",
            "Epoch # 495. Train Loss: 0.13. Train Acc (Test Acc): 95.00 (95.20)\n",
            "Epoch # 500. Train Loss: 0.11. Train Acc (Test Acc): 97.00 (96.80)\n"
          ],
          "name": "stdout"
        }
      ]
    },
    {
      "metadata": {
        "id": "9gLRp0mG2y-b",
        "colab_type": "code",
        "colab": {
          "base_uri": "https://localhost:8080/",
          "height": 705
        },
        "outputId": "90c9a4ae-726a-4de1-cc31-01cdfb9c12dc"
      },
      "cell_type": "code",
      "source": [
        "eval_indices = range(0, epoches, eval_every)\n",
        "\n",
        "plt.plot(eval_indices, train_loss, 'k-')\n",
        "plt.xlabel('Epochs')\n",
        "plt.ylabel('Softmax loss')\n",
        "plt.show()\n",
        "\n",
        "plt.plot(eval_indices, train_acc, 'k-', label='Train acc')\n",
        "plt.plot(eval_indices, test_acc, 'r--', label='Test acc')\n",
        "plt.xlabel('Epochs')\n",
        "plt.ylabel('Acc')        \n",
        "plt.show()"
      ],
      "execution_count": 31,
      "outputs": [
        {
          "output_type": "display_data",
          "data": {
            "image/png": "[encoded data removed]",
            "text/plain": [
              "<matplotlib.figure.Figure at 0x7f9b98f51048>"
            ]
          },
          "metadata": {
            "tags": []
          }
        },
        {
          "output_type": "display_data",
          "data": {
            "image/png": "[encoded data removed]",
            "text/plain": [
              "<matplotlib.figure.Figure at 0x7f9b98cf5630>"
            ]
          },
          "metadata": {
            "tags": []
          }
        }
      ]
    },
    {
      "metadata": {
        "id": "j5I7xSvd5kGJ",
        "colab_type": "code",
        "colab": {}
      },
      "cell_type": "code",
      "source": [
        ""
      ],
      "execution_count": 0,
      "outputs": []
    }
  ]
}