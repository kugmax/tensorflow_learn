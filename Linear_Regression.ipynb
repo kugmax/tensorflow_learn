{
  "nbformat": 4,
  "nbformat_minor": 0,
  "metadata": {
    "colab": {
      "name": "Linear Regression.ipynb",
      "version": "0.3.2",
      "provenance": [],
      "collapsed_sections": [],
      "include_colab_link": true
    },
    "kernelspec": {
      "name": "python3",
      "display_name": "Python 3"
    }
  },
  "cells": [
    {
      "cell_type": "markdown",
      "metadata": {
        "id": "view-in-github",
        "colab_type": "text"
      },
      "source": [
        "<a href=\"https://colab.research.google.com/github/kugmax/tensorflow_learn/blob/master/Linear_Regression.ipynb\" target=\"_parent\"><img src=\"https://colab.research.google.com/assets/colab-badge.svg\" alt=\"Open In Colab\"/></a>"
      ]
    },
    {
      "metadata": {
        "id": "LzTCr470SvtT",
        "colab_type": "code",
        "colab": {}
      },
      "cell_type": "code",
      "source": [
        "import matplotlib.pyplot as plt\n",
        "import numpy as np\n",
        "import tensorflow as tf\n",
        "from tensorflow.python.framework import ops\n",
        "ops.reset_default_graph()"
      ],
      "execution_count": 0,
      "outputs": []
    },
    {
      "metadata": {
        "id": "Gh8O66_lUheZ",
        "colab_type": "text"
      },
      "cell_type": "markdown",
      "source": [
        "Ax = B </br>\n",
        "x = (A^T * A)^-1 * A^T * b"
      ]
    },
    {
      "metadata": {
        "id": "wmsxnI8lS64X",
        "colab_type": "code",
        "colab": {}
      },
      "cell_type": "code",
      "source": [
        "sess = tf.Session()"
      ],
      "execution_count": 0,
      "outputs": []
    },
    {
      "metadata": {
        "id": "iorhGuUbS_Tu",
        "colab_type": "code",
        "colab": {}
      },
      "cell_type": "code",
      "source": [
        "x_val = np.linspace(0, 10, 100)\n",
        "y_val = x_val + np.random.normal(0, 1, 100)"
      ],
      "execution_count": 0,
      "outputs": []
    },
    {
      "metadata": {
        "id": "K5l0lGkkTFTn",
        "colab_type": "code",
        "colab": {
          "base_uri": "https://localhost:8080/",
          "height": 34
        },
        "outputId": "6cb0b3de-1f6a-41e1-8a8c-a56c0c59c21b"
      },
      "cell_type": "code",
      "source": [
        "x_val.shape, y_val.shape"
      ],
      "execution_count": 5,
      "outputs": [
        {
          "output_type": "execute_result",
          "data": {
            "text/plain": [
              "((100,), (100,))"
            ]
          },
          "metadata": {
            "tags": []
          },
          "execution_count": 5
        }
      ]
    },
    {
      "metadata": {
        "id": "5cZhLvi4TIJf",
        "colab_type": "code",
        "colab": {}
      },
      "cell_type": "code",
      "source": [
        "x_val_column = np.transpose(np.matrix(x_val))\n",
        "ones_column = np.transpose(np.matrix(np.repeat(1, 100)))\n",
        "\n",
        "A = np.column_stack((x_val_column, ones_column))\n",
        "b = np.transpose(np.matrix(y_val))"
      ],
      "execution_count": 0,
      "outputs": []
    },
    {
      "metadata": {
        "id": "ujWsqL_AToUo",
        "colab_type": "code",
        "colab": {
          "base_uri": "https://localhost:8080/",
          "height": 34
        },
        "outputId": "968a3a11-7e71-4301-d4e4-c56f565c38ea"
      },
      "cell_type": "code",
      "source": [
        "A.shape, b.shape"
      ],
      "execution_count": 12,
      "outputs": [
        {
          "output_type": "execute_result",
          "data": {
            "text/plain": [
              "((100, 2), (100, 1))"
            ]
          },
          "metadata": {
            "tags": []
          },
          "execution_count": 12
        }
      ]
    },
    {
      "metadata": {
        "id": "s1SyoVq6T0rn",
        "colab_type": "code",
        "colab": {}
      },
      "cell_type": "code",
      "source": [
        "A_tf = tf.constant(A)\n",
        "b_tf = tf.constant(b)"
      ],
      "execution_count": 0,
      "outputs": []
    },
    {
      "metadata": {
        "id": "f0usTfe6T8S4",
        "colab_type": "code",
        "colab": {}
      },
      "cell_type": "code",
      "source": [
        "tA_A = tf.matmul(tf.transpose(A_tf), A_tf)\n",
        "tA_A_inv = tf.matrix_inverse(tA_A)"
      ],
      "execution_count": 0,
      "outputs": []
    },
    {
      "metadata": {
        "id": "kSXI8sljUJ-o",
        "colab_type": "code",
        "colab": {}
      },
      "cell_type": "code",
      "source": [
        "product = tf.matmul(tA_A_inv, tf.transpose(A_tf))\n",
        "solution = tf.matmul(product, b_tf)\n",
        "solution_eval = sess.run(solution)"
      ],
      "execution_count": 0,
      "outputs": []
    },
    {
      "metadata": {
        "id": "b-qMh9o0UZwR",
        "colab_type": "code",
        "colab": {
          "base_uri": "https://localhost:8080/",
          "height": 51
        },
        "outputId": "a3c681d3-23a6-4ae3-a21a-bef61d1ec8d5"
      },
      "cell_type": "code",
      "source": [
        "slope = solution_eval[0][0]\n",
        "y_intercept = solution_eval[1][0]\n",
        "print('slope      : '+ str(slope))\n",
        "print('y_intercept: '+ str(y_intercept))     "
      ],
      "execution_count": 22,
      "outputs": [
        {
          "output_type": "stream",
          "text": [
            "slope      : 1.011146050974958\n",
            "y_intercept: 0.020722445191604905\n"
          ],
          "name": "stdout"
        }
      ]
    },
    {
      "metadata": {
        "id": "tXSda6JUVD9K",
        "colab_type": "code",
        "colab": {}
      },
      "cell_type": "code",
      "source": [
        "best_fit = [ slope * i + y_intercept for i in x_val]"
      ],
      "execution_count": 0,
      "outputs": []
    },
    {
      "metadata": {
        "id": "Ya1l5jGgVXBr",
        "colab_type": "code",
        "colab": {
          "base_uri": "https://localhost:8080/",
          "height": 347
        },
        "outputId": "66cd64aa-5f6f-4bc7-e727-650a579bb9d0"
      },
      "cell_type": "code",
      "source": [
        "plt.plot(x_val, y_val, 'o', label='Data')\n",
        "plt.plot(x_val, best_fit, 'r-', label='Best fit line', linewidth=3)\n",
        "plt.legend()\n",
        "plt.show()"
      ],
      "execution_count": 32,
      "outputs": [
        {
          "output_type": "display_data",
          "data": {
            "image/png": "[encoded data removed]",
            "text/plain": [
              "<matplotlib.figure.Figure at 0x7f2ab9d87470>"
            ]
          },
          "metadata": {
            "tags": []
          }
        }
      ]
    },
    {
      "metadata": {
        "id": "OxmEy6KtVn1D",
        "colab_type": "code",
        "colab": {}
      },
      "cell_type": "code",
      "source": [
        ""
      ],
      "execution_count": 0,
      "outputs": []
    },
    {
      "metadata": {
        "id": "gHOmP80TXOHQ",
        "colab_type": "text"
      },
      "cell_type": "markdown",
      "source": [
        "Cholesky decomposition\n"
      ]
    },
    {
      "metadata": {
        "id": "MnMQBBK5XVrZ",
        "colab_type": "code",
        "colab": {}
      },
      "cell_type": "code",
      "source": [
        "ops.reset_default_graph()\n",
        "sess = tf.Session()"
      ],
      "execution_count": 0,
      "outputs": []
    },
    {
      "metadata": {
        "id": "9ueqbj_6Xl_S",
        "colab_type": "code",
        "colab": {}
      },
      "cell_type": "code",
      "source": [
        "x_vals = np.linspace(0, 10, 100)\n",
        "y_vals = x_vals + np.random.normal(0, 1, 100)\n",
        "x_vals_column = np.transpose(np.matrix(x_vals))\n",
        "ones_column = np.transpose(np.matrix(np.repeat(1, 100)))\n",
        "\n"
      ],
      "execution_count": 0,
      "outputs": []
    },
    {
      "metadata": {
        "id": "SythgsUDXzA7",
        "colab_type": "code",
        "colab": {}
      },
      "cell_type": "code",
      "source": [
        "A = np.column_stack((x_vals_column, ones_column))\n",
        "b = np.transpose(np.matrix(y_vals))"
      ],
      "execution_count": 0,
      "outputs": []
    },
    {
      "metadata": {
        "id": "FFH-GyeBYSIE",
        "colab_type": "code",
        "colab": {}
      },
      "cell_type": "code",
      "source": [
        "A_tf = tf.constant(A)\n",
        "b_tf = tf.constant(b)"
      ],
      "execution_count": 0,
      "outputs": []
    },
    {
      "metadata": {
        "id": "QqfePE4-YXCF",
        "colab_type": "code",
        "colab": {}
      },
      "cell_type": "code",
      "source": [
        "tA_A = tf.matmul(tf.transpose(A_tf), A_tf)\n",
        "L = tf.cholesky(tA_A)"
      ],
      "execution_count": 0,
      "outputs": []
    },
    {
      "metadata": {
        "id": "Z_4UslSvYpbw",
        "colab_type": "code",
        "colab": {}
      },
      "cell_type": "code",
      "source": [
        "tA_b = tf.matmul(tf.transpose(A_tf), b)\n",
        "sol1 = tf.matrix_solve(L, tA_b)\n",
        "sol2 = tf.matrix_solve(tf.transpose(L), sol1)"
      ],
      "execution_count": 0,
      "outputs": []
    },
    {
      "metadata": {
        "id": "78WILxCIY0h2",
        "colab_type": "code",
        "colab": {
          "base_uri": "https://localhost:8080/",
          "height": 51
        },
        "outputId": "fd66f07d-6cbc-4ec4-d8fd-3cbc470eb63b"
      },
      "cell_type": "code",
      "source": [
        "solution_eval = sess.run(sol2)\n",
        "slope = solution_eval[0][0]\n",
        "y_intercept = solution_eval[1][0]\n",
        "print('slope      : ' + str(slope))\n",
        "print('y_intercept: ' + str(y_intercept))"
      ],
      "execution_count": 54,
      "outputs": [
        {
          "output_type": "stream",
          "text": [
            "slope      : 0.991154048716265\n",
            "y_intercept: 0.013465625241697313\n"
          ],
          "name": "stdout"
        }
      ]
    },
    {
      "metadata": {
        "id": "SAaeRkDLZF7w",
        "colab_type": "code",
        "colab": {}
      },
      "cell_type": "code",
      "source": [
        "best_fit = [slope * i + y_intercept for i in x_vals]"
      ],
      "execution_count": 0,
      "outputs": []
    },
    {
      "metadata": {
        "id": "vaHt6hIhZObA",
        "colab_type": "code",
        "colab": {
          "base_uri": "https://localhost:8080/",
          "height": 347
        },
        "outputId": "27886365-70c8-48e8-a256-85e22579a4f2"
      },
      "cell_type": "code",
      "source": [
        "plt.plot(x_vals, y_val, 'o', label='Data')\n",
        "plt.plot(x_vals, best_fit, 'r-', label='Best fit line', linewidth=3)\n",
        "plt.legend()\n",
        "plt.show()"
      ],
      "execution_count": 56,
      "outputs": [
        {
          "output_type": "display_data",
          "data": {
            "image/png": "[encoded data removed]",
            "text/plain": [
              "<matplotlib.figure.Figure at 0x7f2ab43382b0>"
            ]
          },
          "metadata": {
            "tags": []
          }
        }
      ]
    },
    {
      "metadata": {
        "id": "wYPkincvZRog",
        "colab_type": "code",
        "colab": {}
      },
      "cell_type": "code",
      "source": [
        ""
      ],
      "execution_count": 0,
      "outputs": []
    },
    {
      "metadata": {
        "id": "BHN9viTnatC4",
        "colab_type": "text"
      },
      "cell_type": "markdown",
      "source": [
        "irish"
      ]
    },
    {
      "metadata": {
        "id": "l0y2Lg1jatz0",
        "colab_type": "code",
        "colab": {}
      },
      "cell_type": "code",
      "source": [
        "ops.reset_default_graph()\n",
        "sess = tf.Session()\n",
        "\n",
        "from sklearn import datasets"
      ],
      "execution_count": 0,
      "outputs": []
    },
    {
      "metadata": {
        "id": "W2HKdSyNauKt",
        "colab_type": "code",
        "colab": {}
      },
      "cell_type": "code",
      "source": [
        "iris = datasets.load_iris()"
      ],
      "execution_count": 0,
      "outputs": []
    },
    {
      "metadata": {
        "id": "ylKsPdROa2P-",
        "colab_type": "code",
        "colab": {}
      },
      "cell_type": "code",
      "source": [
        "x_vals = np.array([data[3] for data in iris.data ])\n",
        "y_vals = np.array([data[0] for data in iris.data ])"
      ],
      "execution_count": 0,
      "outputs": []
    },
    {
      "metadata": {
        "id": "XTrAnH4fa_QO",
        "colab_type": "code",
        "colab": {}
      },
      "cell_type": "code",
      "source": [
        "lr = 0.05\n",
        "batch_size = 25\n",
        "epochs = 200"
      ],
      "execution_count": 0,
      "outputs": []
    },
    {
      "metadata": {
        "id": "mgaLGVo4bFO1",
        "colab_type": "code",
        "colab": {}
      },
      "cell_type": "code",
      "source": [
        "x = tf.placeholder(shape=[None, 1], dtype=tf.float32)\n",
        "y = tf.placeholder(shape=[None, 1], dtype=tf.float32)"
      ],
      "execution_count": 0,
      "outputs": []
    },
    {
      "metadata": {
        "id": "oUQSHeegbNWW",
        "colab_type": "code",
        "colab": {}
      },
      "cell_type": "code",
      "source": [
        "A = tf.Variable(tf.random_normal(shape=[1, 1]))\n",
        "b = tf.Variable(tf.random_normal(shape=[1, 1]))"
      ],
      "execution_count": 0,
      "outputs": []
    },
    {
      "metadata": {
        "id": "HGjCnJgXbTyW",
        "colab_type": "code",
        "colab": {}
      },
      "cell_type": "code",
      "source": [
        "model_output = tf.add(tf.matmul(x, A), b)"
      ],
      "execution_count": 0,
      "outputs": []
    },
    {
      "metadata": {
        "id": "_zxeWdMVbaCu",
        "colab_type": "code",
        "colab": {}
      },
      "cell_type": "code",
      "source": [
        "loss = tf.reduce_mean(tf.square(y - model_output))"
      ],
      "execution_count": 0,
      "outputs": []
    },
    {
      "metadata": {
        "id": "1qfLPwp7biph",
        "colab_type": "code",
        "colab": {}
      },
      "cell_type": "code",
      "source": [
        "init = tf.global_variables_initializer()\n",
        "sess.run(init)"
      ],
      "execution_count": 0,
      "outputs": []
    },
    {
      "metadata": {
        "id": "tCHZRzgZbmVn",
        "colab_type": "code",
        "colab": {}
      },
      "cell_type": "code",
      "source": [
        "optimizer = tf.train.GradientDescentOptimizer(lr)\n",
        "train_step = optimizer.minimize(loss)"
      ],
      "execution_count": 0,
      "outputs": []
    },
    {
      "metadata": {
        "id": "zIOu3btfbxhn",
        "colab_type": "code",
        "colab": {
          "base_uri": "https://localhost:8080/",
          "height": 153
        },
        "outputId": "2690e6de-3076-45a6-f6eb-243856377991"
      },
      "cell_type": "code",
      "source": [
        "loss_vec = []\n",
        "for i in range(epochs):\n",
        "  rand_index = np.random.choice(len(x_vals), size=batch_size)\n",
        "  rand_x = np.transpose([x_vals[rand_index]])\n",
        "  rand_y = np.transpose([y_vals[rand_index]])\n",
        "   \n",
        "  feed_dict={x:rand_x, y:rand_y}\n",
        "  \n",
        "  sess.run(train_step, feed_dict=feed_dict)\n",
        "  \n",
        "  temp_loss = sess.run(loss, feed_dict=feed_dict)\n",
        "  loss_vec.append(temp_loss)\n",
        "  \n",
        "  if (i + 1) % 25 == 0:\n",
        "    print(str(i+1) + ' A=' + str(sess.run(A)) + \" b=\" +  str(sess.run(b)) + ' loss=' + str(temp_loss))"
      ],
      "execution_count": 12,
      "outputs": [
        {
          "output_type": "stream",
          "text": [
            "25 A=[[2.2425802]] b=[[2.7816868]] loss=1.1707635\n",
            "50 A=[[1.6925929]] b=[[3.5353863]] loss=0.6073222\n",
            "75 A=[[1.4061384]] b=[[4.1122603]] loss=0.34612647\n",
            "100 A=[[1.1410023]] b=[[4.371985]] loss=0.2579483\n",
            "125 A=[[1.0690628]] b=[[4.5360117]] loss=0.2302507\n",
            "150 A=[[0.9494318]] b=[[4.619112]] loss=0.1917824\n",
            "175 A=[[0.95702934]] b=[[4.71628]] loss=0.22591177\n",
            "200 A=[[0.9216082]] b=[[4.743726]] loss=0.26691586\n"
          ],
          "name": "stdout"
        }
      ]
    },
    {
      "metadata": {
        "id": "efdwMMiZc5e0",
        "colab_type": "code",
        "colab": {}
      },
      "cell_type": "code",
      "source": [
        "[slope] = sess.run(A)\n",
        "[y_intercept] = sess.run(b)\n",
        "best_fit = [slope * i + y_intercept for i in x_vals]"
      ],
      "execution_count": 0,
      "outputs": []
    },
    {
      "metadata": {
        "id": "DMpwo3rPdQ2E",
        "colab_type": "code",
        "colab": {
          "base_uri": "https://localhost:8080/",
          "height": 361
        },
        "outputId": "5c92d04a-7eea-4625-9520-1aad2d0feeb7"
      },
      "cell_type": "code",
      "source": [
        "plt.plot(x_vals, y_vals, 'o', label='Data')\n",
        "plt.plot(x_vals, best_fit, 'r-', label='Best fit line', linewidth=3)\n",
        "plt.xlabel('Pedal Width')\n",
        "plt.ylabel('Sepal Length')\n",
        "plt.legend()\n",
        "plt.show()"
      ],
      "execution_count": 14,
      "outputs": [
        {
          "output_type": "display_data",
          "data": {
            "image/png": "[encoded data removed]",
            "text/plain": [
              "<matplotlib.figure.Figure at 0x7fda24566b38>"
            ]
          },
          "metadata": {
            "tags": []
          }
        }
      ]
    },
    {
      "metadata": {
        "id": "Ul6bBpYhdd8d",
        "colab_type": "code",
        "colab": {
          "base_uri": "https://localhost:8080/",
          "height": 376
        },
        "outputId": "abd786a0-8b10-445d-d6b7-837d803d3524"
      },
      "cell_type": "code",
      "source": [
        "plt.plot(loss_vec, 'k-')\n",
        "plt.title('L2 Loss per Generation')\n",
        "plt.xlabel('Generation')\n",
        "plt.ylabel('L2 Loss')\n",
        "plt.show()"
      ],
      "execution_count": 15,
      "outputs": [
        {
          "output_type": "display_data",
          "data": {
            "image/png": "[encoded data removed]",
            "text/plain": [
              "<matplotlib.figure.Figure at 0x7fda24566828>"
            ]
          },
          "metadata": {
            "tags": []
          }
        }
      ]
    },
    {
      "metadata": {
        "id": "wfVtBigNdpkV",
        "colab_type": "code",
        "colab": {}
      },
      "cell_type": "code",
      "source": [
        ""
      ],
      "execution_count": 0,
      "outputs": []
    }
  ]
}