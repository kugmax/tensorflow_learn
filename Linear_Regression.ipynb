{
  "nbformat": 4,
  "nbformat_minor": 0,
  "metadata": {
    "colab": {
      "name": "Linear Regression.ipynb",
      "version": "0.3.2",
      "provenance": [],
      "collapsed_sections": [],
      "include_colab_link": true
    },
    "kernelspec": {
      "name": "python3",
      "display_name": "Python 3"
    }
  },
  "cells": [
    {
      "cell_type": "markdown",
      "metadata": {
        "id": "view-in-github",
        "colab_type": "text"
      },
      "source": [
        "<a href=\"https://colab.research.google.com/github/kugmax/tensorflow_learn/blob/master/Linear_Regression.ipynb\" target=\"_parent\"><img src=\"https://colab.research.google.com/assets/colab-badge.svg\" alt=\"Open In Colab\"/></a>"
      ]
    },
    {
      "metadata": {
        "id": "LzTCr470SvtT",
        "colab_type": "code",
        "colab": {}
      },
      "cell_type": "code",
      "source": [
        "import matplotlib.pyplot as plt\n",
        "import numpy as np\n",
        "import tensorflow as tf"
      ],
      "execution_count": 0,
      "outputs": []
    },
    {
      "metadata": {
        "id": "Gh8O66_lUheZ",
        "colab_type": "text"
      },
      "cell_type": "markdown",
      "source": [
        "Ax = B </br>\n",
        "x = (A^T * A)^-1 * A^T * b"
      ]
    },
    {
      "metadata": {
        "id": "wmsxnI8lS64X",
        "colab_type": "code",
        "colab": {}
      },
      "cell_type": "code",
      "source": [
        "sess = tf.Session()"
      ],
      "execution_count": 0,
      "outputs": []
    },
    {
      "metadata": {
        "id": "iorhGuUbS_Tu",
        "colab_type": "code",
        "colab": {}
      },
      "cell_type": "code",
      "source": [
        "x_val = np.linspace(0, 10, 100)\n",
        "y_val = x_val + np.random.normal(0, 1, 100)"
      ],
      "execution_count": 0,
      "outputs": []
    },
    {
      "metadata": {
        "id": "K5l0lGkkTFTn",
        "colab_type": "code",
        "colab": {
          "base_uri": "https://localhost:8080/",
          "height": 34
        },
        "outputId": "6cb0b3de-1f6a-41e1-8a8c-a56c0c59c21b"
      },
      "cell_type": "code",
      "source": [
        "x_val.shape, y_val.shape"
      ],
      "execution_count": 5,
      "outputs": [
        {
          "output_type": "execute_result",
          "data": {
            "text/plain": [
              "((100,), (100,))"
            ]
          },
          "metadata": {
            "tags": []
          },
          "execution_count": 5
        }
      ]
    },
    {
      "metadata": {
        "id": "5cZhLvi4TIJf",
        "colab_type": "code",
        "colab": {}
      },
      "cell_type": "code",
      "source": [
        "x_val_column = np.transpose(np.matrix(x_val))\n",
        "ones_column = np.transpose(np.matrix(np.repeat(1, 100)))\n",
        "\n",
        "A = np.column_stack((x_val_column, ones_column))\n",
        "b = np.transpose(np.matrix(y_val))"
      ],
      "execution_count": 0,
      "outputs": []
    },
    {
      "metadata": {
        "id": "ujWsqL_AToUo",
        "colab_type": "code",
        "colab": {
          "base_uri": "https://localhost:8080/",
          "height": 34
        },
        "outputId": "968a3a11-7e71-4301-d4e4-c56f565c38ea"
      },
      "cell_type": "code",
      "source": [
        "A.shape, b.shape"
      ],
      "execution_count": 12,
      "outputs": [
        {
          "output_type": "execute_result",
          "data": {
            "text/plain": [
              "((100, 2), (100, 1))"
            ]
          },
          "metadata": {
            "tags": []
          },
          "execution_count": 12
        }
      ]
    },
    {
      "metadata": {
        "id": "s1SyoVq6T0rn",
        "colab_type": "code",
        "colab": {}
      },
      "cell_type": "code",
      "source": [
        "A_tf = tf.constant(A)\n",
        "b_tf = tf.constant(b)"
      ],
      "execution_count": 0,
      "outputs": []
    },
    {
      "metadata": {
        "id": "f0usTfe6T8S4",
        "colab_type": "code",
        "colab": {}
      },
      "cell_type": "code",
      "source": [
        "tA_A = tf.matmul(tf.transpose(A_tf), A_tf)\n",
        "tA_A_inv = tf.matrix_inverse(tA_A)"
      ],
      "execution_count": 0,
      "outputs": []
    },
    {
      "metadata": {
        "id": "kSXI8sljUJ-o",
        "colab_type": "code",
        "colab": {}
      },
      "cell_type": "code",
      "source": [
        "product = tf.matmul(tA_A_inv, tf.transpose(A_tf))\n",
        "solution = tf.matmul(product, b_tf)\n",
        "solution_eval = sess.run(solution)"
      ],
      "execution_count": 0,
      "outputs": []
    },
    {
      "metadata": {
        "id": "b-qMh9o0UZwR",
        "colab_type": "code",
        "colab": {
          "base_uri": "https://localhost:8080/",
          "height": 51
        },
        "outputId": "a3c681d3-23a6-4ae3-a21a-bef61d1ec8d5"
      },
      "cell_type": "code",
      "source": [
        "slope = solution_eval[0][0]\n",
        "y_intercept = solution_eval[1][0]\n",
        "print('slope      : '+ str(slope))\n",
        "print('y_intercept: '+ str(y_intercept))     "
      ],
      "execution_count": 22,
      "outputs": [
        {
          "output_type": "stream",
          "text": [
            "slope      : 1.011146050974958\n",
            "y_intercept: 0.020722445191604905\n"
          ],
          "name": "stdout"
        }
      ]
    },
    {
      "metadata": {
        "id": "tXSda6JUVD9K",
        "colab_type": "code",
        "colab": {}
      },
      "cell_type": "code",
      "source": [
        "best_fit = [ slope * i + y_intercept for i in x_val]"
      ],
      "execution_count": 0,
      "outputs": []
    },
    {
      "metadata": {
        "id": "Ya1l5jGgVXBr",
        "colab_type": "code",
        "colab": {
          "base_uri": "https://localhost:8080/",
          "height": 347
        },
        "outputId": "468d2ac3-606a-448b-fdf7-08a27a6e25ba"
      },
      "cell_type": "code",
      "source": [
        "plt.plot(x_val, y_val, 'o', label='Data')\n",
        "plt.plot(x_val, best_fit, 'r-', 'Best fit line', linewidth=3)\n",
        "plt.show()"
      ],
      "execution_count": 25,
      "outputs": [
        {
          "output_type": "display_data",
          "data": {
            "image/png": "[encoded data removed]",
            "text/plain": [
              "<matplotlib.figure.Figure at 0x7f2ab9d42e10>"
            ]
          },
          "metadata": {
            "tags": []
          }
        }
      ]
    },
    {
      "metadata": {
        "id": "OxmEy6KtVn1D",
        "colab_type": "code",
        "colab": {}
      },
      "cell_type": "code",
      "source": [
        ""
      ],
      "execution_count": 0,
      "outputs": []
    }
  ]
}