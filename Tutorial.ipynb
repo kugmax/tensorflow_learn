{
  "nbformat": 4,
  "nbformat_minor": 0,
  "metadata": {
    "colab": {
      "name": "Tutorial.ipynb",
      "version": "0.3.2",
      "provenance": [],
      "collapsed_sections": [],
      "include_colab_link": true
    },
    "kernelspec": {
      "name": "python3",
      "display_name": "Python 3"
    }
  },
  "cells": [
    {
      "cell_type": "markdown",
      "metadata": {
        "id": "view-in-github",
        "colab_type": "text"
      },
      "source": [
        "<a href=\"https://colab.research.google.com/github/kugmax/tensorflow_learn/blob/master/Tutorial.ipynb\" target=\"_parent\"><img src=\"https://colab.research.google.com/assets/colab-badge.svg\" alt=\"Open In Colab\"/></a>"
      ]
    },
    {
      "metadata": {
        "id": "DZeGziUd03tJ",
        "colab_type": "code",
        "colab": {}
      },
      "cell_type": "code",
      "source": [
        "import tensorflow as tf"
      ],
      "execution_count": 0,
      "outputs": []
    },
    {
      "metadata": {
        "id": "btEf7KYb081m",
        "colab_type": "code",
        "colab": {}
      },
      "cell_type": "code",
      "source": [
        "tf.enable_eager_execution()"
      ],
      "execution_count": 0,
      "outputs": []
    },
    {
      "metadata": {
        "id": "60QSglEE1I0M",
        "colab_type": "code",
        "colab": {
          "base_uri": "https://localhost:8080/",
          "height": 221
        },
        "outputId": "e4c4c6ec-3370-41bc-b4b1-a074e18f9c13"
      },
      "cell_type": "code",
      "source": [
        "x = tf.zeros([10, 10])\n",
        "x += 2\n",
        "print(x)\n",
        "print(x.shape)"
      ],
      "execution_count": 10,
      "outputs": [
        {
          "output_type": "stream",
          "text": [
            "tf.Tensor(\n",
            "[[2. 2. 2. 2. 2. 2. 2. 2. 2. 2.]\n",
            " [2. 2. 2. 2. 2. 2. 2. 2. 2. 2.]\n",
            " [2. 2. 2. 2. 2. 2. 2. 2. 2. 2.]\n",
            " [2. 2. 2. 2. 2. 2. 2. 2. 2. 2.]\n",
            " [2. 2. 2. 2. 2. 2. 2. 2. 2. 2.]\n",
            " [2. 2. 2. 2. 2. 2. 2. 2. 2. 2.]\n",
            " [2. 2. 2. 2. 2. 2. 2. 2. 2. 2.]\n",
            " [2. 2. 2. 2. 2. 2. 2. 2. 2. 2.]\n",
            " [2. 2. 2. 2. 2. 2. 2. 2. 2. 2.]\n",
            " [2. 2. 2. 2. 2. 2. 2. 2. 2. 2.]], shape=(10, 10), dtype=float32)\n",
            "(10, 10)\n"
          ],
          "name": "stdout"
        }
      ]
    },
    {
      "metadata": {
        "id": "8eaRSxR91QBL",
        "colab_type": "code",
        "colab": {
          "base_uri": "https://localhost:8080/",
          "height": 85
        },
        "outputId": "69a5e500-2d3e-45ac-a948-ef53a91f3c73"
      },
      "cell_type": "code",
      "source": [
        "v = tf.Variable(1.0)\n",
        "print(v == 1.0)\n",
        "print(v.numpy() == 1.0)\n",
        "print(v)\n",
        "print(v.numpy())"
      ],
      "execution_count": 11,
      "outputs": [
        {
          "output_type": "stream",
          "text": [
            "False\n",
            "True\n",
            "<tf.Variable 'Variable:0' shape=() dtype=float32, numpy=1.0>\n",
            "1.0\n"
          ],
          "name": "stdout"
        }
      ]
    },
    {
      "metadata": {
        "id": "wAkdJGBG2jaP",
        "colab_type": "code",
        "colab": {
          "base_uri": "https://localhost:8080/",
          "height": 34
        },
        "outputId": "e2625c52-38d0-451a-fcd9-91925e6ea539"
      },
      "cell_type": "code",
      "source": [
        "class Model(object):\n",
        "  def __init__(self):\n",
        "    self.W = tf.Variable(5.0)\n",
        "    self.b = tf.Variable(0.0)\n",
        "    \n",
        "  def __call__(self, x):\n",
        "    return self.W * x + self.b\n",
        "  \n",
        "model = Model()  \n",
        "\n",
        "print(model(3.0).numpy() == 15.0) "
      ],
      "execution_count": 14,
      "outputs": [
        {
          "output_type": "stream",
          "text": [
            "True\n"
          ],
          "name": "stdout"
        }
      ]
    },
    {
      "metadata": {
        "id": "hT6zt3NM3NRe",
        "colab_type": "code",
        "colab": {}
      },
      "cell_type": "code",
      "source": [
        "def loss(predictd_y, desired_y):\n",
        "  return tf.reduce_mean( tf.square(predictd_y - desired_y) )"
      ],
      "execution_count": 0,
      "outputs": []
    },
    {
      "metadata": {
        "id": "6qn5zgDu3qaj",
        "colab_type": "code",
        "colab": {}
      },
      "cell_type": "code",
      "source": [
        "TRUE_W = 3.0\n",
        "TRUE_b = 2.0\n",
        "NUM_EXAMPLE = 1000\n",
        "\n",
        "inputs = tf.random_normal(shape=[NUM_EXAMPLE])\n",
        "noise = tf.random_normal(shape=[NUM_EXAMPLE])\n",
        "outputs = inputs * TRUE_W + TRUE_b + noise"
      ],
      "execution_count": 0,
      "outputs": []
    },
    {
      "metadata": {
        "id": "0C9FBxKu4AgS",
        "colab_type": "code",
        "colab": {
          "base_uri": "https://localhost:8080/",
          "height": 381
        },
        "outputId": "eea6dd03-82a6-4473-cfe3-bb2c3bbe43d4"
      },
      "cell_type": "code",
      "source": [
        "import matplotlib.pyplot as plt\n",
        "\n",
        "plt.scatter(inputs, outputs, c='b')\n",
        "plt.scatter(inputs, model(inputs), c='r')\n",
        "\n",
        "plt.show()\n",
        "print('Current loss: ')\n",
        "print(loss(model(inputs), outputs).numpy())"
      ],
      "execution_count": 18,
      "outputs": [
        {
          "output_type": "display_data",
          "data": {
            "image/png": "[encoded data removed]",
            "text/plain": [
              "<matplotlib.figure.Figure at 0x7fa17d809668>"
            ]
          },
          "metadata": {
            "tags": []
          }
        },
        {
          "output_type": "stream",
          "text": [
            "Current loss: \n",
            "8.938043\n"
          ],
          "name": "stdout"
        }
      ]
    },
    {
      "metadata": {
        "id": "E7muB4rO4WFR",
        "colab_type": "code",
        "colab": {}
      },
      "cell_type": "code",
      "source": [
        "def train(model, inputs, outputs, learning_rate):\n",
        "  with tf.GradientTape() as t:\n",
        "    current_loss = loss(model(inputs), outputs)\n",
        "    \n",
        "    dW, db = t.gradient(current_loss, [model.W, model.b])\n",
        "    model.W.assign_sub(learning_rate * dW)\n",
        "    model.b.assign_sub(learning_rate * db)"
      ],
      "execution_count": 0,
      "outputs": []
    },
    {
      "metadata": {
        "id": "U56eyAk65EgG",
        "colab_type": "code",
        "colab": {
          "base_uri": "https://localhost:8080/",
          "height": 517
        },
        "outputId": "dc3a92fc-5fa3-46d5-c1fd-d41b764775f8"
      },
      "cell_type": "code",
      "source": [
        "model = Model()\n",
        "Ws, bs = [], []\n",
        "epochs = range(10)\n",
        "\n",
        "for epoch in epochs:\n",
        "  Ws.append(model.W.numpy())\n",
        "  bs.append(model.b.numpy())\n",
        "  current_loss = loss(model(inputs), outputs)\n",
        "  \n",
        "  train(model, inputs, outputs, learning_rate = 0.25)\n",
        "  print('Epoch %2d: W=%1.2f b=%1.2f, loss=%2.5f' \n",
        "        % (epoch, Ws[-1], bs[-1], current_loss ))\n",
        "      \n",
        "plt.plot(epochs, Ws, 'r', epochs, bs, 'b')\n",
        "plt.plot([TRUE_W] * len(epochs), 'r--',\n",
        "           [TRUE_b] * len(epochs), 'b--')\n",
        "plt.legend(['W', 'b', 'true_w', 'true_b'])\n",
        "plt.show()"
      ],
      "execution_count": 30,
      "outputs": [
        {
          "output_type": "stream",
          "text": [
            "Epoch  0: W=5.00 b=0.00, loss=8.93804\n",
            "Epoch  1: W=3.96 b=0.98, loss=2.83765\n",
            "Epoch  2: W=3.46 b=1.47, loss=1.38467\n",
            "Epoch  3: W=3.22 b=1.71, loss=1.03796\n",
            "Epoch  4: W=3.10 b=1.83, loss=0.95507\n",
            "Epoch  5: W=3.05 b=1.90, loss=0.93522\n",
            "Epoch  6: W=3.02 b=1.93, loss=0.93045\n",
            "Epoch  7: W=3.01 b=1.94, loss=0.92931\n",
            "Epoch  8: W=3.01 b=1.95, loss=0.92903\n",
            "Epoch  9: W=3.00 b=1.95, loss=0.92896\n"
          ],
          "name": "stdout"
        },
        {
          "output_type": "display_data",
          "data": {
            "image/png": "[encoded data removed]",
            "text/plain": [
              "<matplotlib.figure.Figure at 0x7fa177d94860>"
            ]
          },
          "metadata": {
            "tags": []
          }
        }
      ]
    },
    {
      "metadata": {
        "id": "B-a-7s-p59KD",
        "colab_type": "code",
        "colab": {}
      },
      "cell_type": "code",
      "source": [
        "# Custom layers"
      ],
      "execution_count": 0,
      "outputs": []
    },
    {
      "metadata": {
        "id": "HP7Hnl8Y8fSa",
        "colab_type": "code",
        "colab": {
          "base_uri": "https://localhost:8080/",
          "height": 476
        },
        "outputId": "f5dfcfda-8f0a-4438-f2ef-fb9c398adc3d"
      },
      "cell_type": "code",
      "source": [
        "class MyDenseLayer(tf.keras.layers.Layer):\n",
        "  def __init__(self, num_outputs):\n",
        "    super(MyDenseLayer, self).__init__()\n",
        "    self.num_outputs = num_outputs\n",
        "    \n",
        "  def build(self, input_shape):\n",
        "    self.kernel = self.add_variable(\"kernel\", \n",
        "                                    shape= [int(input_shape[-1]), \n",
        "                                            self.num_outputs]\n",
        "                                   )\n",
        "  def call(self, input):\n",
        "    return tf.matmul(input, self.kernel)\n",
        "  \n",
        "  \n",
        "layer = MyDenseLayer(10)\n",
        "\n",
        "print(layer(tf.zeros([10, 5])))\n",
        "print(layer.variables)"
      ],
      "execution_count": 39,
      "outputs": [
        {
          "output_type": "stream",
          "text": [
            "tf.Tensor(\n",
            "[[0. 0. 0. 0. 0. 0. 0. 0. 0. 0.]\n",
            " [0. 0. 0. 0. 0. 0. 0. 0. 0. 0.]\n",
            " [0. 0. 0. 0. 0. 0. 0. 0. 0. 0.]\n",
            " [0. 0. 0. 0. 0. 0. 0. 0. 0. 0.]\n",
            " [0. 0. 0. 0. 0. 0. 0. 0. 0. 0.]\n",
            " [0. 0. 0. 0. 0. 0. 0. 0. 0. 0.]\n",
            " [0. 0. 0. 0. 0. 0. 0. 0. 0. 0.]\n",
            " [0. 0. 0. 0. 0. 0. 0. 0. 0. 0.]\n",
            " [0. 0. 0. 0. 0. 0. 0. 0. 0. 0.]\n",
            " [0. 0. 0. 0. 0. 0. 0. 0. 0. 0.]], shape=(10, 10), dtype=float32)\n",
            "[<tf.Variable 'my_dense_layer_3/kernel:0' shape=(5, 10) dtype=float32, numpy=\n",
            "array([[-2.9230899e-01,  3.5404295e-01,  4.4773620e-01, -2.8072339e-01,\n",
            "         3.5690308e-02, -1.8938243e-01, -8.4578216e-02, -1.5376753e-01,\n",
            "         1.0771352e-01,  2.3322272e-01],\n",
            "       [-3.7067518e-01, -5.4549253e-01, -1.6326198e-01,  1.4559537e-01,\n",
            "         5.7696050e-01, -3.1457254e-01, -5.7345688e-01,  2.1465600e-02,\n",
            "         1.4600933e-02,  8.2926512e-02],\n",
            "       [ 5.9266132e-01,  2.3407286e-01,  1.5621001e-01,  2.5949484e-01,\n",
            "         1.6292572e-01,  2.1289271e-01,  4.1357797e-01,  1.1811781e-01,\n",
            "         5.6842983e-02,  4.1632670e-01],\n",
            "       [ 7.9074562e-02,  4.3176275e-01,  5.6966305e-02, -1.6275623e-01,\n",
            "        -2.4709201e-01,  5.5399173e-01,  2.9011196e-01, -4.8426297e-01,\n",
            "         1.2562758e-01,  6.1763054e-01],\n",
            "       [ 7.7041924e-02,  2.4704462e-01, -3.0753145e-01,  1.6080290e-01,\n",
            "        -2.6762486e-04, -6.1392128e-02, -5.4837322e-01, -3.3601159e-01,\n",
            "        -4.8267484e-02,  3.5835493e-01]], dtype=float32)>]\n"
          ],
          "name": "stdout"
        }
      ]
    },
    {
      "metadata": {
        "id": "FQtd2nz4944v",
        "colab_type": "code",
        "colab": {}
      },
      "cell_type": "code",
      "source": [
        ""
      ],
      "execution_count": 0,
      "outputs": []
    }
  ]
}