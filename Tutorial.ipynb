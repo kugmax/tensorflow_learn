{
  "nbformat": 4,
  "nbformat_minor": 0,
  "metadata": {
    "colab": {
      "name": "Tutorial.ipynb",
      "version": "0.3.2",
      "provenance": [],
      "collapsed_sections": [],
      "toc_visible": true,
      "include_colab_link": true
    },
    "kernelspec": {
      "name": "python3",
      "display_name": "Python 3"
    },
    "accelerator": "GPU"
  },
  "cells": [
    {
      "cell_type": "markdown",
      "metadata": {
        "id": "view-in-github",
        "colab_type": "text"
      },
      "source": [
        "<a href=\"https://colab.research.google.com/github/kugmax/tensorflow_learn/blob/master/Tutorial.ipynb\" target=\"_parent\"><img src=\"https://colab.research.google.com/assets/colab-badge.svg\" alt=\"Open In Colab\"/></a>"
      ]
    },
    {
      "metadata": {
        "id": "DZeGziUd03tJ",
        "colab_type": "code",
        "colab": {}
      },
      "cell_type": "code",
      "source": [
        "import tensorflow as tf"
      ],
      "execution_count": 0,
      "outputs": []
    },
    {
      "metadata": {
        "id": "btEf7KYb081m",
        "colab_type": "code",
        "colab": {}
      },
      "cell_type": "code",
      "source": [
        "tf.enable_eager_execution()"
      ],
      "execution_count": 0,
      "outputs": []
    },
    {
      "metadata": {
        "id": "60QSglEE1I0M",
        "colab_type": "code",
        "outputId": "e4c4c6ec-3370-41bc-b4b1-a074e18f9c13",
        "colab": {
          "base_uri": "https://localhost:8080/",
          "height": 221
        }
      },
      "cell_type": "code",
      "source": [
        "x = tf.zeros([10, 10])\n",
        "x += 2\n",
        "print(x)\n",
        "print(x.shape)"
      ],
      "execution_count": 0,
      "outputs": [
        {
          "output_type": "stream",
          "text": [
            "tf.Tensor(\n",
            "[[2. 2. 2. 2. 2. 2. 2. 2. 2. 2.]\n",
            " [2. 2. 2. 2. 2. 2. 2. 2. 2. 2.]\n",
            " [2. 2. 2. 2. 2. 2. 2. 2. 2. 2.]\n",
            " [2. 2. 2. 2. 2. 2. 2. 2. 2. 2.]\n",
            " [2. 2. 2. 2. 2. 2. 2. 2. 2. 2.]\n",
            " [2. 2. 2. 2. 2. 2. 2. 2. 2. 2.]\n",
            " [2. 2. 2. 2. 2. 2. 2. 2. 2. 2.]\n",
            " [2. 2. 2. 2. 2. 2. 2. 2. 2. 2.]\n",
            " [2. 2. 2. 2. 2. 2. 2. 2. 2. 2.]\n",
            " [2. 2. 2. 2. 2. 2. 2. 2. 2. 2.]], shape=(10, 10), dtype=float32)\n",
            "(10, 10)\n"
          ],
          "name": "stdout"
        }
      ]
    },
    {
      "metadata": {
        "id": "8eaRSxR91QBL",
        "colab_type": "code",
        "outputId": "69a5e500-2d3e-45ac-a948-ef53a91f3c73",
        "colab": {
          "base_uri": "https://localhost:8080/",
          "height": 85
        }
      },
      "cell_type": "code",
      "source": [
        "v = tf.Variable(1.0)\n",
        "print(v == 1.0)\n",
        "print(v.numpy() == 1.0)\n",
        "print(v)\n",
        "print(v.numpy())"
      ],
      "execution_count": 0,
      "outputs": [
        {
          "output_type": "stream",
          "text": [
            "False\n",
            "True\n",
            "<tf.Variable 'Variable:0' shape=() dtype=float32, numpy=1.0>\n",
            "1.0\n"
          ],
          "name": "stdout"
        }
      ]
    },
    {
      "metadata": {
        "id": "wAkdJGBG2jaP",
        "colab_type": "code",
        "outputId": "e2625c52-38d0-451a-fcd9-91925e6ea539",
        "colab": {
          "base_uri": "https://localhost:8080/",
          "height": 34
        }
      },
      "cell_type": "code",
      "source": [
        "class Model(object):\n",
        "  def __init__(self):\n",
        "    self.W = tf.Variable(5.0)\n",
        "    self.b = tf.Variable(0.0)\n",
        "    \n",
        "  def __call__(self, x):\n",
        "    return self.W * x + self.b\n",
        "  \n",
        "model = Model()  \n",
        "\n",
        "print(model(3.0).numpy() == 15.0) "
      ],
      "execution_count": 0,
      "outputs": [
        {
          "output_type": "stream",
          "text": [
            "True\n"
          ],
          "name": "stdout"
        }
      ]
    },
    {
      "metadata": {
        "id": "hT6zt3NM3NRe",
        "colab_type": "code",
        "colab": {}
      },
      "cell_type": "code",
      "source": [
        "def loss(predictd_y, desired_y):\n",
        "  return tf.reduce_mean( tf.square(predictd_y - desired_y) )"
      ],
      "execution_count": 0,
      "outputs": []
    },
    {
      "metadata": {
        "id": "6qn5zgDu3qaj",
        "colab_type": "code",
        "colab": {}
      },
      "cell_type": "code",
      "source": [
        "TRUE_W = 3.0\n",
        "TRUE_b = 2.0\n",
        "NUM_EXAMPLE = 1000\n",
        "\n",
        "inputs = tf.random_normal(shape=[NUM_EXAMPLE])\n",
        "noise = tf.random_normal(shape=[NUM_EXAMPLE])\n",
        "outputs = inputs * TRUE_W + TRUE_b + noise"
      ],
      "execution_count": 0,
      "outputs": []
    },
    {
      "metadata": {
        "id": "0C9FBxKu4AgS",
        "colab_type": "code",
        "outputId": "eea6dd03-82a6-4473-cfe3-bb2c3bbe43d4",
        "colab": {
          "base_uri": "https://localhost:8080/",
          "height": 381
        }
      },
      "cell_type": "code",
      "source": [
        "import matplotlib.pyplot as plt\n",
        "\n",
        "plt.scatter(inputs, outputs, c='b')\n",
        "plt.scatter(inputs, model(inputs), c='r')\n",
        "\n",
        "plt.show()\n",
        "print('Current loss: ')\n",
        "print(loss(model(inputs), outputs).numpy())"
      ],
      "execution_count": 0,
      "outputs": [
        {
          "output_type": "display_data",
          "data": {
            "image/png": "[encoded data removed]",
            "text/plain": [
              "<matplotlib.figure.Figure at 0x7fa17d809668>"
            ]
          },
          "metadata": {
            "tags": []
          }
        },
        {
          "output_type": "stream",
          "text": [
            "Current loss: \n",
            "8.938043\n"
          ],
          "name": "stdout"
        }
      ]
    },
    {
      "metadata": {
        "id": "E7muB4rO4WFR",
        "colab_type": "code",
        "colab": {}
      },
      "cell_type": "code",
      "source": [
        "def train(model, inputs, outputs, learning_rate):\n",
        "  with tf.GradientTape() as t:\n",
        "    current_loss = loss(model(inputs), outputs)\n",
        "    \n",
        "    dW, db = t.gradient(current_loss, [model.W, model.b])\n",
        "    model.W.assign_sub(learning_rate * dW)\n",
        "    model.b.assign_sub(learning_rate * db)"
      ],
      "execution_count": 0,
      "outputs": []
    },
    {
      "metadata": {
        "id": "U56eyAk65EgG",
        "colab_type": "code",
        "outputId": "dc3a92fc-5fa3-46d5-c1fd-d41b764775f8",
        "colab": {
          "base_uri": "https://localhost:8080/",
          "height": 517
        }
      },
      "cell_type": "code",
      "source": [
        "model = Model()\n",
        "Ws, bs = [], []\n",
        "epochs = range(10)\n",
        "\n",
        "for epoch in epochs:\n",
        "  Ws.append(model.W.numpy())\n",
        "  bs.append(model.b.numpy())\n",
        "  current_loss = loss(model(inputs), outputs)\n",
        "  \n",
        "  train(model, inputs, outputs, learning_rate = 0.25)\n",
        "  print('Epoch %2d: W=%1.2f b=%1.2f, loss=%2.5f' \n",
        "        % (epoch, Ws[-1], bs[-1], current_loss ))\n",
        "      \n",
        "plt.plot(epochs, Ws, 'r', epochs, bs, 'b')\n",
        "plt.plot([TRUE_W] * len(epochs), 'r--',\n",
        "           [TRUE_b] * len(epochs), 'b--')\n",
        "plt.legend(['W', 'b', 'true_w', 'true_b'])\n",
        "plt.show()"
      ],
      "execution_count": 0,
      "outputs": [
        {
          "output_type": "stream",
          "text": [
            "Epoch  0: W=5.00 b=0.00, loss=8.93804\n",
            "Epoch  1: W=3.96 b=0.98, loss=2.83765\n",
            "Epoch  2: W=3.46 b=1.47, loss=1.38467\n",
            "Epoch  3: W=3.22 b=1.71, loss=1.03796\n",
            "Epoch  4: W=3.10 b=1.83, loss=0.95507\n",
            "Epoch  5: W=3.05 b=1.90, loss=0.93522\n",
            "Epoch  6: W=3.02 b=1.93, loss=0.93045\n",
            "Epoch  7: W=3.01 b=1.94, loss=0.92931\n",
            "Epoch  8: W=3.01 b=1.95, loss=0.92903\n",
            "Epoch  9: W=3.00 b=1.95, loss=0.92896\n"
          ],
          "name": "stdout"
        },
        {
          "output_type": "display_data",
          "data": {
            "image/png": "[encoded data removed]",
            "text/plain": [
              "<matplotlib.figure.Figure at 0x7fa177d94860>"
            ]
          },
          "metadata": {
            "tags": []
          }
        }
      ]
    },
    {
      "metadata": {
        "id": "B-a-7s-p59KD",
        "colab_type": "code",
        "colab": {}
      },
      "cell_type": "code",
      "source": [
        "# Custom layers"
      ],
      "execution_count": 0,
      "outputs": []
    },
    {
      "metadata": {
        "id": "HP7Hnl8Y8fSa",
        "colab_type": "code",
        "outputId": "f5dfcfda-8f0a-4438-f2ef-fb9c398adc3d",
        "colab": {
          "base_uri": "https://localhost:8080/",
          "height": 476
        }
      },
      "cell_type": "code",
      "source": [
        "class MyDenseLayer(tf.keras.layers.Layer):\n",
        "  def __init__(self, num_outputs):\n",
        "    super(MyDenseLayer, self).__init__()\n",
        "    self.num_outputs = num_outputs\n",
        "    \n",
        "  def build(self, input_shape):\n",
        "    self.kernel = self.add_variable(\"kernel\", \n",
        "                                    shape= [int(input_shape[-1]), \n",
        "                                            self.num_outputs]\n",
        "                                   )\n",
        "  def call(self, input):\n",
        "    return tf.matmul(input, self.kernel)\n",
        "  \n",
        "  \n",
        "layer = MyDenseLayer(10)\n",
        "\n",
        "print(layer(tf.zeros([10, 5])))\n",
        "print(layer.variables)"
      ],
      "execution_count": 0,
      "outputs": [
        {
          "output_type": "stream",
          "text": [
            "tf.Tensor(\n",
            "[[0. 0. 0. 0. 0. 0. 0. 0. 0. 0.]\n",
            " [0. 0. 0. 0. 0. 0. 0. 0. 0. 0.]\n",
            " [0. 0. 0. 0. 0. 0. 0. 0. 0. 0.]\n",
            " [0. 0. 0. 0. 0. 0. 0. 0. 0. 0.]\n",
            " [0. 0. 0. 0. 0. 0. 0. 0. 0. 0.]\n",
            " [0. 0. 0. 0. 0. 0. 0. 0. 0. 0.]\n",
            " [0. 0. 0. 0. 0. 0. 0. 0. 0. 0.]\n",
            " [0. 0. 0. 0. 0. 0. 0. 0. 0. 0.]\n",
            " [0. 0. 0. 0. 0. 0. 0. 0. 0. 0.]\n",
            " [0. 0. 0. 0. 0. 0. 0. 0. 0. 0.]], shape=(10, 10), dtype=float32)\n",
            "[<tf.Variable 'my_dense_layer_3/kernel:0' shape=(5, 10) dtype=float32, numpy=\n",
            "array([[-2.9230899e-01,  3.5404295e-01,  4.4773620e-01, -2.8072339e-01,\n",
            "         3.5690308e-02, -1.8938243e-01, -8.4578216e-02, -1.5376753e-01,\n",
            "         1.0771352e-01,  2.3322272e-01],\n",
            "       [-3.7067518e-01, -5.4549253e-01, -1.6326198e-01,  1.4559537e-01,\n",
            "         5.7696050e-01, -3.1457254e-01, -5.7345688e-01,  2.1465600e-02,\n",
            "         1.4600933e-02,  8.2926512e-02],\n",
            "       [ 5.9266132e-01,  2.3407286e-01,  1.5621001e-01,  2.5949484e-01,\n",
            "         1.6292572e-01,  2.1289271e-01,  4.1357797e-01,  1.1811781e-01,\n",
            "         5.6842983e-02,  4.1632670e-01],\n",
            "       [ 7.9074562e-02,  4.3176275e-01,  5.6966305e-02, -1.6275623e-01,\n",
            "        -2.4709201e-01,  5.5399173e-01,  2.9011196e-01, -4.8426297e-01,\n",
            "         1.2562758e-01,  6.1763054e-01],\n",
            "       [ 7.7041924e-02,  2.4704462e-01, -3.0753145e-01,  1.6080290e-01,\n",
            "        -2.6762486e-04, -6.1392128e-02, -5.4837322e-01, -3.3601159e-01,\n",
            "        -4.8267484e-02,  3.5835493e-01]], dtype=float32)>]\n"
          ],
          "name": "stdout"
        }
      ]
    },
    {
      "metadata": {
        "id": "FQtd2nz4944v",
        "colab_type": "code",
        "outputId": "fe7350f9-e636-4b03-abfd-cbb563c0b3fa",
        "colab": {
          "base_uri": "https://localhost:8080/",
          "height": 190
        }
      },
      "cell_type": "code",
      "source": [
        "class ResnetIdentityBlock(tf.keras.Model):\n",
        "  def __init__(self, kernel_size, filters):\n",
        "    super(ResnetIdentityBlock, self).__init__(name='')\n",
        "    filters1, filters2, filters3 = filters\n",
        "    \n",
        "    self.conv2a = tf.keras.layers.Conv2D(filters1, (1, 1))\n",
        "    self.bn2a = tf.keras.layers.BatchNormalization()\n",
        "    \n",
        "    self.conv2b = tf.keras.layers.Conv2D(filters2, kernel_size, padding='same')\n",
        "    self.bn2b = tf.keras.layers.BatchNormalization()\n",
        "    \n",
        "    self.conv2c = tf.keras.layers.Conv2D(filters3, (1, 1))\n",
        "    self.bn2c = tf.keras.layers.BatchNormalization()\n",
        "    \n",
        "  def call(self, input_tensor, training=False):\n",
        "    x = self.conv2a(input_tensor)\n",
        "    x = self.bn2a(x, training=training)\n",
        "    x = tf.nn.relu(x)\n",
        "    \n",
        "    x = self.conv2b(x)\n",
        "    x = self.bn2b(x, training=training)\n",
        "    x = tf.nn.relu(x)\n",
        "    \n",
        "    x = self.conv2c(x)\n",
        "    x = self.bn2c(x, training=training)\n",
        "    \n",
        "    x += input_tensor\n",
        "    return tf.nn.relu(x)\n",
        "  \n",
        "block = ResnetIdentityBlock(1, [1, 2, 3])\n",
        "print(block(tf.zeros([1, 2, 3, 3]) ))\n",
        "print([x.name for x in block.variables])"
      ],
      "execution_count": 0,
      "outputs": [
        {
          "output_type": "stream",
          "text": [
            "tf.Tensor(\n",
            "[[[[0. 0. 0.]\n",
            "   [0. 0. 0.]\n",
            "   [0. 0. 0.]]\n",
            "\n",
            "  [[0. 0. 0.]\n",
            "   [0. 0. 0.]\n",
            "   [0. 0. 0.]]]], shape=(1, 2, 3, 3), dtype=float32)\n",
            "['resnet_identity_block_1/conv2d_1/kernel:0', 'resnet_identity_block_1/conv2d_1/bias:0', 'resnet_identity_block_1/batch_normalization/gamma:0', 'resnet_identity_block_1/batch_normalization/beta:0', 'resnet_identity_block_1/conv2d_2/kernel:0', 'resnet_identity_block_1/conv2d_2/bias:0', 'resnet_identity_block_1/batch_normalization_1/gamma:0', 'resnet_identity_block_1/batch_normalization_1/beta:0', 'resnet_identity_block_1/conv2d_3/kernel:0', 'resnet_identity_block_1/conv2d_3/bias:0', 'resnet_identity_block_1/batch_normalization_2/gamma:0', 'resnet_identity_block_1/batch_normalization_2/beta:0', 'resnet_identity_block_1/batch_normalization/moving_mean:0', 'resnet_identity_block_1/batch_normalization/moving_variance:0', 'resnet_identity_block_1/batch_normalization_1/moving_mean:0', 'resnet_identity_block_1/batch_normalization_1/moving_variance:0', 'resnet_identity_block_1/batch_normalization_2/moving_mean:0', 'resnet_identity_block_1/batch_normalization_2/moving_variance:0']\n"
          ],
          "name": "stdout"
        }
      ]
    },
    {
      "metadata": {
        "id": "gBsppFXWl2EG",
        "colab_type": "code",
        "outputId": "f49b4017-5f85-4fa7-c53c-b9c6f6a76bba",
        "colab": {
          "base_uri": "https://localhost:8080/",
          "height": 153
        }
      },
      "cell_type": "code",
      "source": [
        "\n",
        "my_seq = tf.keras.Sequential([\n",
        "    tf.keras.layers.Conv2D(1, (1, 1)),\n",
        "    tf.keras.layers.BatchNormalization(),\n",
        "    tf.keras.layers.Conv2D(2, 1, padding='same'),\n",
        "    tf.keras.layers.BatchNormalization(),\n",
        "    tf.keras.layers.Conv2D(3, (1, 1)),\n",
        "    tf.keras.layers.BatchNormalization()\n",
        "])\n",
        "my_seq(tf.zeros([1, 2, 3, 3]))\n",
        "#print([x.name for x in block.variables])"
      ],
      "execution_count": 0,
      "outputs": [
        {
          "output_type": "execute_result",
          "data": {
            "text/plain": [
              "<tf.Tensor: id=486, shape=(1, 2, 3, 3), dtype=float32, numpy=\n",
              "array([[[[0., 0., 0.],\n",
              "         [0., 0., 0.],\n",
              "         [0., 0., 0.]],\n",
              "\n",
              "        [[0., 0., 0.],\n",
              "         [0., 0., 0.],\n",
              "         [0., 0., 0.]]]], dtype=float32)>"
            ]
          },
          "metadata": {
            "tags": []
          },
          "execution_count": 14
        }
      ]
    },
    {
      "metadata": {
        "id": "0zWaI9uTHJEa",
        "colab_type": "text"
      },
      "cell_type": "markdown",
      "source": [
        "# Custom training: walkthrough"
      ]
    },
    {
      "metadata": {
        "id": "knIAjjjKnHiM",
        "colab_type": "code",
        "colab": {}
      },
      "cell_type": "code",
      "source": [
        "!pip install -q tf-nightly"
      ],
      "execution_count": 0,
      "outputs": []
    },
    {
      "metadata": {
        "id": "aVoeHOQ_n6wU",
        "colab_type": "code",
        "outputId": "b2ab7ee4-7b0b-4119-842a-edbefbfa8b33",
        "colab": {
          "base_uri": "https://localhost:8080/",
          "height": 51
        }
      },
      "cell_type": "code",
      "source": [
        "from __future__ import absolute_import, division, print_function\n",
        "\n",
        "import os\n",
        "import matplotlib.pyplot as plt\n",
        "import tensorflow as tf\n",
        "\n",
        "tf.enable_eager_execution()\n",
        "\n",
        "print(\"TensorFlow version: {}\".format(tf.__version__))\n",
        "print(\"Eager execution: {}\".format(tf.executing_eagerly()))\n"
      ],
      "execution_count": 0,
      "outputs": [
        {
          "output_type": "stream",
          "text": [
            "TensorFlow version: 1.13.0-dev20181221\n",
            "Eager execution: True\n"
          ],
          "name": "stdout"
        }
      ]
    },
    {
      "metadata": {
        "id": "bMo4jXxbocXi",
        "colab_type": "code",
        "outputId": "436f2a52-848e-4342-feab-4d87b3f6f365",
        "colab": {
          "base_uri": "https://localhost:8080/",
          "height": 34
        }
      },
      "cell_type": "code",
      "source": [
        "train_dataset_url = \"http://download.tensorflow.org/data/iris_training.csv\"\n",
        "\n",
        "train_dataset_fp = tf.keras.utils.get_file(fname=os.path.basename(train_dataset_url),\n",
        "                                          origin=train_dataset_url)\n",
        "\n",
        "print(\"Local copy of the dataset file: {}\".format(train_dataset_fp))"
      ],
      "execution_count": 0,
      "outputs": [
        {
          "output_type": "stream",
          "text": [
            "Local copy of the dataset file: /root/.keras/datasets/iris_training.csv\n"
          ],
          "name": "stdout"
        }
      ]
    },
    {
      "metadata": {
        "id": "jl1p5XnApHvN",
        "colab_type": "code",
        "outputId": "077b4da3-1b4f-4bc3-8335-3e9936de3345",
        "colab": {
          "base_uri": "https://localhost:8080/",
          "height": 102
        }
      },
      "cell_type": "code",
      "source": [
        "!head -n5 {train_dataset_fp}"
      ],
      "execution_count": 0,
      "outputs": [
        {
          "output_type": "stream",
          "text": [
            "120,4,setosa,versicolor,virginica\n",
            "6.4,2.8,5.6,2.2,2\n",
            "5.0,2.3,3.3,1.0,1\n",
            "4.9,2.5,4.5,1.7,2\n",
            "4.9,3.1,1.5,0.1,0\n"
          ],
          "name": "stdout"
        }
      ]
    },
    {
      "metadata": {
        "id": "ZSdbF4hFpOpk",
        "colab_type": "code",
        "outputId": "b8f765e4-ea43-4d0c-b970-851ed69dac9a",
        "colab": {
          "base_uri": "https://localhost:8080/",
          "height": 51
        }
      },
      "cell_type": "code",
      "source": [
        "column_names = ['sepal_length', 'sepal_width', 'petal_length', 'petal_width', 'species']\n",
        "\n",
        "feature_names = column_names[:-1]\n",
        "label_name = column_names[-1]\n",
        "\n",
        "print(\"Features: {}\".format(feature_names))\n",
        "print(\"Label: {}\".format(label_name))"
      ],
      "execution_count": 0,
      "outputs": [
        {
          "output_type": "stream",
          "text": [
            "Features: ['sepal_length', 'sepal_width', 'petal_length', 'petal_width']\n",
            "Label: species\n"
          ],
          "name": "stdout"
        }
      ]
    },
    {
      "metadata": {
        "id": "N8J4KzOzqE8h",
        "colab_type": "code",
        "colab": {}
      },
      "cell_type": "code",
      "source": [
        "class_names = ['Iris setosa', 'Iris versicolor', 'Iris virginica']"
      ],
      "execution_count": 0,
      "outputs": []
    },
    {
      "metadata": {
        "id": "dO-eUULFqO3w",
        "colab_type": "code",
        "outputId": "ed5e4507-7403-4a49-adcf-735408462df5",
        "colab": {
          "base_uri": "https://localhost:8080/",
          "height": 207
        }
      },
      "cell_type": "code",
      "source": [
        "batch_size = 32\n",
        "\n",
        "train_dataset = tf.contrib.data.make_csv_dataset(\n",
        "    train_dataset_fp,\n",
        "    batch_size,\n",
        "    column_names=column_names,\n",
        "    label_name=label_name,\n",
        "    num_epochs=1)"
      ],
      "execution_count": 0,
      "outputs": [
        {
          "output_type": "stream",
          "text": [
            "\n",
            "WARNING: The TensorFlow contrib module will not be included in TensorFlow 2.0.\n",
            "For more information, please see:\n",
            "  * https://github.com/tensorflow/community/blob/master/rfcs/20180907-contrib-sunset.md\n",
            "  * https://github.com/tensorflow/addons\n",
            "If you depend on functionality not listed there, please file an issue.\n",
            "\n",
            "WARNING:tensorflow:From <ipython-input-6-b38e4b2864a1>:8: make_csv_dataset (from tensorflow.contrib.data.python.ops.readers) is deprecated and will be removed in a future version.\n",
            "Instructions for updating:\n",
            "Use `tf.data.experimental.make_csv_dataset(...)`.\n"
          ],
          "name": "stdout"
        }
      ]
    },
    {
      "metadata": {
        "id": "jQOIpKIHt-kW",
        "colab_type": "code",
        "colab": {}
      },
      "cell_type": "code",
      "source": [
        "features, labels = next(iter(train_dataset))"
      ],
      "execution_count": 0,
      "outputs": []
    },
    {
      "metadata": {
        "id": "I3DaUdApuNlF",
        "colab_type": "code",
        "outputId": "3bc7b7b4-77d1-46aa-9911-517bc2b791ed",
        "colab": {
          "base_uri": "https://localhost:8080/",
          "height": 357
        }
      },
      "cell_type": "code",
      "source": [
        "features"
      ],
      "execution_count": 0,
      "outputs": [
        {
          "output_type": "execute_result",
          "data": {
            "text/plain": [
              "OrderedDict([('sepal_length',\n",
              "              <tf.Tensor: id=67, shape=(32,), dtype=float32, numpy=\n",
              "              array([5. , 5.7, 6.3, 5.1, 5. , 6.5, 4.5, 6.5, 6. , 6.5, 5.1, 6.9, 5.6,\n",
              "                     6.1, 5.5, 7.9, 4.7, 5.6, 6.3, 5.8, 4.4, 4.9, 7.6, 7.7, 6.1, 4.8,\n",
              "                     6.2, 5. , 6.8, 6.7, 5. , 7.7], dtype=float32)>),\n",
              "             ('sepal_width',\n",
              "              <tf.Tensor: id=68, shape=(32,), dtype=float32, numpy=\n",
              "              array([3.5, 3. , 2.3, 3.8, 2. , 3. , 2.3, 2.8, 2.9, 3. , 3.8, 3.2, 2.5,\n",
              "                     2.9, 2.4, 3.8, 3.2, 2.9, 3.4, 2.7, 2.9, 2.4, 3. , 3. , 2.8, 3.4,\n",
              "                     3.4, 3.2, 3.2, 3.3, 3. , 3.8], dtype=float32)>),\n",
              "             ('petal_length',\n",
              "              <tf.Tensor: id=65, shape=(32,), dtype=float32, numpy=\n",
              "              array([1.6, 4.2, 4.4, 1.9, 3.5, 5.5, 1.3, 4.6, 4.5, 5.8, 1.5, 5.7, 3.9,\n",
              "                     4.7, 3.7, 6.4, 1.3, 3.6, 5.6, 4.1, 1.4, 3.3, 6.6, 6.1, 4.7, 1.6,\n",
              "                     5.4, 1.2, 5.9, 5.7, 1.6, 6.7], dtype=float32)>),\n",
              "             ('petal_width',\n",
              "              <tf.Tensor: id=66, shape=(32,), dtype=float32, numpy=\n",
              "              array([0.6, 1.2, 1.3, 0.4, 1. , 1.8, 0.3, 1.5, 1.5, 2.2, 0.3, 2.3, 1.1,\n",
              "                     1.4, 1. , 2. , 0.2, 1.3, 2.4, 1. , 0.2, 1. , 2.1, 2.3, 1.2, 0.2,\n",
              "                     2.3, 0.2, 2.3, 2.1, 0.2, 2.2], dtype=float32)>)])"
            ]
          },
          "metadata": {
            "tags": []
          },
          "execution_count": 9
        }
      ]
    },
    {
      "metadata": {
        "id": "JD-7tdaXuOf9",
        "colab_type": "code",
        "outputId": "b080735f-aacf-4979-d897-108ad853ad90",
        "colab": {
          "base_uri": "https://localhost:8080/",
          "height": 361
        }
      },
      "cell_type": "code",
      "source": [
        "plt.scatter(features['petal_length'],\n",
        "            features['sepal_length'],\n",
        "            c=labels,\n",
        "            cmap='viridis')\n",
        "\n",
        "plt.xlabel('Petal length');\n",
        "plt.ylabel('Sepal length');"
      ],
      "execution_count": 0,
      "outputs": [
        {
          "output_type": "display_data",
          "data": {
            "image/png": "[encoded data removed]",
            "text/plain": [
              "<matplotlib.figure.Figure at 0x7f159e1e1208>"
            ]
          },
          "metadata": {
            "tags": []
          }
        }
      ]
    },
    {
      "metadata": {
        "id": "7bPTBaI3uZXN",
        "colab_type": "code",
        "colab": {}
      },
      "cell_type": "code",
      "source": [
        "def pack_features_vector(features, labels):\n",
        "  features = tf.stack(list(features.values()), axis=1)\n",
        "  return features, labels"
      ],
      "execution_count": 0,
      "outputs": []
    },
    {
      "metadata": {
        "id": "PUXh8oMvvMZL",
        "colab_type": "code",
        "colab": {}
      },
      "cell_type": "code",
      "source": [
        "train_dataset = train_dataset.map(pack_features_vector)"
      ],
      "execution_count": 0,
      "outputs": []
    },
    {
      "metadata": {
        "id": "GqbsMdCGvelK",
        "colab_type": "code",
        "outputId": "b551db76-7b93-4b8a-acf8-199618c17fe9",
        "colab": {
          "base_uri": "https://localhost:8080/",
          "height": 119
        }
      },
      "cell_type": "code",
      "source": [
        "features, labels = next(iter(train_dataset))\n",
        "print(features[:5])"
      ],
      "execution_count": 0,
      "outputs": [
        {
          "output_type": "stream",
          "text": [
            "tf.Tensor(\n",
            "[[5.  3.5 1.6 0.6]\n",
            " [5.7 3.  4.2 1.2]\n",
            " [6.3 2.3 4.4 1.3]\n",
            " [5.1 3.8 1.9 0.4]\n",
            " [5.  2.  3.5 1. ]], shape=(5, 4), dtype=float32)\n"
          ],
          "name": "stdout"
        }
      ]
    },
    {
      "metadata": {
        "id": "rf7nHgsvvoGU",
        "colab_type": "code",
        "colab": {}
      },
      "cell_type": "code",
      "source": [
        "model = tf.keras.Sequential([\n",
        "    tf.keras.layers.Dense(10, activation=tf.nn.relu, input_shape=(4, )),\n",
        "    tf.keras.layers.Dense(10, activation=tf.nn.relu),\n",
        "    tf.keras.layers.Dense(3)\n",
        "])"
      ],
      "execution_count": 0,
      "outputs": []
    },
    {
      "metadata": {
        "id": "o0hgJRza03Ij",
        "colab_type": "code",
        "outputId": "0e167bb7-db89-42f8-c35e-9ec2b5087f31",
        "colab": {
          "base_uri": "https://localhost:8080/",
          "height": 119
        }
      },
      "cell_type": "code",
      "source": [
        "predictions = model(features)\n",
        "predictions[:5]"
      ],
      "execution_count": 0,
      "outputs": [
        {
          "output_type": "execute_result",
          "data": {
            "text/plain": [
              "<tf.Tensor: id=218, shape=(5, 3), dtype=float32, numpy=\n",
              "array([[ 0.8893151 , -0.5055454 ,  2.5295455 ],\n",
              "       [ 0.9967212 , -0.02033699,  3.1340244 ],\n",
              "       [ 1.2481977 ,  0.22266865,  3.0803175 ],\n",
              "       [ 0.94487166, -0.56356364,  2.7594275 ],\n",
              "       [ 0.97378576,  0.13587475,  2.5058517 ]], dtype=float32)>"
            ]
          },
          "metadata": {
            "tags": []
          },
          "execution_count": 15
        }
      ]
    },
    {
      "metadata": {
        "id": "N2HKy2Oe06IY",
        "colab_type": "code",
        "outputId": "d63de866-ae51-4722-d5eb-3fcd6d0ad4ab",
        "colab": {
          "base_uri": "https://localhost:8080/",
          "height": 119
        }
      },
      "cell_type": "code",
      "source": [
        "tf.nn.softmax(predictions[:5])"
      ],
      "execution_count": 0,
      "outputs": [
        {
          "output_type": "execute_result",
          "data": {
            "text/plain": [
              "<tf.Tensor: id=224, shape=(5, 3), dtype=float32, numpy=\n",
              "array([[0.15614693, 0.03870377, 0.8051494 ],\n",
              "       [0.10164457, 0.0367605 , 0.8615949 ],\n",
              "       [0.13147996, 0.04714959, 0.8213705 ],\n",
              "       [0.13587685, 0.03006356, 0.8340596 ],\n",
              "       [0.16500722, 0.07138431, 0.76360846]], dtype=float32)>"
            ]
          },
          "metadata": {
            "tags": []
          },
          "execution_count": 16
        }
      ]
    },
    {
      "metadata": {
        "id": "GE1_M1f81Ov4",
        "colab_type": "code",
        "outputId": "45b664a9-627d-4c85-94ba-781638966ba5",
        "colab": {
          "base_uri": "https://localhost:8080/",
          "height": 51
        }
      },
      "cell_type": "code",
      "source": [
        "print(\"Prediction: {}\".format(tf.argmax(predictions, axis=1)))\n",
        "print(\"    Labels: {}\".format(labels))"
      ],
      "execution_count": 0,
      "outputs": [
        {
          "output_type": "stream",
          "text": [
            "Prediction: [2 2 2 2 2 2 2 2 2 2 2 2 2 2 2 2 2 2 2 2 2 2 2 2 2 2 2 2 2 2 2 2]\n",
            "    Labels: [0 1 1 0 1 2 0 1 1 2 0 2 1 1 1 2 0 1 2 1 0 1 2 2 1 0 2 0 2 2 0 2]\n"
          ],
          "name": "stdout"
        }
      ]
    },
    {
      "metadata": {
        "id": "rJO50aFq1Zrv",
        "colab_type": "code",
        "outputId": "0a229180-fbc3-46c0-c50a-4975feb3c40a",
        "colab": {
          "base_uri": "https://localhost:8080/",
          "height": 34
        }
      },
      "cell_type": "code",
      "source": [
        "def loss(model, x, y):\n",
        "  y_ = model(x)\n",
        "  return tf.losses.sparse_softmax_cross_entropy(labels=y, logits=y_)\n",
        "\n",
        "l = loss(model, features, labels)\n",
        "print(\"Loss test {}\".format(l))"
      ],
      "execution_count": 0,
      "outputs": [
        {
          "output_type": "stream",
          "text": [
            "Loss test 1.6755694150924683\n"
          ],
          "name": "stdout"
        }
      ]
    },
    {
      "metadata": {
        "id": "zeLF6sJo2HhM",
        "colab_type": "code",
        "colab": {}
      },
      "cell_type": "code",
      "source": [
        "def grad(model, inputs, targets):\n",
        "  with tf.GradientTape() as tape:\n",
        "    loss_value = loss(model, inputs, targets)\n",
        "  return loss_value, tape.gradient(loss_value, model.trainable_variables)"
      ],
      "execution_count": 0,
      "outputs": []
    },
    {
      "metadata": {
        "id": "ZdqUkChb2h0i",
        "colab_type": "code",
        "colab": {}
      },
      "cell_type": "code",
      "source": [
        "optimizer = tf.train.GradientDescentOptimizer(learning_rate=0.01)\n",
        "global_step = tf.Variable(0)"
      ],
      "execution_count": 0,
      "outputs": []
    },
    {
      "metadata": {
        "id": "G3GrwPpb3woW",
        "colab_type": "code",
        "outputId": "e4c14b1d-49cd-4515-f201-eb5d4c192cb9",
        "colab": {
          "base_uri": "https://localhost:8080/",
          "height": 51
        }
      },
      "cell_type": "code",
      "source": [
        "loss_value, grads = grad(model, features, labels)\n",
        "\n",
        "print(\"Step: {}, Initial Loss: {}\".format(global_step.numpy(),\n",
        "                                         loss_value.numpy()))\n",
        "\n",
        "optimizer.apply_gradients(zip(grads, model.variables), global_step)\n",
        "\n",
        "print(\"Step: {},         Loss: {}\".format(global_step.numpy(),\n",
        "                                         loss(model, features, labels).numpy()))"
      ],
      "execution_count": 0,
      "outputs": [
        {
          "output_type": "stream",
          "text": [
            "Step: 0, Initial Loss: 1.6755694150924683\n",
            "Step: 1,         Loss: 1.24763023853302\n"
          ],
          "name": "stdout"
        }
      ]
    },
    {
      "metadata": {
        "id": "cijjqH734XDU",
        "colab_type": "code",
        "outputId": "0a16bc46-f0f0-445a-9aea-8478aac7d785",
        "colab": {
          "base_uri": "https://localhost:8080/",
          "height": 102
        }
      },
      "cell_type": "code",
      "source": [
        "train_loss_results = []\n",
        "train_accuracy_results = []\n",
        "\n",
        "num_epochs = 201\n",
        "\n",
        "for epoch in range(num_epochs):\n",
        "  #epoch_loss_avg = tf.metrics.mean\n",
        "  #epoch_accuracy = tf.metrics.accuracy\n",
        "  \n",
        "  epoch_loss_avg = tf.contrib.eager.metrics.Mean()\n",
        "  epoch_accuracy = tf.contrib.eager.metrics.Accuracy()\n",
        "  \n",
        "  for x, y in train_dataset:\n",
        "    loss_value, grads = grad(model, x, y)\n",
        "    optimizer.apply_gradients(zip(grads, model.variables),\n",
        "                             global_step)\n",
        "    \n",
        "    epoch_loss_avg(loss_value)\n",
        "    epoch_accuracy(tf.argmax(model(x), axis=1, output_type=tf.int32), y)\n",
        "    \n",
        "  train_loss_results.append(epoch_loss_avg.result())\n",
        "  train_accuracy_results.append(epoch_accuracy.result())\n",
        "  \n",
        "  if epoch % 50 == 0:\n",
        "    print(\"Epoch {:03d}: Loss: {:.3f}, Accuracy: {:.3%}\".format(epoch,\n",
        "                                                                epoch_loss_avg.result(),\n",
        "                                                                epoch_accuracy.result()\n",
        "    ))"
      ],
      "execution_count": 0,
      "outputs": [
        {
          "output_type": "stream",
          "text": [
            "Epoch 000: Loss: 0.979, Accuracy: 37.500%\n",
            "Epoch 050: Loss: 0.369, Accuracy: 94.167%\n",
            "Epoch 100: Loss: 0.223, Accuracy: 96.667%\n",
            "Epoch 150: Loss: 0.157, Accuracy: 96.667%\n",
            "Epoch 200: Loss: 0.124, Accuracy: 97.500%\n"
          ],
          "name": "stdout"
        }
      ]
    },
    {
      "metadata": {
        "id": "T6G_6RQK50vQ",
        "colab_type": "code",
        "outputId": "b652d8e3-7998-4ac7-9803-9de58c3eb35f",
        "colab": {
          "base_uri": "https://localhost:8080/",
          "height": 575
        }
      },
      "cell_type": "code",
      "source": [
        "fig, axes = plt.subplots(2, sharex=True, figsize=(12, 8))\n",
        "fig.suptitle('Training Metrics')\n",
        "\n",
        "axes[0].set_ylabel(\"Loss\", fontsize=14)\n",
        "axes[0].plot(train_loss_results)\n",
        "\n",
        "axes[1].set_ylabel(\"Accurace\", fontsize=14)\n",
        "axes[1].set_xlabel(\"Epoch\", fontsize=14)\n",
        "axes[1].plot(train_accuracy_results)"
      ],
      "execution_count": 0,
      "outputs": [
        {
          "output_type": "execute_result",
          "data": {
            "text/plain": [
              "[<matplotlib.lines.Line2D at 0x7f1593dcb0f0>]"
            ]
          },
          "metadata": {
            "tags": []
          },
          "execution_count": 27
        },
        {
          "output_type": "display_data",
          "data": {
            "image/png": "[encoded data removed]",
            "text/plain": [
              "<matplotlib.figure.Figure at 0x7f1593eae278>"
            ]
          },
          "metadata": {
            "tags": []
          }
        }
      ]
    },
    {
      "metadata": {
        "id": "ceQVAEfP6E4N",
        "colab_type": "code",
        "outputId": "f105198c-a3bd-4b31-e42f-fa10a51001ee",
        "colab": {
          "base_uri": "https://localhost:8080/",
          "height": 71
        }
      },
      "cell_type": "code",
      "source": [
        "test_url = \"http://download.tensorflow.org/data/iris_test.csv\"\n",
        "test_fp = tf.keras.utils.get_file(fname=os.path.basename(test_url),\n",
        "                                  origin=test_url)"
      ],
      "execution_count": 0,
      "outputs": [
        {
          "output_type": "stream",
          "text": [
            "Downloading data from http://download.tensorflow.org/data/iris_test.csv\n",
            "\r8192/573 [============================================================================================================================================================================================================================================================================================================================================================================================================================================] - 0s 0us/step\n"
          ],
          "name": "stdout"
        }
      ]
    },
    {
      "metadata": {
        "id": "B6H9hVK5KHv8",
        "colab_type": "code",
        "colab": {}
      },
      "cell_type": "code",
      "source": [
        "test_dataset = tf.contrib.data.make_csv_dataset(\n",
        "    test_fp,\n",
        "    batch_size, \n",
        "    column_names=column_names,\n",
        "    label_name='species',\n",
        "    num_epochs=1,\n",
        "    shuffle=False)\n",
        "\n",
        "test_dataset = test_dataset.map(pack_features_vector)"
      ],
      "execution_count": 0,
      "outputs": []
    },
    {
      "metadata": {
        "id": "67hme17nKe04",
        "colab_type": "code",
        "outputId": "0debb3c6-70e2-4249-ea7f-02c9781b8359",
        "colab": {
          "base_uri": "https://localhost:8080/",
          "height": 595
        }
      },
      "cell_type": "code",
      "source": [
        "next(iter(test_dataset))"
      ],
      "execution_count": 0,
      "outputs": [
        {
          "output_type": "execute_result",
          "data": {
            "text/plain": [
              "(<tf.Tensor: id=106478, shape=(30, 4), dtype=float32, numpy=\n",
              " array([[5.9, 3. , 4.2, 1.5],\n",
              "        [6.9, 3.1, 5.4, 2.1],\n",
              "        [5.1, 3.3, 1.7, 0.5],\n",
              "        [6. , 3.4, 4.5, 1.6],\n",
              "        [5.5, 2.5, 4. , 1.3],\n",
              "        [6.2, 2.9, 4.3, 1.3],\n",
              "        [5.5, 4.2, 1.4, 0.2],\n",
              "        [6.3, 2.8, 5.1, 1.5],\n",
              "        [5.6, 3. , 4.1, 1.3],\n",
              "        [6.7, 2.5, 5.8, 1.8],\n",
              "        [7.1, 3. , 5.9, 2.1],\n",
              "        [4.3, 3. , 1.1, 0.1],\n",
              "        [5.6, 2.8, 4.9, 2. ],\n",
              "        [5.5, 2.3, 4. , 1.3],\n",
              "        [6. , 2.2, 4. , 1. ],\n",
              "        [5.1, 3.5, 1.4, 0.2],\n",
              "        [5.7, 2.6, 3.5, 1. ],\n",
              "        [4.8, 3.4, 1.9, 0.2],\n",
              "        [5.1, 3.4, 1.5, 0.2],\n",
              "        [5.7, 2.5, 5. , 2. ],\n",
              "        [5.4, 3.4, 1.7, 0.2],\n",
              "        [5.6, 3. , 4.5, 1.5],\n",
              "        [6.3, 2.9, 5.6, 1.8],\n",
              "        [6.3, 2.5, 4.9, 1.5],\n",
              "        [5.8, 2.7, 3.9, 1.2],\n",
              "        [6.1, 3. , 4.6, 1.4],\n",
              "        [5.2, 4.1, 1.5, 0.1],\n",
              "        [6.7, 3.1, 4.7, 1.5],\n",
              "        [6.7, 3.3, 5.7, 2.5],\n",
              "        [6.4, 2.9, 4.3, 1.3]], dtype=float32)>,\n",
              " <tf.Tensor: id=106479, shape=(30,), dtype=int32, numpy=\n",
              " array([1, 2, 0, 1, 1, 1, 0, 2, 1, 2, 2, 0, 2, 1, 1, 0, 1, 0, 0, 2, 0, 1,\n",
              "        2, 1, 1, 1, 0, 1, 2, 1], dtype=int32)>)"
            ]
          },
          "metadata": {
            "tags": []
          },
          "execution_count": 35
        }
      ]
    },
    {
      "metadata": {
        "id": "N7VBzhYpKJSb",
        "colab_type": "code",
        "outputId": "1f1ca2fa-abfb-4297-f6f5-bd6711e9024f",
        "colab": {
          "base_uri": "https://localhost:8080/",
          "height": 34
        }
      },
      "cell_type": "code",
      "source": [
        "test_accuracy = tf.contrib.eager.metrics.Accuracy()\n",
        "\n",
        "for (x, y) in test_dataset:\n",
        "  logits = model(x)\n",
        "  prediction = tf.argmax(logits, axis=1, output_type=tf.int32)\n",
        "  test_accuracy(prediction, y)\n",
        "\n",
        "print(\"Test set accuracy: {:.3%}\".format(test_accuracy.result()))\n"
      ],
      "execution_count": 0,
      "outputs": [
        {
          "output_type": "stream",
          "text": [
            "Test set accuracy: 93.333%\n"
          ],
          "name": "stdout"
        }
      ]
    },
    {
      "metadata": {
        "id": "xHC2XcyRKLbT",
        "colab_type": "code",
        "outputId": "5080a931-e903-4a89-e614-e25c894774bd",
        "colab": {
          "base_uri": "https://localhost:8080/",
          "height": 544
        }
      },
      "cell_type": "code",
      "source": [
        "tf.stack([y,prediction],axis=1)"
      ],
      "execution_count": 0,
      "outputs": [
        {
          "output_type": "execute_result",
          "data": {
            "text/plain": [
              "<tf.Tensor: id=106482, shape=(30, 2), dtype=int32, numpy=\n",
              "array([[1, 1],\n",
              "       [2, 2],\n",
              "       [0, 0],\n",
              "       [1, 1],\n",
              "       [1, 1],\n",
              "       [1, 1],\n",
              "       [0, 0],\n",
              "       [2, 2],\n",
              "       [1, 1],\n",
              "       [2, 2],\n",
              "       [2, 2],\n",
              "       [0, 0],\n",
              "       [2, 2],\n",
              "       [1, 1],\n",
              "       [1, 1],\n",
              "       [0, 0],\n",
              "       [1, 1],\n",
              "       [0, 0],\n",
              "       [0, 0],\n",
              "       [2, 2],\n",
              "       [0, 0],\n",
              "       [1, 2],\n",
              "       [2, 2],\n",
              "       [1, 2],\n",
              "       [1, 1],\n",
              "       [1, 1],\n",
              "       [0, 0],\n",
              "       [1, 1],\n",
              "       [2, 2],\n",
              "       [1, 1]], dtype=int32)>"
            ]
          },
          "metadata": {
            "tags": []
          },
          "execution_count": 36
        }
      ]
    },
    {
      "metadata": {
        "id": "xlrcxyVNKpai",
        "colab_type": "code",
        "outputId": "09974d12-91ac-4185-c37d-7c4ea1078da2",
        "colab": {
          "base_uri": "https://localhost:8080/",
          "height": 68
        }
      },
      "cell_type": "code",
      "source": [
        "predict_dataset = tf.convert_to_tensor([\n",
        "    [5.1, 3.3, 1.7, 0.5,],\n",
        "    [5.9, 3.0, 4.2, 1.5,],\n",
        "    [6.9, 3.1, 5.4, 2.1]\n",
        "])\n",
        "\n",
        "predictions = model(predict_dataset)\n",
        "\n",
        "for i, logits in enumerate(predictions):\n",
        "  class_idx = tf.argmax(logits).numpy()\n",
        "  p = tf.nn.softmax(logits)[class_idx]\n",
        "  name = class_names[class_idx]\n",
        "  print(\"Example {} prediction: {} ({:4.1f}%)\".format(i, name, 100*p))"
      ],
      "execution_count": 0,
      "outputs": [
        {
          "output_type": "stream",
          "text": [
            "Example 0 prediction: Iris setosa (98.1%)\n",
            "Example 1 prediction: Iris versicolor (82.0%)\n",
            "Example 2 prediction: Iris virginica (88.5%)\n"
          ],
          "name": "stdout"
        }
      ]
    },
    {
      "metadata": {
        "id": "nzHEDl42KwKq",
        "colab_type": "code",
        "colab": {}
      },
      "cell_type": "code",
      "source": [
        ""
      ],
      "execution_count": 0,
      "outputs": []
    },
    {
      "metadata": {
        "id": "itYvyKy5Ujnj",
        "colab_type": "text"
      },
      "cell_type": "markdown",
      "source": [
        "# Model with Estimators"
      ]
    },
    {
      "metadata": {
        "id": "WsyDe_2SUnFf",
        "colab_type": "code",
        "colab": {}
      },
      "cell_type": "code",
      "source": [
        "import tensorflow as tf\n",
        "import tensorflow.feature_column as fc \n",
        "\n",
        "import os\n",
        "import sys\n",
        "\n",
        "import matplotlib.pyplot as plt\n",
        "from IPython.display import clear_output"
      ],
      "execution_count": 0,
      "outputs": []
    },
    {
      "metadata": {
        "id": "s1z96m6pVG63",
        "colab_type": "code",
        "colab": {}
      },
      "cell_type": "code",
      "source": [
        "tf.enable_eager_execution()"
      ],
      "execution_count": 0,
      "outputs": []
    },
    {
      "metadata": {
        "id": "Tg5o2MC9VJCk",
        "colab_type": "code",
        "colab": {}
      },
      "cell_type": "code",
      "source": [
        "! pip install -q requests"
      ],
      "execution_count": 0,
      "outputs": []
    },
    {
      "metadata": {
        "id": "MViAHfQZVPkk",
        "colab_type": "code",
        "colab": {
          "base_uri": "https://localhost:8080/",
          "height": 153
        },
        "outputId": "49c0531d-c836-4805-acfb-d7c672b60f5b"
      },
      "cell_type": "code",
      "source": [
        "! git clone --depth 1 https://github.com/tensorflow/models"
      ],
      "execution_count": 4,
      "outputs": [
        {
          "output_type": "stream",
          "text": [
            "Cloning into 'models'...\n",
            "remote: Enumerating objects: 2965, done.\u001b[K\n",
            "remote: Counting objects: 100% (2965/2965), done.\u001b[K\n",
            "remote: Compressing objects: 100% (2492/2492), done.\u001b[K\n",
            "remote: Total 2965 (delta 523), reused 2081 (delta 399), pack-reused 0\u001b[K\n",
            "Receiving objects: 100% (2965/2965), 369.09 MiB | 29.33 MiB/s, done.\n",
            "Resolving deltas: 100% (523/523), done.\n",
            "Checking out files: 100% (2798/2798), done.\n"
          ],
          "name": "stdout"
        }
      ]
    },
    {
      "metadata": {
        "id": "sPcoYtDTVRFz",
        "colab_type": "code",
        "colab": {}
      },
      "cell_type": "code",
      "source": [
        "models_path = os.path.join(os.getcwd(), 'models')"
      ],
      "execution_count": 0,
      "outputs": []
    },
    {
      "metadata": {
        "id": "hZ5luP70VYvj",
        "colab_type": "code",
        "colab": {}
      },
      "cell_type": "code",
      "source": [
        "sys.path.append(models_path)\n"
      ],
      "execution_count": 0,
      "outputs": []
    },
    {
      "metadata": {
        "id": "oJR5VO2PVaP0",
        "colab_type": "code",
        "colab": {}
      },
      "cell_type": "code",
      "source": [
        "from official.wide_deep import census_dataset\n",
        "from official.wide_deep import census_main\n",
        "\n",
        "census_dataset.download(\"/tmp/census_data/\")"
      ],
      "execution_count": 0,
      "outputs": []
    },
    {
      "metadata": {
        "id": "f1T7ia5LVcDL",
        "colab_type": "code",
        "colab": {}
      },
      "cell_type": "code",
      "source": [
        "if \"PYTHONPATH\" in os.environ:\n",
        "  os.environ['PYTHONPATH'] += os.pathsep +  models_path\n",
        "else:\n",
        "  os.environ['PYTHONPATH'] = models_path"
      ],
      "execution_count": 0,
      "outputs": []
    },
    {
      "metadata": {
        "id": "2Qn9flsdVqKS",
        "colab_type": "code",
        "colab": {
          "base_uri": "https://localhost:8080/",
          "height": 952
        },
        "outputId": "12777e3d-9dc6-404c-a440-333697ec763d"
      },
      "cell_type": "code",
      "source": [
        "!python -m official.wide_deep.census_main --help"
      ],
      "execution_count": 9,
      "outputs": [
        {
          "output_type": "stream",
          "text": [
            "2018-12-21 15:16:28.500240: I tensorflow/core/platform/cpu_feature_guard.cc:141] Your CPU supports instructions that this TensorFlow binary was not compiled to use: AVX2 FMA\n",
            "2018-12-21 15:16:28.514565: I tensorflow/core/platform/profile_utils/cpu_utils.cc:94] CPU Frequency: 2200000000 Hz\n",
            "2018-12-21 15:16:28.514997: I tensorflow/compiler/xla/service/service.cc:161] XLA service 0x4d63ee0 executing computations on platform Host. Devices:\n",
            "2018-12-21 15:16:28.515038: I tensorflow/compiler/xla/service/service.cc:168]   StreamExecutor device (0): <undefined>, <undefined>\n",
            "Train DNN on census income dataset.\n",
            "flags:\n",
            "\n",
            "/content/models/official/wide_deep/census_main.py:\n",
            "  -bs,--batch_size:\n",
            "    Batch size for training and evaluation. When using multiple gpus, this is\n",
            "    the\n",
            "    global batch size for all devices. For example, if the batch size is 32 and\n",
            "    there are 4 GPUs, each GPU will get 8 examples on each step.\n",
            "    (default: '40')\n",
            "    (an integer)\n",
            "  --[no]clean:\n",
            "    If set, model_dir will be removed if it exists.\n",
            "    (default: 'false')\n",
            "  -dd,--data_dir:\n",
            "    The location of the input data.\n",
            "    (default: '/tmp/census_data')\n",
            "  --[no]download_if_missing:\n",
            "    Download data to data_dir if it is not already present.\n",
            "    (default: 'true')\n",
            "  -ebe,--epochs_between_evals:\n",
            "    The number of training epochs to run between evaluations.\n",
            "    (default: '2')\n",
            "    (an integer)\n",
            "  -ed,--export_dir:\n",
            "    If set, a SavedModel serialization of the model will be exported to this\n",
            "    directory at the end of training. See the README for more details and\n",
            "    relevant\n",
            "    links.\n",
            "  -hk,--hooks:\n",
            "    A list of (case insensitive) strings to specify the names of training hooks.\n",
            "    ﻿  Hook:\n",
            "    ﻿    loggingtensorhook\n",
            "    ﻿    profilerhook\n",
            "    ﻿    examplespersecondhook\n",
            "    ﻿    loggingmetrichook\n",
            "    ﻿  Example: `--hooks ProfilerHook,ExamplesPerSecondHook`\n",
            "    See official.utils.logs.hooks_helper for details.\n",
            "    (default: 'LoggingTensorHook')\n",
            "    (a comma separated list)\n",
            "  -md,--model_dir:\n",
            "    The location of the model checkpoint files.\n",
            "    (default: '/tmp/census_model')\n",
            "  -mt,--model_type: <wide|deep|wide_deep>: Select model topology.\n",
            "    (default: 'wide_deep')\n",
            "  -te,--train_epochs:\n",
            "    The number of epochs used to train.\n",
            "    (default: '40')\n",
            "    (an integer)\n",
            "\n",
            "Try --helpfull to get a list of all flags.\n"
          ],
          "name": "stdout"
        }
      ]
    },
    {
      "metadata": {
        "id": "t11q4SaEVsyD",
        "colab_type": "code",
        "colab": {
          "base_uri": "https://localhost:8080/",
          "height": 2196
        },
        "outputId": "d795697e-5236-4b12-b31a-8aebd45b94a0"
      },
      "cell_type": "code",
      "source": [
        "!python -m official.wide_deep.census_main --model_type=wide --train_epochs=2"
      ],
      "execution_count": 10,
      "outputs": [
        {
          "output_type": "stream",
          "text": [
            "2018-12-21 15:17:08.448310: I tensorflow/core/platform/cpu_feature_guard.cc:141] Your CPU supports instructions that this TensorFlow binary was not compiled to use: AVX2 FMA\n",
            "2018-12-21 15:17:08.462869: I tensorflow/core/platform/profile_utils/cpu_utils.cc:94] CPU Frequency: 2200000000 Hz\n",
            "2018-12-21 15:17:08.463195: I tensorflow/compiler/xla/service/service.cc:161] XLA service 0x40c3ee0 executing computations on platform Host. Devices:\n",
            "2018-12-21 15:17:08.463232: I tensorflow/compiler/xla/service/service.cc:168]   StreamExecutor device (0): <undefined>, <undefined>\n",
            "I1221 15:17:08.467442 140215660971904 estimator.py:201] Using config: {'_model_dir': '/tmp/census_model', '_tf_random_seed': None, '_save_summary_steps': 100, '_save_checkpoints_steps': None, '_save_checkpoints_secs': 600, '_session_config': device_count {\n",
            "  key: \"GPU\"\n",
            "}\n",
            ", '_keep_checkpoint_max': 5, '_keep_checkpoint_every_n_hours': 10000, '_log_step_count_steps': 100, '_train_distribute': None, '_device_fn': None, '_protocol': None, '_eval_distribute': None, '_experimental_distribute': None, '_service': None, '_cluster_spec': <tensorflow.python.training.server_lib.ClusterSpec object at 0x7f86551f6a58>, '_task_type': 'worker', '_task_id': 0, '_global_id_in_cluster': 0, '_master': '', '_evaluation_master': '', '_is_chief': True, '_num_ps_replicas': 0, '_num_worker_replicas': 1}\n",
            "W1221 15:17:08.468552 140215660971904 tf_logging.py:161] 'cpuinfo' not imported. CPU info will not be logged.\n",
            "I1221 15:17:13.506502 140215660971904 logger.py:151] Benchmark run: {'model_name': 'wide_deep', 'dataset': {'name': 'Census Income'}, 'machine_config': {'gpu_info': {'count': 0}, 'memory_total': 13655257088, 'memory_available': 11921838080}, 'test_id': None, 'run_date': '2018-12-21T15:17:08.468109Z', 'tensorflow_version': {'version': '1.13.0-dev20181221', 'git_hash': \"b'v1.12.0-5053-gd4ddccd3cc'\"}, 'tensorflow_environment_variables': [{'name': 'TF_FORCE_GPU_ALLOW_GROWTH', 'value': 'true'}], 'run_parameters': [{'name': 'batch_size', 'long_value': 40}, {'name': 'model_type', 'string_value': 'wide'}, {'name': 'train_epochs', 'long_value': 2}]}\n",
            "W1221 15:17:13.511613 140215660971904 deprecation.py:317] From /usr/local/lib/python3.6/dist-packages/tensorflow/python/framework/op_def_library.py:263: colocate_with (from tensorflow.python.framework.ops) is deprecated and will be removed in a future version.\n",
            "Instructions for updating:\n",
            "Colocations handled automatically by placer.\n",
            "W1221 15:17:13.513779 140215660971904 deprecation.py:317] From /usr/local/lib/python3.6/dist-packages/tensorflow/python/training/training_util.py:238: Variable.initialized_value (from tensorflow.python.ops.variables) is deprecated and will be removed in a future version.\n",
            "Instructions for updating:\n",
            "Use Variable.read_value. Variables in 2.X are initialized automatically both in eager and graph (inside tf.defun) contexts.\n",
            "I1221 15:17:13.530914 140215660971904 census_dataset.py:167] Parsing /tmp/census_data/adult.data\n",
            "W1221 15:17:13.560207 140215660971904 deprecation.py:317] From /usr/local/lib/python3.6/dist-packages/tensorflow_estimator/python/estimator/util.py:104: DatasetV1.make_initializable_iterator (from tensorflow.python.data.ops.dataset_ops) is deprecated and will be removed in a future version.\n",
            "Instructions for updating:\n",
            "Use `for ... in dataset:` to iterate over a dataset. If using `tf.estimator`, return the `Dataset` object directly from your input function. As a last resort, you can use `tf.compat.v1.data.make_initializable_iterator(dataset)`.\n",
            "I1221 15:17:13.568859 140215660971904 estimator.py:1111] Calling model_fn.\n",
            "W1221 15:17:13.626672 140215660971904 deprecation.py:317] From /usr/local/lib/python3.6/dist-packages/tensorflow/python/feature_column/feature_column_v2.py:2705: to_float (from tensorflow.python.ops.math_ops) is deprecated and will be removed in a future version.\n",
            "Instructions for updating:\n",
            "Use tf.cast instead.\n",
            "W1221 15:17:13.648714 140215660971904 deprecation.py:317] From /usr/local/lib/python3.6/dist-packages/tensorflow/python/feature_column/feature_column_v2.py:2900: to_int64 (from tensorflow.python.ops.math_ops) is deprecated and will be removed in a future version.\n",
            "Instructions for updating:\n",
            "Use tf.cast instead.\n",
            "I1221 15:17:14.965676 140215660971904 estimator.py:1113] Done calling model_fn.\n",
            "I1221 15:17:14.966165 140215660971904 basic_session_run_hooks.py:527] Create CheckpointSaverHook.\n",
            "I1221 15:17:15.435211 140215660971904 monitored_session.py:239] Graph was finalized.\n",
            "I1221 15:17:15.525560 140215660971904 session_manager.py:491] Running local_init_op.\n",
            "I1221 15:17:15.543464 140215660971904 session_manager.py:493] Done running local_init_op.\n",
            "I1221 15:17:16.395718 140215660971904 basic_session_run_hooks.py:594] Saving checkpoints for 0 into /tmp/census_model/model.ckpt.\n",
            "I1221 15:17:17.011834 140215660971904 basic_session_run_hooks.py:249] average_loss = 0.6931472, loss = 27.725887\n",
            "I1221 15:17:17.012434 140215660971904 basic_session_run_hooks.py:249] loss = 27.725887, step = 1\n",
            "I1221 15:17:17.666829 140215660971904 basic_session_run_hooks.py:680] global_step/sec: 152.559\n",
            "I1221 15:17:17.667585 140215660971904 basic_session_run_hooks.py:247] average_loss = 0.36368734, loss = 14.547493 (0.656 sec)\n",
            "I1221 15:17:17.667834 140215660971904 basic_session_run_hooks.py:247] loss = 14.547493, step = 101 (0.655 sec)\n",
            "I1221 15:17:18.009011 140215660971904 basic_session_run_hooks.py:680] global_step/sec: 292.222\n",
            "I1221 15:17:18.010000 140215660971904 basic_session_run_hooks.py:247] average_loss = 0.28622532, loss = 11.449013 (0.342 sec)\n",
            "I1221 15:17:18.010219 140215660971904 basic_session_run_hooks.py:247] loss = 11.449013, step = 201 (0.342 sec)\n",
            "I1221 15:17:18.379734 140215660971904 basic_session_run_hooks.py:680] global_step/sec: 269.755\n",
            "I1221 15:17:18.380570 140215660971904 basic_session_run_hooks.py:247] average_loss = 0.23274314, loss = 9.309726 (0.371 sec)\n",
            "I1221 15:17:18.380790 140215660971904 basic_session_run_hooks.py:247] loss = 9.309726, step = 301 (0.371 sec)\n",
            "I1221 15:17:18.737885 140215660971904 basic_session_run_hooks.py:680] global_step/sec: 279.23\n",
            "I1221 15:17:18.738721 140215660971904 basic_session_run_hooks.py:247] average_loss = 0.25800335, loss = 10.320134 (0.358 sec)\n",
            "I1221 15:17:18.738958 140215660971904 basic_session_run_hooks.py:247] loss = 10.320134, step = 401 (0.358 sec)\n",
            "I1221 15:17:19.106071 140215660971904 basic_session_run_hooks.py:680] global_step/sec: 271.556\n",
            "I1221 15:17:19.106873 140215660971904 basic_session_run_hooks.py:247] average_loss = 0.17572692, loss = 7.029077 (0.368 sec)\n",
            "I1221 15:17:19.107159 140215660971904 basic_session_run_hooks.py:247] loss = 7.029077, step = 501 (0.368 sec)\n",
            "I1221 15:17:19.441956 140215660971904 basic_session_run_hooks.py:680] global_step/sec: 297.727\n",
            "I1221 15:17:19.442912 140215660971904 basic_session_run_hooks.py:247] average_loss = 0.31008777, loss = 12.403511 (0.336 sec)\n",
            "I1221 15:17:19.443113 140215660971904 basic_session_run_hooks.py:247] loss = 12.403511, step = 601 (0.336 sec)\n",
            "I1221 15:17:19.779133 140215660971904 basic_session_run_hooks.py:680] global_step/sec: 296.591\n",
            "I1221 15:17:19.779901 140215660971904 basic_session_run_hooks.py:247] average_loss = 0.26224044, loss = 10.489617 (0.337 sec)\n",
            "I1221 15:17:19.780116 140215660971904 basic_session_run_hooks.py:247] loss = 10.489617, step = 701 (0.337 sec)\n",
            "I1221 15:17:20.137762 140215660971904 basic_session_run_hooks.py:680] global_step/sec: 278.832\n",
            "I1221 15:17:20.138565 140215660971904 basic_session_run_hooks.py:247] average_loss = 0.40808058, loss = 16.323223 (0.359 sec)\n",
            "I1221 15:17:20.138782 140215660971904 basic_session_run_hooks.py:247] loss = 16.323223, step = 801 (0.359 sec)\n",
            "I1221 15:17:20.547913 140215660971904 basic_session_run_hooks.py:680] global_step/sec: 243.812\n",
            "I1221 15:17:20.548840 140215660971904 basic_session_run_hooks.py:247] average_loss = 0.3592167, loss = 14.368668 (0.410 sec)\n",
            "I1221 15:17:20.549092 140215660971904 basic_session_run_hooks.py:247] loss = 14.368668, step = 901 (0.410 sec)\n",
            "I1221 15:17:20.891928 140215660971904 basic_session_run_hooks.py:680] global_step/sec: 290.703\n",
            "I1221 15:17:20.892825 140215660971904 basic_session_run_hooks.py:247] average_loss = 0.21868548, loss = 8.747419 (0.344 sec)\n",
            "I1221 15:17:20.893084 140215660971904 basic_session_run_hooks.py:247] loss = 8.747419, step = 1001 (0.344 sec)\n",
            "I1221 15:17:21.251813 140215660971904 basic_session_run_hooks.py:680] global_step/sec: 277.861\n",
            "I1221 15:17:21.252592 140215660971904 basic_session_run_hooks.py:247] average_loss = 0.3042727, loss = 12.170909 (0.360 sec)\n",
            "I1221 15:17:21.252858 140215660971904 basic_session_run_hooks.py:247] loss = 12.170909, step = 1101 (0.360 sec)\n",
            "I1221 15:17:21.593262 140215660971904 basic_session_run_hooks.py:680] global_step/sec: 292.895\n",
            "I1221 15:17:21.594263 140215660971904 basic_session_run_hooks.py:247] average_loss = 0.37400246, loss = 14.960098 (0.342 sec)\n",
            "I1221 15:17:21.594485 140215660971904 basic_session_run_hooks.py:247] loss = 14.960098, step = 1201 (0.342 sec)\n",
            "I1221 15:17:21.944764 140215660971904 basic_session_run_hooks.py:680] global_step/sec: 284.481\n",
            "I1221 15:17:21.945580 140215660971904 basic_session_run_hooks.py:247] average_loss = 0.3617223, loss = 14.468891 (0.351 sec)\n",
            "I1221 15:17:21.945800 140215660971904 basic_session_run_hooks.py:247] loss = 14.468891, step = 1301 (0.351 sec)\n",
            "I1221 15:17:22.297214 140215660971904 basic_session_run_hooks.py:680] global_step/sec: 283.725\n",
            "I1221 15:17:22.298106 140215660971904 basic_session_run_hooks.py:247] average_loss = 0.32310355, loss = 12.924142 (0.353 sec)\n",
            "I1221 15:17:22.298353 140215660971904 basic_session_run_hooks.py:247] loss = 12.924142, step = 1401 (0.353 sec)\n",
            "I1221 15:17:22.642556 140215660971904 basic_session_run_hooks.py:680] global_step/sec: 289.548\n",
            "I1221 15:17:22.643463 140215660971904 basic_session_run_hooks.py:247] average_loss = 0.338597, loss = 13.54388 (0.345 sec)\n",
            "I1221 15:17:22.643681 140215660971904 basic_session_run_hooks.py:247] loss = 13.54388, step = 1501 (0.345 sec)\n",
            "I1221 15:17:22.994987 140215660971904 basic_session_run_hooks.py:680] global_step/sec: 283.748\n",
            "I1221 15:17:22.995947 140215660971904 basic_session_run_hooks.py:247] average_loss = 0.17936175, loss = 7.17447 (0.352 sec)\n",
            "I1221 15:17:22.996153 140215660971904 basic_session_run_hooks.py:247] loss = 7.17447, step = 1601 (0.352 sec)\n",
            "I1221 15:17:23.096681 140215660971904 basic_session_run_hooks.py:594] Saving checkpoints for 1629 into /tmp/census_model/model.ckpt.\n",
            "I1221 15:17:23.285774 140215660971904 estimator.py:359] Loss for final step: 0.23621519.\n",
            "I1221 15:17:23.297748 140215660971904 census_dataset.py:167] Parsing /tmp/census_data/adult.test\n",
            "I1221 15:17:23.385545 140215660971904 estimator.py:1111] Calling model_fn.\n",
            "W1221 15:17:24.458347 140215660971904 deprecation.py:317] From /usr/local/lib/python3.6/dist-packages/tensorflow/python/ops/metrics_impl.py:2002: div (from tensorflow.python.ops.math_ops) is deprecated and will be removed in a future version.\n",
            "Instructions for updating:\n",
            "Deprecated in favor of operator or tf.math.divide.\n",
            "W1221 15:17:25.012136 140215660971904 metrics_impl.py:783] Trapezoidal rule is known to produce incorrect PR-AUCs; please switch to \"careful_interpolation\" instead.\n",
            "W1221 15:17:25.037523 140215660971904 metrics_impl.py:783] Trapezoidal rule is known to produce incorrect PR-AUCs; please switch to \"careful_interpolation\" instead.\n",
            "I1221 15:17:25.062315 140215660971904 estimator.py:1113] Done calling model_fn.\n",
            "I1221 15:17:25.086257 140215660971904 evaluation.py:257] Starting evaluation at 2018-12-21T15:17:25Z\n",
            "I1221 15:17:25.270913 140215660971904 monitored_session.py:239] Graph was finalized.\n",
            "W1221 15:17:25.271429 140215660971904 deprecation.py:317] From /usr/local/lib/python3.6/dist-packages/tensorflow/python/training/saver.py:1266: checkpoint_exists (from tensorflow.python.training.checkpoint_management) is deprecated and will be removed in a future version.\n",
            "Instructions for updating:\n",
            "Use standard file APIs to check for files with this prefix.\n",
            "I1221 15:17:25.272772 140215660971904 saver.py:1270] Restoring parameters from /tmp/census_model/model.ckpt-1629\n",
            "I1221 15:17:25.367809 140215660971904 session_manager.py:491] Running local_init_op.\n",
            "I1221 15:17:25.405130 140215660971904 session_manager.py:493] Done running local_init_op.\n",
            "I1221 15:17:27.462961 140215660971904 evaluation.py:277] Finished evaluation at 2018-12-21-15:17:27\n",
            "I1221 15:17:27.463260 140215660971904 estimator.py:1979] Saving dict for global step 1629: accuracy = 0.8356366, accuracy_baseline = 0.76377374, auc = 0.88403654, auc_precision_recall = 0.69468576, average_loss = 0.35112613, global_step = 1629, label/mean = 0.23622628, loss = 14.011482, precision = 0.70526314, prediction/mean = 0.2277149, recall = 0.5226209\n",
            "I1221 15:17:27.748042 140215660971904 estimator.py:2039] Saving 'checkpoint_path' summary for global step 1629: /tmp/census_model/model.ckpt-1629\n",
            "I1221 15:17:27.748745 140215660971904 wide_deep_run_loop.py:116] Results at epoch 2 / 2\n",
            "I1221 15:17:27.748867 140215660971904 wide_deep_run_loop.py:117] ------------------------------------------------------------\n",
            "I1221 15:17:27.749013 140215660971904 wide_deep_run_loop.py:120] accuracy: 0.8356366\n",
            "I1221 15:17:27.749117 140215660971904 wide_deep_run_loop.py:120] accuracy_baseline: 0.76377374\n",
            "I1221 15:17:27.749221 140215660971904 wide_deep_run_loop.py:120] auc: 0.88403654\n",
            "I1221 15:17:27.749347 140215660971904 wide_deep_run_loop.py:120] auc_precision_recall: 0.69468576\n",
            "I1221 15:17:27.749456 140215660971904 wide_deep_run_loop.py:120] average_loss: 0.35112613\n",
            "I1221 15:17:27.749566 140215660971904 wide_deep_run_loop.py:120] global_step: 1629\n",
            "I1221 15:17:27.749678 140215660971904 wide_deep_run_loop.py:120] label/mean: 0.23622628\n",
            "I1221 15:17:27.749778 140215660971904 wide_deep_run_loop.py:120] loss: 14.011482\n",
            "I1221 15:17:27.749889 140215660971904 wide_deep_run_loop.py:120] precision: 0.70526314\n",
            "I1221 15:17:27.749992 140215660971904 wide_deep_run_loop.py:120] prediction/mean: 0.2277149\n",
            "I1221 15:17:27.750092 140215660971904 wide_deep_run_loop.py:120] recall: 0.5226209\n",
            "I1221 15:17:27.750301 140215660971904 logger.py:146] Benchmark metric: {'name': 'accuracy', 'value': 0.8356366157531738, 'unit': None, 'global_step': 1629, 'timestamp': '2018-12-21T15:17:27.750258Z', 'extras': []}\n",
            "I1221 15:17:27.750485 140215660971904 logger.py:146] Benchmark metric: {'name': 'accuracy_baseline', 'value': 0.7637737393379211, 'unit': None, 'global_step': 1629, 'timestamp': '2018-12-21T15:17:27.750459Z', 'extras': []}\n",
            "I1221 15:17:27.750625 140215660971904 logger.py:146] Benchmark metric: {'name': 'auc', 'value': 0.8840365409851074, 'unit': None, 'global_step': 1629, 'timestamp': '2018-12-21T15:17:27.750598Z', 'extras': []}\n",
            "I1221 15:17:27.750767 140215660971904 logger.py:146] Benchmark metric: {'name': 'auc_precision_recall', 'value': 0.6946857571601868, 'unit': None, 'global_step': 1629, 'timestamp': '2018-12-21T15:17:27.750741Z', 'extras': []}\n",
            "I1221 15:17:27.750911 140215660971904 logger.py:146] Benchmark metric: {'name': 'average_loss', 'value': 0.35112613439559937, 'unit': None, 'global_step': 1629, 'timestamp': '2018-12-21T15:17:27.750885Z', 'extras': []}\n",
            "I1221 15:17:27.751097 140215660971904 logger.py:146] Benchmark metric: {'name': 'label/mean', 'value': 0.23622627556324005, 'unit': None, 'global_step': 1629, 'timestamp': '2018-12-21T15:17:27.751071Z', 'extras': []}\n",
            "I1221 15:17:27.751271 140215660971904 logger.py:146] Benchmark metric: {'name': 'loss', 'value': 14.011482238769531, 'unit': None, 'global_step': 1629, 'timestamp': '2018-12-21T15:17:27.751245Z', 'extras': []}\n",
            "I1221 15:17:27.751439 140215660971904 logger.py:146] Benchmark metric: {'name': 'precision', 'value': 0.7052631378173828, 'unit': None, 'global_step': 1629, 'timestamp': '2018-12-21T15:17:27.751414Z', 'extras': []}\n",
            "I1221 15:17:27.751611 140215660971904 logger.py:146] Benchmark metric: {'name': 'prediction/mean', 'value': 0.2277148962020874, 'unit': None, 'global_step': 1629, 'timestamp': '2018-12-21T15:17:27.751572Z', 'extras': []}\n",
            "I1221 15:17:27.751780 140215660971904 logger.py:146] Benchmark metric: {'name': 'recall', 'value': 0.5226209163665771, 'unit': None, 'global_step': 1629, 'timestamp': '2018-12-21T15:17:27.751756Z', 'extras': []}\n"
          ],
          "name": "stdout"
        }
      ]
    },
    {
      "metadata": {
        "id": "GXxapCgKV2db",
        "colab_type": "code",
        "colab": {
          "base_uri": "https://localhost:8080/",
          "height": 34
        },
        "outputId": "514a6b53-9d41-4d25-dd5f-e94d056c34c9"
      },
      "cell_type": "code",
      "source": [
        "!ls  /tmp/census_data/"
      ],
      "execution_count": 11,
      "outputs": [
        {
          "output_type": "stream",
          "text": [
            "adult.data  adult.test\n"
          ],
          "name": "stdout"
        }
      ]
    },
    {
      "metadata": {
        "id": "5btIerW4WGcB",
        "colab_type": "code",
        "colab": {}
      },
      "cell_type": "code",
      "source": [
        "train_file = \"/tmp/census_data/adult.data\"\n",
        "test_file = \"/tmp/census_data/adult.test\""
      ],
      "execution_count": 0,
      "outputs": []
    },
    {
      "metadata": {
        "id": "y-Oi3zp6WJHz",
        "colab_type": "code",
        "colab": {
          "base_uri": "https://localhost:8080/",
          "height": 292
        },
        "outputId": "1cd9baa6-f11c-4914-c6c4-01080f686915"
      },
      "cell_type": "code",
      "source": [
        "import pandas\n",
        "\n",
        "train_df = pandas.read_csv(train_file, header = None, names = census_dataset._CSV_COLUMNS)\n",
        "test_df = pandas.read_csv(test_file, header = None, names = census_dataset._CSV_COLUMNS)\n",
        "\n",
        "train_df.head()"
      ],
      "execution_count": 13,
      "outputs": [
        {
          "output_type": "execute_result",
          "data": {
            "text/html": [
              "<div>\n",
              "<style scoped>\n",
              "    .dataframe tbody tr th:only-of-type {\n",
              "        vertical-align: middle;\n",
              "    }\n",
              "\n",
              "    .dataframe tbody tr th {\n",
              "        vertical-align: top;\n",
              "    }\n",
              "\n",
              "    .dataframe thead th {\n",
              "        text-align: right;\n",
              "    }\n",
              "</style>\n",
              "<table border=\"1\" class=\"dataframe\">\n",
              "  <thead>\n",
              "    <tr style=\"text-align: right;\">\n",
              "      <th></th>\n",
              "      <th>age</th>\n",
              "      <th>workclass</th>\n",
              "      <th>fnlwgt</th>\n",
              "      <th>education</th>\n",
              "      <th>education_num</th>\n",
              "      <th>marital_status</th>\n",
              "      <th>occupation</th>\n",
              "      <th>relationship</th>\n",
              "      <th>race</th>\n",
              "      <th>gender</th>\n",
              "      <th>capital_gain</th>\n",
              "      <th>capital_loss</th>\n",
              "      <th>hours_per_week</th>\n",
              "      <th>native_country</th>\n",
              "      <th>income_bracket</th>\n",
              "    </tr>\n",
              "  </thead>\n",
              "  <tbody>\n",
              "    <tr>\n",
              "      <th>0</th>\n",
              "      <td>39</td>\n",
              "      <td>State-gov</td>\n",
              "      <td>77516</td>\n",
              "      <td>Bachelors</td>\n",
              "      <td>13</td>\n",
              "      <td>Never-married</td>\n",
              "      <td>Adm-clerical</td>\n",
              "      <td>Not-in-family</td>\n",
              "      <td>White</td>\n",
              "      <td>Male</td>\n",
              "      <td>2174</td>\n",
              "      <td>0</td>\n",
              "      <td>40</td>\n",
              "      <td>United-States</td>\n",
              "      <td>&lt;=50K</td>\n",
              "    </tr>\n",
              "    <tr>\n",
              "      <th>1</th>\n",
              "      <td>50</td>\n",
              "      <td>Self-emp-not-inc</td>\n",
              "      <td>83311</td>\n",
              "      <td>Bachelors</td>\n",
              "      <td>13</td>\n",
              "      <td>Married-civ-spouse</td>\n",
              "      <td>Exec-managerial</td>\n",
              "      <td>Husband</td>\n",
              "      <td>White</td>\n",
              "      <td>Male</td>\n",
              "      <td>0</td>\n",
              "      <td>0</td>\n",
              "      <td>13</td>\n",
              "      <td>United-States</td>\n",
              "      <td>&lt;=50K</td>\n",
              "    </tr>\n",
              "    <tr>\n",
              "      <th>2</th>\n",
              "      <td>38</td>\n",
              "      <td>Private</td>\n",
              "      <td>215646</td>\n",
              "      <td>HS-grad</td>\n",
              "      <td>9</td>\n",
              "      <td>Divorced</td>\n",
              "      <td>Handlers-cleaners</td>\n",
              "      <td>Not-in-family</td>\n",
              "      <td>White</td>\n",
              "      <td>Male</td>\n",
              "      <td>0</td>\n",
              "      <td>0</td>\n",
              "      <td>40</td>\n",
              "      <td>United-States</td>\n",
              "      <td>&lt;=50K</td>\n",
              "    </tr>\n",
              "    <tr>\n",
              "      <th>3</th>\n",
              "      <td>53</td>\n",
              "      <td>Private</td>\n",
              "      <td>234721</td>\n",
              "      <td>11th</td>\n",
              "      <td>7</td>\n",
              "      <td>Married-civ-spouse</td>\n",
              "      <td>Handlers-cleaners</td>\n",
              "      <td>Husband</td>\n",
              "      <td>Black</td>\n",
              "      <td>Male</td>\n",
              "      <td>0</td>\n",
              "      <td>0</td>\n",
              "      <td>40</td>\n",
              "      <td>United-States</td>\n",
              "      <td>&lt;=50K</td>\n",
              "    </tr>\n",
              "    <tr>\n",
              "      <th>4</th>\n",
              "      <td>28</td>\n",
              "      <td>Private</td>\n",
              "      <td>338409</td>\n",
              "      <td>Bachelors</td>\n",
              "      <td>13</td>\n",
              "      <td>Married-civ-spouse</td>\n",
              "      <td>Prof-specialty</td>\n",
              "      <td>Wife</td>\n",
              "      <td>Black</td>\n",
              "      <td>Female</td>\n",
              "      <td>0</td>\n",
              "      <td>0</td>\n",
              "      <td>40</td>\n",
              "      <td>Cuba</td>\n",
              "      <td>&lt;=50K</td>\n",
              "    </tr>\n",
              "  </tbody>\n",
              "</table>\n",
              "</div>"
            ],
            "text/plain": [
              "   age         workclass  fnlwgt  education  education_num  \\\n",
              "0   39         State-gov   77516  Bachelors             13   \n",
              "1   50  Self-emp-not-inc   83311  Bachelors             13   \n",
              "2   38           Private  215646    HS-grad              9   \n",
              "3   53           Private  234721       11th              7   \n",
              "4   28           Private  338409  Bachelors             13   \n",
              "\n",
              "       marital_status         occupation   relationship   race  gender  \\\n",
              "0       Never-married       Adm-clerical  Not-in-family  White    Male   \n",
              "1  Married-civ-spouse    Exec-managerial        Husband  White    Male   \n",
              "2            Divorced  Handlers-cleaners  Not-in-family  White    Male   \n",
              "3  Married-civ-spouse  Handlers-cleaners        Husband  Black    Male   \n",
              "4  Married-civ-spouse     Prof-specialty           Wife  Black  Female   \n",
              "\n",
              "   capital_gain  capital_loss  hours_per_week native_country income_bracket  \n",
              "0          2174             0              40  United-States          <=50K  \n",
              "1             0             0              13  United-States          <=50K  \n",
              "2             0             0              40  United-States          <=50K  \n",
              "3             0             0              40  United-States          <=50K  \n",
              "4             0             0              40           Cuba          <=50K  "
            ]
          },
          "metadata": {
            "tags": []
          },
          "execution_count": 13
        }
      ]
    },
    {
      "metadata": {
        "id": "nS_0d-gWWLPp",
        "colab_type": "code",
        "colab": {}
      },
      "cell_type": "code",
      "source": [
        "def easy_input_function(df, label_key, num_epochs, shuffle, batch_size):\n",
        "  label = df[label_key]\n",
        "  ds = tf.data.Dataset.from_tensor_slices((dict(df),label))\n",
        "\n",
        "  if shuffle:\n",
        "    ds = ds.shuffle(10000)\n",
        "\n",
        "  ds = ds.batch(batch_size).repeat(num_epochs)\n",
        "\n",
        "  return ds"
      ],
      "execution_count": 0,
      "outputs": []
    },
    {
      "metadata": {
        "id": "oASwAWIXWkYJ",
        "colab_type": "code",
        "colab": {
          "base_uri": "https://localhost:8080/",
          "height": 275
        },
        "outputId": "d440172d-bc95-4505-b376-6262d0cdaac7"
      },
      "cell_type": "code",
      "source": [
        "ds = easy_input_function(train_df, label_key='income_bracket', num_epochs=5, shuffle=True, batch_size=10)\n",
        "\n",
        "for feature_batch, label_batch in ds.take(1):\n",
        "  print('Some feature keys:', list(feature_batch.keys())[:5])\n",
        "  print()\n",
        "  print('A batch of Ages  :', feature_batch['age'])\n",
        "  print()\n",
        "  print('A batch of Labels:', label_batch )"
      ],
      "execution_count": 15,
      "outputs": [
        {
          "output_type": "stream",
          "text": [
            "WARNING:tensorflow:From /usr/local/lib/python3.6/dist-packages/tensorflow/python/data/ops/iterator_ops.py:532: colocate_with (from tensorflow.python.framework.ops) is deprecated and will be removed in a future version.\n",
            "Instructions for updating:\n",
            "Colocations handled automatically by placer.\n"
          ],
          "name": "stdout"
        },
        {
          "output_type": "stream",
          "text": [
            "WARNING: Logging before flag parsing goes to stderr.\n",
            "W1221 15:20:32.578798 140296227129216 deprecation.py:317] From /usr/local/lib/python3.6/dist-packages/tensorflow/python/data/ops/iterator_ops.py:532: colocate_with (from tensorflow.python.framework.ops) is deprecated and will be removed in a future version.\n",
            "Instructions for updating:\n",
            "Colocations handled automatically by placer.\n"
          ],
          "name": "stderr"
        },
        {
          "output_type": "stream",
          "text": [
            "Some feature keys: ['age', 'workclass', 'fnlwgt', 'education', 'education_num']\n",
            "\n",
            "A batch of Ages  : tf.Tensor([57 65 25 58 30 20 33 31 38 32], shape=(10,), dtype=int32)\n",
            "\n",
            "A batch of Labels: tf.Tensor(\n",
            "[b'>50K' b'>50K' b'<=50K' b'<=50K' b'<=50K' b'<=50K' b'<=50K' b'<=50K'\n",
            " b'<=50K' b'>50K'], shape=(10,), dtype=string)\n"
          ],
          "name": "stdout"
        }
      ]
    },
    {
      "metadata": {
        "id": "w2kdYa0YWo7v",
        "colab_type": "code",
        "colab": {
          "base_uri": "https://localhost:8080/",
          "height": 493
        },
        "outputId": "15d0c7c6-2911-45a4-de24-e47f1b8076bd"
      },
      "cell_type": "code",
      "source": [
        "import inspect\n",
        "print(inspect.getsource(census_dataset.input_fn))"
      ],
      "execution_count": 16,
      "outputs": [
        {
          "output_type": "stream",
          "text": [
            "def input_fn(data_file, num_epochs, shuffle, batch_size):\n",
            "  \"\"\"Generate an input function for the Estimator.\"\"\"\n",
            "  assert tf.gfile.Exists(data_file), (\n",
            "      '%s not found. Please make sure you have run census_dataset.py and '\n",
            "      'set the --data_dir argument to the correct path.' % data_file)\n",
            "\n",
            "  def parse_csv(value):\n",
            "    tf.logging.info('Parsing {}'.format(data_file))\n",
            "    columns = tf.decode_csv(value, record_defaults=_CSV_COLUMN_DEFAULTS)\n",
            "    features = dict(zip(_CSV_COLUMNS, columns))\n",
            "    labels = features.pop('income_bracket')\n",
            "    classes = tf.equal(labels, '>50K')  # binary classification\n",
            "    return features, classes\n",
            "\n",
            "  # Extract lines from input files using the Dataset API.\n",
            "  dataset = tf.data.TextLineDataset(data_file)\n",
            "\n",
            "  if shuffle:\n",
            "    dataset = dataset.shuffle(buffer_size=_NUM_EXAMPLES['train'])\n",
            "\n",
            "  dataset = dataset.map(parse_csv, num_parallel_calls=5)\n",
            "\n",
            "  # We call repeat after shuffling, rather than before, to prevent separate\n",
            "  # epochs from blending together.\n",
            "  dataset = dataset.repeat(num_epochs)\n",
            "  dataset = dataset.batch(batch_size)\n",
            "  return dataset\n",
            "\n"
          ],
          "name": "stdout"
        }
      ]
    },
    {
      "metadata": {
        "id": "4kwiebchW_Ae",
        "colab_type": "code",
        "colab": {
          "base_uri": "https://localhost:8080/",
          "height": 136
        },
        "outputId": "0aba47cb-c8b6-4997-e92e-531d76af92f5"
      },
      "cell_type": "code",
      "source": [
        "ds = census_dataset.input_fn(train_file, num_epochs=5, shuffle=True, batch_size=10)\n",
        "\n",
        "for feature_batch, label_batch in ds.take(1):\n",
        "  print('Feature keys:', list(feature_batch.keys())[:5])\n",
        "  print()\n",
        "  print('Age batch   :', feature_batch['age'])\n",
        "  print()\n",
        "  print('Label batch :', label_batch )"
      ],
      "execution_count": 17,
      "outputs": [
        {
          "output_type": "stream",
          "text": [
            "INFO:tensorflow:Parsing /tmp/census_data/adult.data\n"
          ],
          "name": "stdout"
        },
        {
          "output_type": "stream",
          "text": [
            "I1221 15:22:37.931008 140296227129216 census_dataset.py:167] Parsing /tmp/census_data/adult.data\n"
          ],
          "name": "stderr"
        },
        {
          "output_type": "stream",
          "text": [
            "Feature keys: ['age', 'workclass', 'fnlwgt', 'education', 'education_num']\n",
            "\n",
            "Age batch   : tf.Tensor([48 27 20 21 32 25 27 25 52 42], shape=(10,), dtype=int32)\n",
            "\n",
            "Label batch : tf.Tensor([False False False False False False False False  True False], shape=(10,), dtype=bool)\n"
          ],
          "name": "stdout"
        }
      ]
    },
    {
      "metadata": {
        "id": "fdJwgmg0XHje",
        "colab_type": "code",
        "colab": {}
      },
      "cell_type": "code",
      "source": [
        "import functools\n",
        "\n",
        "train_inpf = functools.partial(census_dataset.input_fn, train_file, num_epochs=2, shuffle=True, batch_size=64)\n",
        "test_inpf = functools.partial(census_dataset.input_fn, test_file, num_epochs=1, shuffle=False, batch_size=64)"
      ],
      "execution_count": 0,
      "outputs": []
    },
    {
      "metadata": {
        "id": "8Ye23N3IXRNt",
        "colab_type": "code",
        "colab": {}
      },
      "cell_type": "code",
      "source": [
        "age = fc.numeric_column('age')"
      ],
      "execution_count": 0,
      "outputs": []
    },
    {
      "metadata": {
        "id": "VTYSo0NjYC3a",
        "colab_type": "code",
        "colab": {
          "base_uri": "https://localhost:8080/",
          "height": 615
        },
        "outputId": "a6349ffe-4f68-4741-d5b8-39977bdc303a"
      },
      "cell_type": "code",
      "source": [
        "fc.input_layer(feature_batch, [age]).numpy()"
      ],
      "execution_count": 23,
      "outputs": [
        {
          "output_type": "stream",
          "text": [
            "WARNING:tensorflow:From /usr/local/lib/python3.6/dist-packages/tensorflow/python/feature_column/feature_column.py:205: NumericColumn._get_dense_tensor (from tensorflow.python.feature_column.feature_column_v2) is deprecated and will be removed after 2018-11-30.\n",
            "Instructions for updating:\n",
            "The old _FeatureColumn APIs are being deprecated. Please use the new FeatureColumn APIs instead.\n"
          ],
          "name": "stdout"
        },
        {
          "output_type": "stream",
          "text": [
            "W1221 15:27:36.982726 140296227129216 deprecation.py:317] From /usr/local/lib/python3.6/dist-packages/tensorflow/python/feature_column/feature_column.py:205: NumericColumn._get_dense_tensor (from tensorflow.python.feature_column.feature_column_v2) is deprecated and will be removed after 2018-11-30.\n",
            "Instructions for updating:\n",
            "The old _FeatureColumn APIs are being deprecated. Please use the new FeatureColumn APIs instead.\n"
          ],
          "name": "stderr"
        },
        {
          "output_type": "stream",
          "text": [
            "WARNING:tensorflow:From /usr/local/lib/python3.6/dist-packages/tensorflow/python/feature_column/feature_column.py:2121: NumericColumn._transform_feature (from tensorflow.python.feature_column.feature_column_v2) is deprecated and will be removed after 2018-11-30.\n",
            "Instructions for updating:\n",
            "The old _FeatureColumn APIs are being deprecated. Please use the new FeatureColumn APIs instead.\n"
          ],
          "name": "stdout"
        },
        {
          "output_type": "stream",
          "text": [
            "W1221 15:27:36.990373 140296227129216 deprecation.py:317] From /usr/local/lib/python3.6/dist-packages/tensorflow/python/feature_column/feature_column.py:2121: NumericColumn._transform_feature (from tensorflow.python.feature_column.feature_column_v2) is deprecated and will be removed after 2018-11-30.\n",
            "Instructions for updating:\n",
            "The old _FeatureColumn APIs are being deprecated. Please use the new FeatureColumn APIs instead.\n"
          ],
          "name": "stderr"
        },
        {
          "output_type": "stream",
          "text": [
            "WARNING:tensorflow:From /usr/local/lib/python3.6/dist-packages/tensorflow/python/feature_column/feature_column_v2.py:2705: to_float (from tensorflow.python.ops.math_ops) is deprecated and will be removed in a future version.\n",
            "Instructions for updating:\n",
            "Use tf.cast instead.\n"
          ],
          "name": "stdout"
        },
        {
          "output_type": "stream",
          "text": [
            "W1221 15:27:36.999093 140296227129216 deprecation.py:317] From /usr/local/lib/python3.6/dist-packages/tensorflow/python/feature_column/feature_column_v2.py:2705: to_float (from tensorflow.python.ops.math_ops) is deprecated and will be removed in a future version.\n",
            "Instructions for updating:\n",
            "Use tf.cast instead.\n"
          ],
          "name": "stderr"
        },
        {
          "output_type": "stream",
          "text": [
            "WARNING:tensorflow:From /usr/local/lib/python3.6/dist-packages/tensorflow/python/feature_column/feature_column.py:206: NumericColumn._variable_shape (from tensorflow.python.feature_column.feature_column_v2) is deprecated and will be removed after 2018-11-30.\n",
            "Instructions for updating:\n",
            "The old _FeatureColumn APIs are being deprecated. Please use the new FeatureColumn APIs instead.\n"
          ],
          "name": "stdout"
        },
        {
          "output_type": "stream",
          "text": [
            "W1221 15:27:37.003428 140296227129216 deprecation.py:317] From /usr/local/lib/python3.6/dist-packages/tensorflow/python/feature_column/feature_column.py:206: NumericColumn._variable_shape (from tensorflow.python.feature_column.feature_column_v2) is deprecated and will be removed after 2018-11-30.\n",
            "Instructions for updating:\n",
            "The old _FeatureColumn APIs are being deprecated. Please use the new FeatureColumn APIs instead.\n"
          ],
          "name": "stderr"
        },
        {
          "output_type": "execute_result",
          "data": {
            "text/plain": [
              "array([[48.],\n",
              "       [27.],\n",
              "       [20.],\n",
              "       [21.],\n",
              "       [32.],\n",
              "       [25.],\n",
              "       [27.],\n",
              "       [25.],\n",
              "       [52.],\n",
              "       [42.]], dtype=float32)"
            ]
          },
          "metadata": {
            "tags": []
          },
          "execution_count": 23
        }
      ]
    },
    {
      "metadata": {
        "id": "2xAkPH7HYQkr",
        "colab_type": "code",
        "colab": {
          "base_uri": "https://localhost:8080/",
          "height": 54
        },
        "outputId": "db477f1d-faaa-4f43-d6ba-75ffadd80a7a"
      },
      "cell_type": "code",
      "source": [
        "classifier = tf.estimator.LinearClassifier(feature_columns=[age])\n",
        "classifier.train(train_inpf)\n",
        "result = classifier.evaluate(test_inpf)\n",
        "\n",
        "clear_output()  # used for display in notebook\n",
        "print(result)"
      ],
      "execution_count": 24,
      "outputs": [
        {
          "output_type": "stream",
          "text": [
            "{'accuracy': 0.76377374, 'accuracy_baseline': 0.76377374, 'auc': 0.67829895, 'auc_precision_recall': 0.31136683, 'average_loss': 0.53943634, 'label/mean': 0.23622628, 'loss': 34.441425, 'precision': 0.0, 'prediction/mean': 0.17431594, 'recall': 0.0, 'global_step': 1018}\n"
          ],
          "name": "stdout"
        }
      ]
    },
    {
      "metadata": {
        "id": "za8QQjtrYYcq",
        "colab_type": "code",
        "colab": {
          "base_uri": "https://localhost:8080/",
          "height": 187
        },
        "outputId": "1271919a-47b8-415d-d030-6a545c896d83"
      },
      "cell_type": "code",
      "source": [
        "education_num = tf.feature_column.numeric_column('education_num')\n",
        "capital_gain = tf.feature_column.numeric_column('capital_gain')\n",
        "capital_loss = tf.feature_column.numeric_column('capital_loss')\n",
        "hours_per_week = tf.feature_column.numeric_column('hours_per_week')\n",
        "\n",
        "my_numeric_columns = [age,education_num, capital_gain, capital_loss, hours_per_week]\n",
        "\n",
        "fc.input_layer(feature_batch, my_numeric_columns).numpy()"
      ],
      "execution_count": 25,
      "outputs": [
        {
          "output_type": "execute_result",
          "data": {
            "text/plain": [
              "array([[  48., 3325.,    0.,   10.,   60.],\n",
              "       [  27.,    0.,    0.,    9.,   38.],\n",
              "       [  20.,    0.,    0.,   11.,   35.],\n",
              "       [  21.,    0.,    0.,    9.,   36.],\n",
              "       [  32.,    0.,    0.,   11.,   45.],\n",
              "       [  25.,    0.,    0.,   14.,   37.],\n",
              "       [  27.,    0.,    0.,   13.,   40.],\n",
              "       [  25.,    0.,    0.,   13.,   50.],\n",
              "       [  52.,    0., 1848.,   14.,   40.],\n",
              "       [  42.,    0.,    0.,   11.,   40.]], dtype=float32)"
            ]
          },
          "metadata": {
            "tags": []
          },
          "execution_count": 25
        }
      ]
    },
    {
      "metadata": {
        "id": "549GES4oYpIp",
        "colab_type": "code",
        "colab": {
          "base_uri": "https://localhost:8080/",
          "height": 204
        },
        "outputId": "3ebacd50-4457-4570-be1a-20e064675136"
      },
      "cell_type": "code",
      "source": [
        "classifier = tf.estimator.LinearClassifier(feature_columns=my_numeric_columns)\n",
        "classifier.train(train_inpf)\n",
        "\n",
        "result = classifier.evaluate(test_inpf)\n",
        "\n",
        "clear_output()\n",
        "\n",
        "for key,value in sorted(result.items()):\n",
        "  print('%s: %s' % (key, value))"
      ],
      "execution_count": 26,
      "outputs": [
        {
          "output_type": "stream",
          "text": [
            "accuracy: 0.781893\n",
            "accuracy_baseline: 0.76377374\n",
            "auc: 0.73422915\n",
            "auc_precision_recall: 0.51914424\n",
            "average_loss: 1.5026981\n",
            "global_step: 1018\n",
            "label/mean: 0.23622628\n",
            "loss: 95.942856\n",
            "precision: 0.5710843\n",
            "prediction/mean: 0.26481512\n",
            "recall: 0.30811232\n"
          ],
          "name": "stdout"
        }
      ]
    },
    {
      "metadata": {
        "id": "Nmtdt3ewYtcQ",
        "colab_type": "code",
        "colab": {}
      },
      "cell_type": "code",
      "source": [
        "relationship = fc.categorical_column_with_vocabulary_list(\n",
        "    'relationship',\n",
        "    ['Husband', 'Not-in-family', 'Wife', 'Own-child', 'Unmarried', 'Other-relative'])"
      ],
      "execution_count": 0,
      "outputs": []
    },
    {
      "metadata": {
        "id": "B2VPaW1KZC-Q",
        "colab_type": "code",
        "colab": {
          "base_uri": "https://localhost:8080/",
          "height": 938
        },
        "outputId": "2204e7f3-f604-491b-843e-4a1f1778d55f"
      },
      "cell_type": "code",
      "source": [
        "fc.input_layer(feature_batch, [age, fc.indicator_column(relationship)])"
      ],
      "execution_count": 28,
      "outputs": [
        {
          "output_type": "stream",
          "text": [
            "WARNING:tensorflow:From /usr/local/lib/python3.6/dist-packages/tensorflow/python/feature_column/feature_column.py:205: IndicatorColumn._get_dense_tensor (from tensorflow.python.feature_column.feature_column_v2) is deprecated and will be removed after 2018-11-30.\n",
            "Instructions for updating:\n",
            "The old _FeatureColumn APIs are being deprecated. Please use the new FeatureColumn APIs instead.\n"
          ],
          "name": "stdout"
        },
        {
          "output_type": "stream",
          "text": [
            "W1221 15:31:53.831948 140296227129216 deprecation.py:317] From /usr/local/lib/python3.6/dist-packages/tensorflow/python/feature_column/feature_column.py:205: IndicatorColumn._get_dense_tensor (from tensorflow.python.feature_column.feature_column_v2) is deprecated and will be removed after 2018-11-30.\n",
            "Instructions for updating:\n",
            "The old _FeatureColumn APIs are being deprecated. Please use the new FeatureColumn APIs instead.\n"
          ],
          "name": "stderr"
        },
        {
          "output_type": "stream",
          "text": [
            "WARNING:tensorflow:From /usr/local/lib/python3.6/dist-packages/tensorflow/python/feature_column/feature_column.py:2121: IndicatorColumn._transform_feature (from tensorflow.python.feature_column.feature_column_v2) is deprecated and will be removed after 2018-11-30.\n",
            "Instructions for updating:\n",
            "The old _FeatureColumn APIs are being deprecated. Please use the new FeatureColumn APIs instead.\n"
          ],
          "name": "stdout"
        },
        {
          "output_type": "stream",
          "text": [
            "W1221 15:31:53.836259 140296227129216 deprecation.py:317] From /usr/local/lib/python3.6/dist-packages/tensorflow/python/feature_column/feature_column.py:2121: IndicatorColumn._transform_feature (from tensorflow.python.feature_column.feature_column_v2) is deprecated and will be removed after 2018-11-30.\n",
            "Instructions for updating:\n",
            "The old _FeatureColumn APIs are being deprecated. Please use the new FeatureColumn APIs instead.\n"
          ],
          "name": "stderr"
        },
        {
          "output_type": "stream",
          "text": [
            "WARNING:tensorflow:From /usr/local/lib/python3.6/dist-packages/tensorflow/python/feature_column/feature_column_v2.py:4297: VocabularyListCategoricalColumn._get_sparse_tensors (from tensorflow.python.feature_column.feature_column_v2) is deprecated and will be removed after 2018-11-30.\n",
            "Instructions for updating:\n",
            "The old _FeatureColumn APIs are being deprecated. Please use the new FeatureColumn APIs instead.\n"
          ],
          "name": "stdout"
        },
        {
          "output_type": "stream",
          "text": [
            "W1221 15:31:53.840970 140296227129216 deprecation.py:317] From /usr/local/lib/python3.6/dist-packages/tensorflow/python/feature_column/feature_column_v2.py:4297: VocabularyListCategoricalColumn._get_sparse_tensors (from tensorflow.python.feature_column.feature_column_v2) is deprecated and will be removed after 2018-11-30.\n",
            "Instructions for updating:\n",
            "The old _FeatureColumn APIs are being deprecated. Please use the new FeatureColumn APIs instead.\n"
          ],
          "name": "stderr"
        },
        {
          "output_type": "stream",
          "text": [
            "WARNING:tensorflow:From /usr/local/lib/python3.6/dist-packages/tensorflow/python/feature_column/feature_column.py:2121: VocabularyListCategoricalColumn._transform_feature (from tensorflow.python.feature_column.feature_column_v2) is deprecated and will be removed after 2018-11-30.\n",
            "Instructions for updating:\n",
            "The old _FeatureColumn APIs are being deprecated. Please use the new FeatureColumn APIs instead.\n"
          ],
          "name": "stdout"
        },
        {
          "output_type": "stream",
          "text": [
            "W1221 15:31:53.844522 140296227129216 deprecation.py:317] From /usr/local/lib/python3.6/dist-packages/tensorflow/python/feature_column/feature_column.py:2121: VocabularyListCategoricalColumn._transform_feature (from tensorflow.python.feature_column.feature_column_v2) is deprecated and will be removed after 2018-11-30.\n",
            "Instructions for updating:\n",
            "The old _FeatureColumn APIs are being deprecated. Please use the new FeatureColumn APIs instead.\n"
          ],
          "name": "stderr"
        },
        {
          "output_type": "stream",
          "text": [
            "WARNING:tensorflow:From /usr/local/lib/python3.6/dist-packages/tensorflow/python/ops/lookup_ops.py:1137: to_int64 (from tensorflow.python.ops.math_ops) is deprecated and will be removed in a future version.\n",
            "Instructions for updating:\n",
            "Use tf.cast instead.\n"
          ],
          "name": "stdout"
        },
        {
          "output_type": "stream",
          "text": [
            "W1221 15:31:53.849814 140296227129216 deprecation.py:317] From /usr/local/lib/python3.6/dist-packages/tensorflow/python/ops/lookup_ops.py:1137: to_int64 (from tensorflow.python.ops.math_ops) is deprecated and will be removed in a future version.\n",
            "Instructions for updating:\n",
            "Use tf.cast instead.\n"
          ],
          "name": "stderr"
        },
        {
          "output_type": "stream",
          "text": [
            "WARNING:tensorflow:From /usr/local/lib/python3.6/dist-packages/tensorflow/python/feature_column/feature_column_v2.py:4268: IndicatorColumn._variable_shape (from tensorflow.python.feature_column.feature_column_v2) is deprecated and will be removed after 2018-11-30.\n",
            "Instructions for updating:\n",
            "The old _FeatureColumn APIs are being deprecated. Please use the new FeatureColumn APIs instead.\n"
          ],
          "name": "stdout"
        },
        {
          "output_type": "stream",
          "text": [
            "W1221 15:31:53.854045 140296227129216 deprecation.py:317] From /usr/local/lib/python3.6/dist-packages/tensorflow/python/feature_column/feature_column_v2.py:4268: IndicatorColumn._variable_shape (from tensorflow.python.feature_column.feature_column_v2) is deprecated and will be removed after 2018-11-30.\n",
            "Instructions for updating:\n",
            "The old _FeatureColumn APIs are being deprecated. Please use the new FeatureColumn APIs instead.\n"
          ],
          "name": "stderr"
        },
        {
          "output_type": "stream",
          "text": [
            "WARNING:tensorflow:From /usr/local/lib/python3.6/dist-packages/tensorflow/python/feature_column/feature_column_v2.py:4323: VocabularyListCategoricalColumn._num_buckets (from tensorflow.python.feature_column.feature_column_v2) is deprecated and will be removed after 2018-11-30.\n",
            "Instructions for updating:\n",
            "The old _FeatureColumn APIs are being deprecated. Please use the new FeatureColumn APIs instead.\n"
          ],
          "name": "stdout"
        },
        {
          "output_type": "stream",
          "text": [
            "W1221 15:31:53.856738 140296227129216 deprecation.py:317] From /usr/local/lib/python3.6/dist-packages/tensorflow/python/feature_column/feature_column_v2.py:4323: VocabularyListCategoricalColumn._num_buckets (from tensorflow.python.feature_column.feature_column_v2) is deprecated and will be removed after 2018-11-30.\n",
            "Instructions for updating:\n",
            "The old _FeatureColumn APIs are being deprecated. Please use the new FeatureColumn APIs instead.\n"
          ],
          "name": "stderr"
        },
        {
          "output_type": "execute_result",
          "data": {
            "text/plain": [
              "<tf.Tensor: id=4866, shape=(10, 7), dtype=float32, numpy=\n",
              "array([[48.,  0.,  1.,  0.,  0.,  0.,  0.],\n",
              "       [27.,  0.,  1.,  0.,  0.,  0.,  0.],\n",
              "       [20.,  0.,  1.,  0.,  0.,  0.,  0.],\n",
              "       [21.,  0.,  0.,  0.,  1.,  0.,  0.],\n",
              "       [32.,  0.,  1.,  0.,  0.,  0.,  0.],\n",
              "       [25.,  0.,  1.,  0.,  0.,  0.,  0.],\n",
              "       [27.,  0.,  0.,  0.,  1.,  0.,  0.],\n",
              "       [25.,  0.,  0.,  0.,  1.,  0.,  0.],\n",
              "       [52.,  0.,  0.,  1.,  0.,  0.,  0.],\n",
              "       [42.,  0.,  0.,  0.,  0.,  1.,  0.]], dtype=float32)>"
            ]
          },
          "metadata": {
            "tags": []
          },
          "execution_count": 28
        }
      ]
    },
    {
      "metadata": {
        "id": "7c3OufKGZPRm",
        "colab_type": "code",
        "colab": {}
      },
      "cell_type": "code",
      "source": [
        "occupation = tf.feature_column.categorical_column_with_hash_bucket(\n",
        "    'occupation', hash_bucket_size=1000)"
      ],
      "execution_count": 0,
      "outputs": []
    },
    {
      "metadata": {
        "id": "tKK_UUwIZUPP",
        "colab_type": "code",
        "colab": {
          "base_uri": "https://localhost:8080/",
          "height": 187
        },
        "outputId": "0a0ab714-6d70-4722-e407-da529b513af7"
      },
      "cell_type": "code",
      "source": [
        "for item in feature_batch['occupation'].numpy():\n",
        "    print(item.decode())"
      ],
      "execution_count": 30,
      "outputs": [
        {
          "output_type": "stream",
          "text": [
            "Sales\n",
            "Adm-clerical\n",
            "Sales\n",
            "Sales\n",
            "Craft-repair\n",
            "Other-service\n",
            "Prof-specialty\n",
            "Exec-managerial\n",
            "Prof-specialty\n",
            "Prof-specialty\n"
          ],
          "name": "stdout"
        }
      ]
    },
    {
      "metadata": {
        "id": "079tdBuBZXP_",
        "colab_type": "code",
        "colab": {
          "base_uri": "https://localhost:8080/",
          "height": 360
        },
        "outputId": "e2fae8e6-1b68-4a01-b91a-d51e4642c8bb"
      },
      "cell_type": "code",
      "source": [
        "occupation_result = fc.input_layer(feature_batch, [fc.indicator_column(occupation)])\n",
        "\n",
        "occupation_result.numpy().shape"
      ],
      "execution_count": 31,
      "outputs": [
        {
          "output_type": "stream",
          "text": [
            "WARNING:tensorflow:From /usr/local/lib/python3.6/dist-packages/tensorflow/python/feature_column/feature_column_v2.py:4297: HashedCategoricalColumn._get_sparse_tensors (from tensorflow.python.feature_column.feature_column_v2) is deprecated and will be removed after 2018-11-30.\n",
            "Instructions for updating:\n",
            "The old _FeatureColumn APIs are being deprecated. Please use the new FeatureColumn APIs instead.\n"
          ],
          "name": "stdout"
        },
        {
          "output_type": "stream",
          "text": [
            "W1221 15:32:53.895889 140296227129216 deprecation.py:317] From /usr/local/lib/python3.6/dist-packages/tensorflow/python/feature_column/feature_column_v2.py:4297: HashedCategoricalColumn._get_sparse_tensors (from tensorflow.python.feature_column.feature_column_v2) is deprecated and will be removed after 2018-11-30.\n",
            "Instructions for updating:\n",
            "The old _FeatureColumn APIs are being deprecated. Please use the new FeatureColumn APIs instead.\n"
          ],
          "name": "stderr"
        },
        {
          "output_type": "stream",
          "text": [
            "WARNING:tensorflow:From /usr/local/lib/python3.6/dist-packages/tensorflow/python/feature_column/feature_column.py:2121: HashedCategoricalColumn._transform_feature (from tensorflow.python.feature_column.feature_column_v2) is deprecated and will be removed after 2018-11-30.\n",
            "Instructions for updating:\n",
            "The old _FeatureColumn APIs are being deprecated. Please use the new FeatureColumn APIs instead.\n"
          ],
          "name": "stdout"
        },
        {
          "output_type": "stream",
          "text": [
            "W1221 15:32:53.900411 140296227129216 deprecation.py:317] From /usr/local/lib/python3.6/dist-packages/tensorflow/python/feature_column/feature_column.py:2121: HashedCategoricalColumn._transform_feature (from tensorflow.python.feature_column.feature_column_v2) is deprecated and will be removed after 2018-11-30.\n",
            "Instructions for updating:\n",
            "The old _FeatureColumn APIs are being deprecated. Please use the new FeatureColumn APIs instead.\n"
          ],
          "name": "stderr"
        },
        {
          "output_type": "stream",
          "text": [
            "WARNING:tensorflow:From /usr/local/lib/python3.6/dist-packages/tensorflow/python/feature_column/feature_column_v2.py:4323: HashedCategoricalColumn._num_buckets (from tensorflow.python.feature_column.feature_column_v2) is deprecated and will be removed after 2018-11-30.\n",
            "Instructions for updating:\n",
            "The old _FeatureColumn APIs are being deprecated. Please use the new FeatureColumn APIs instead.\n"
          ],
          "name": "stdout"
        },
        {
          "output_type": "stream",
          "text": [
            "W1221 15:32:53.908277 140296227129216 deprecation.py:317] From /usr/local/lib/python3.6/dist-packages/tensorflow/python/feature_column/feature_column_v2.py:4323: HashedCategoricalColumn._num_buckets (from tensorflow.python.feature_column.feature_column_v2) is deprecated and will be removed after 2018-11-30.\n",
            "Instructions for updating:\n",
            "The old _FeatureColumn APIs are being deprecated. Please use the new FeatureColumn APIs instead.\n"
          ],
          "name": "stderr"
        },
        {
          "output_type": "execute_result",
          "data": {
            "text/plain": [
              "(10, 1000)"
            ]
          },
          "metadata": {
            "tags": []
          },
          "execution_count": 31
        }
      ]
    },
    {
      "metadata": {
        "id": "amutVK5jZd8G",
        "colab_type": "code",
        "colab": {
          "base_uri": "https://localhost:8080/",
          "height": 34
        },
        "outputId": "fe56c1ef-6fea-418c-e297-477b2f4407c9"
      },
      "cell_type": "code",
      "source": [
        "tf.argmax(occupation_result, axis=1).numpy()"
      ],
      "execution_count": 32,
      "outputs": [
        {
          "output_type": "execute_result",
          "data": {
            "text/plain": [
              "array([631,  96, 631, 631, 466, 527, 979, 800, 979, 979])"
            ]
          },
          "metadata": {
            "tags": []
          },
          "execution_count": 32
        }
      ]
    },
    {
      "metadata": {
        "id": "CE3u-iXBZh2e",
        "colab_type": "code",
        "colab": {}
      },
      "cell_type": "code",
      "source": [
        "education = tf.feature_column.categorical_column_with_vocabulary_list(\n",
        "    'education', [\n",
        "        'Bachelors', 'HS-grad', '11th', 'Masters', '9th', 'Some-college',\n",
        "        'Assoc-acdm', 'Assoc-voc', '7th-8th', 'Doctorate', 'Prof-school',\n",
        "        '5th-6th', '10th', '1st-4th', 'Preschool', '12th'])\n",
        "\n",
        "marital_status = tf.feature_column.categorical_column_with_vocabulary_list(\n",
        "    'marital_status', [\n",
        "        'Married-civ-spouse', 'Divorced', 'Married-spouse-absent',\n",
        "        'Never-married', 'Separated', 'Married-AF-spouse', 'Widowed'])\n",
        "\n",
        "workclass = tf.feature_column.categorical_column_with_vocabulary_list(\n",
        "    'workclass', [\n",
        "        'Self-emp-not-inc', 'Private', 'State-gov', 'Federal-gov',\n",
        "        'Local-gov', '?', 'Self-emp-inc', 'Without-pay', 'Never-worked'])\n",
        "\n",
        "\n",
        "my_categorical_columns = [relationship, occupation, education, marital_status, workclass]"
      ],
      "execution_count": 0,
      "outputs": []
    },
    {
      "metadata": {
        "id": "Lj1_Y0OHZ7UI",
        "colab_type": "code",
        "colab": {
          "base_uri": "https://localhost:8080/",
          "height": 204
        },
        "outputId": "35ac5ebe-453f-485a-9cee-c17dc7f843ea"
      },
      "cell_type": "code",
      "source": [
        "classifier = tf.estimator.LinearClassifier(feature_columns=my_numeric_columns+my_categorical_columns)\n",
        "classifier.train(train_inpf)\n",
        "result = classifier.evaluate(test_inpf)\n",
        "\n",
        "clear_output()\n",
        "\n",
        "for key,value in sorted(result.items()):\n",
        "  print('%s: %s' % (key, value))"
      ],
      "execution_count": 34,
      "outputs": [
        {
          "output_type": "stream",
          "text": [
            "accuracy: 0.84687674\n",
            "accuracy_baseline: 0.76377374\n",
            "auc: 0.89680874\n",
            "auc_precision_recall: 0.74455965\n",
            "average_loss: 0.35541096\n",
            "global_step: 1018\n",
            "label/mean: 0.23622628\n",
            "loss: 22.691944\n",
            "precision: 0.70796186\n",
            "prediction/mean: 0.22644852\n",
            "recall: 0.59880394\n"
          ],
          "name": "stdout"
        }
      ]
    },
    {
      "metadata": {
        "id": "hJQAGR-1Z-mE",
        "colab_type": "code",
        "colab": {}
      },
      "cell_type": "code",
      "source": [
        ""
      ],
      "execution_count": 0,
      "outputs": []
    }
  ]
}